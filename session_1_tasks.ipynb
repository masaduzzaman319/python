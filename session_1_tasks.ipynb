{
  "nbformat": 4,
  "nbformat_minor": 0,
  "metadata": {
    "colab": {
      "provenance": [],
      "authorship_tag": "ABX9TyNQNnnhNtJMU39HqTXmiqVQ",
      "include_colab_link": true
    },
    "kernelspec": {
      "name": "python3",
      "display_name": "Python 3"
    },
    "language_info": {
      "name": "python"
    }
  },
  "cells": [
    {
      "cell_type": "markdown",
      "metadata": {
        "id": "view-in-github",
        "colab_type": "text"
      },
      "source": [
        "<a href=\"https://colab.research.google.com/github/masaduzzaman319/python/blob/master/session_1_tasks.ipynb\" target=\"_parent\"><img src=\"https://colab.research.google.com/assets/colab-badge.svg\" alt=\"Open In Colab\"/></a>"
      ]
    },
    {
      "cell_type": "markdown",
      "source": [
        "**bold text**# Task : Session 1\n",
        "Solve these questions own your own and try to test yourself what you have learned in the session.\n",
        "\n",
        "Happy Learning!"
      ],
      "metadata": {
        "id": "cGAk-VQMJ5QF"
      }
    },
    {
      "cell_type": "markdown",
      "source": [
        "### Q1 :- Print the given strings as per stated format.\n",
        "\n",
        "**Given strings**:\n",
        "```\n",
        "\"Data\" \"Science\" \"Mentorship\" \"Program\"\n",
        "\"By\" \"CampusX\"\n",
        "```\n",
        "**Output**:\n",
        "```\n",
        "Data-Science-Mentorship-Program-started-By-CampusX\n",
        "```\n",
        "\n",
        "Concept- [Seperator and End]"
      ],
      "metadata": {
        "id": "S2qxbwjeKGfU"
      }
    },
    {
      "cell_type": "code",
      "source": [
        "# Write your code here\n",
        "print(\"Data\",\"Science\",\"Mentorship\",\"Program\",\"started\",\"By\",\"CampusX\",sep = \"-\")"
      ],
      "metadata": {
        "id": "rcEathPCKAyF",
        "colab": {
          "base_uri": "https://localhost:8080/"
        },
        "outputId": "0bb13f7e-e9b7-4324-af8a-ccae274555b5"
      },
      "execution_count": null,
      "outputs": [
        {
          "output_type": "stream",
          "name": "stdout",
          "text": [
            "Data-Science-Mentorship-Program-started-By-CampusX\n"
          ]
        }
      ]
    },
    {
      "cell_type": "markdown",
      "source": [
        "### Q2:- Write a program that will convert celsius value to fahrenheit."
      ],
      "metadata": {
        "id": "iidxfjO0KQia"
      }
    },
    {
      "cell_type": "code",
      "source": [
        "# Write your code here\n",
        "#c/5=(f-32)/9\n",
        "#9c=5f-160\n",
        "#f=9/5c+32\n",
        "c_input = int(input(\"Enter the tempperature in celcious: \"))\n",
        "f=((9/5)*c_input+32)\n",
        "print(f\"{c_input}°C is equil to {f}°F\")"
      ],
      "metadata": {
        "id": "Wvpr3BswKNqC",
        "colab": {
          "base_uri": "https://localhost:8080/"
        },
        "outputId": "62ccc02e-ccd2-4ad1-d394-dcbf0d95605b"
      },
      "execution_count": null,
      "outputs": [
        {
          "output_type": "stream",
          "name": "stdout",
          "text": [
            "Enter the tempperature in celcious: 0\n",
            "0°C is equil to 32.0°F\n"
          ]
        }
      ]
    },
    {
      "cell_type": "markdown",
      "source": [
        "### Q3:- Take 2 numbers as input from the user.Write a program to swap the numbers without using any special python syntax."
      ],
      "metadata": {
        "id": "vLJtVTqMKWBj"
      }
    },
    {
      "cell_type": "code",
      "source": [
        "# Write your code here\n",
        "input_one = int(input(\"Enter first input: \"))\n",
        "input_two = int(input(\"Enter seconf input: \"))\n",
        "print(input_one)\n",
        "print(input_two)\n",
        "temp = input_one\n",
        "input_one = input_two\n",
        "input_two = temp\n",
        "\n",
        "print(input_one)\n",
        "print(input_two)\n"
      ],
      "metadata": {
        "id": "HlzMQ8oHKZsL",
        "colab": {
          "base_uri": "https://localhost:8080/"
        },
        "outputId": "3fce68d7-7d47-4dd8-e3f2-75e8362c6914"
      },
      "execution_count": null,
      "outputs": [
        {
          "output_type": "stream",
          "name": "stdout",
          "text": [
            "Enter first input: 111\n",
            "Enter seconf input: 222\n",
            "111\n",
            "222\n",
            "222\n",
            "111\n"
          ]
        }
      ]
    },
    {
      "cell_type": "markdown",
      "source": [
        "### Q5:- Write a program to find the simple interest when the value of principle,rate of interest and time period is provided by the user.\n"
      ],
      "metadata": {
        "id": "-8fJnB9VKb8m"
      }
    },
    {
      "cell_type": "code",
      "source": [
        "# Write your code here\n",
        "value_of_principle = int(input(\"Enter The amount of value of principle: \"))\n",
        "rate_of_interest = int(input(\"Enter The amount of rate of interest: \"))\n",
        "time_period = int(input(\"Enter The time period: \"))\n",
        "\n",
        "simple_interest = (value_of_principle*rate_of_interest*time_period)/100\n",
        "print(\"Simple Interest\",simple_interest)"
      ],
      "metadata": {
        "id": "8CpgoSbsKekz",
        "colab": {
          "base_uri": "https://localhost:8080/"
        },
        "outputId": "9cf63442-14ae-409c-9ce5-5caba5a55cd5"
      },
      "execution_count": null,
      "outputs": [
        {
          "output_type": "stream",
          "name": "stdout",
          "text": [
            "Enter The amount of value of principle: 1000\n",
            "Enter The amount of rate of interest: 5\n",
            "Enter The time period: 2\n",
            "Simple Interest 100.0\n"
          ]
        }
      ]
    },
    {
      "cell_type": "markdown",
      "source": [
        "### Q6:- Write a program that will tell the number of dogs and chicken are there when the user will provide the value of total heads and legs.\n",
        "\n",
        "For example:\n",
        "Input:\n",
        "heads -> 4\n",
        "legs -> 12\n",
        "<br>\n",
        "Output:\n",
        "dogs -> 2\n",
        "chicken -> 2"
      ],
      "metadata": {
        "id": "WLYQ-YC_Kjo6"
      }
    },
    {
      "cell_type": "code",
      "source": [
        "# Write your code here\n",
        "#D = number of dogs\n",
        "#C = number of chickens\n",
        "#H = total number of heads\n",
        "#L = total number of legs\n",
        "\n",
        "\n",
        "#Each animal has one head, so:\n",
        "#D + C = H — (1)\n",
        "\n",
        "#Dogs have 4 legs, chickens have 2 legs, so:\n",
        "#4D + 2C = L — (2)\n",
        "\n",
        "#From equation (1), we get:\n",
        "#C = H - D\n",
        "\n",
        "\n",
        "#Substitute in (2):\n",
        "#4D + 2(H - D) = L\n",
        "#4D + 2H - 2D = L\n",
        "#(4D - 2D) + 2H = L\n",
        "#2D + 2H = L\n",
        "#2D = L - 2H\n",
        "#D = (L - 2H) / 2\n",
        "\n",
        "#Then, from (1):\n",
        "#C = H - D = H - (L - 2H)/2 = (2H - (L - 2H)) / 2 = (4H - L) / 2\n",
        "\n",
        "\n",
        "H = int(input(\"Enter the Number of head: \"))\n",
        "L = int(input(\"Enter the number of legs: \"))\n",
        "D = (L-2*H)/2\n",
        "C = (4*H-L)/2\n",
        "print(\"dogs ->\",D)\n",
        "print(\"chicken ->\",C)"
      ],
      "metadata": {
        "id": "EgEfPXYoKoXq",
        "colab": {
          "base_uri": "https://localhost:8080/"
        },
        "outputId": "088d4623-79e9-462e-81f5-554b73380cc8"
      },
      "execution_count": null,
      "outputs": [
        {
          "output_type": "stream",
          "name": "stdout",
          "text": [
            "Enter the Number of head: 8\n",
            "Enter the number of legs: 22\n",
            "dogs -> 3.0\n",
            "chicken -> 5.0\n"
          ]
        }
      ]
    },
    {
      "cell_type": "markdown",
      "source": [
        "### Q7:- Write a program to find the sum of squares of first n natural numbers where n will be provided by the user."
      ],
      "metadata": {
        "id": "YBnDDLvXKqxC"
      }
    },
    {
      "cell_type": "code",
      "source": [
        "# Write your code here\n",
        "n = int(input(\"Enter the number n: \"))\n",
        "sum_of_squares_of_first_n_natural_numbers = (n*(n+1)*(2*n+1))/6\n",
        "print(\"sum of squares of first n natural numbers: \",sum_of_squares_of_first_n_natural_numbers)"
      ],
      "metadata": {
        "id": "azojd9ySKudk",
        "colab": {
          "base_uri": "https://localhost:8080/"
        },
        "outputId": "c8e3d10a-4af4-4c8f-f388-40afd7ad6007"
      },
      "execution_count": null,
      "outputs": [
        {
          "output_type": "stream",
          "name": "stdout",
          "text": [
            "Enter the number n: 5\n",
            "sum of squares of first n natural numbers:  55.0\n"
          ]
        }
      ]
    },
    {
      "cell_type": "markdown",
      "source": [
        "### Q8:- Given the first 2 terms of an Arithmetic Series.Find the Nth term of the series. Assume all inputs are provided by the user."
      ],
      "metadata": {
        "id": "P08pG9grKzL0"
      }
    },
    {
      "cell_type": "code",
      "source": [
        "#Write your code here\n",
        "#Formula for the Nth term of an Arithmetic Series:\n",
        "#an=A1+(N-1)D\n",
        "#an  is the Nth term\n",
        "#A1 is  the first term\n",
        "#D is the common difference\n",
        "#D= A2-A1\n",
        "a1 = int(input(\"Enter the first term: \"))\n",
        "a2 = int(input(\"Enter the second term: \"))\n",
        "n = int(input(\"Enter the term input: \"))\n",
        "d = a2-a1\n",
        "an = a1+(n-1)*d\n",
        "print(\"Nth Term of the series:\",an)"
      ],
      "metadata": {
        "id": "YEPQYPjiK0ME",
        "colab": {
          "base_uri": "https://localhost:8080/"
        },
        "outputId": "22c25629-7b1b-49b0-d4fb-cf37d311eb09"
      },
      "execution_count": null,
      "outputs": [
        {
          "output_type": "stream",
          "name": "stdout",
          "text": [
            "Enter the first term: 2\n",
            "Enter the second term: 5\n",
            "Enter the term input: 4\n",
            "Nth Term of the series: 11\n"
          ]
        }
      ]
    },
    {
      "cell_type": "markdown",
      "source": [
        "### Q9:- Given 2 fractions, find the sum of those 2 fractions.Take the\n",
        "\n",
        "1.   List item\n",
        "2.   List item\n",
        "\n",
        "numerator and denominator values of the fractions from the user."
      ],
      "metadata": {
        "id": "BdUphMqxK2zr"
      }
    },
    {
      "cell_type": "code",
      "source": [
        "# Write your code here\n",
        "a = int(input(\"Enter numerator of first fraction: \"))\n",
        "b = int(input(\"Enter denominator of first fraction: \"))\n",
        "c = int(input(\"Enter numerator of second fraction: \"))\n",
        "d = int(input(\"Enter denominator of second fraction: \"))\n",
        "\n",
        "numerator = a*d +c*b\n",
        "denomirator = b*d\n",
        "print(\"The sum of the fraction is: \",numerator,\"/\",denomirator)"
      ],
      "metadata": {
        "id": "SDIUHbLeK61T",
        "colab": {
          "base_uri": "https://localhost:8080/"
        },
        "outputId": "15fbcceb-9a02-4ae9-fbc4-d89244fe2cd0"
      },
      "execution_count": 4,
      "outputs": [
        {
          "output_type": "stream",
          "name": "stdout",
          "text": [
            "Enter numerator of first fraction: 1\n",
            "Enter denominator of first fraction: 2\n",
            "Enter numerator of second fraction: 1\n",
            "Enter denominator of second fraction: 3\n",
            "The sum of the fraction is:  5 / 6\n"
          ]
        }
      ]
    },
    {
      "cell_type": "markdown",
      "source": [
        "### Q10:- Given the height, width and breadth of a milk tank, you have to find out how many glasses of milk can be obtained? Assume all the inputs are provided by the user.\n",
        "\n",
        "\n",
        "\n",
        "Input:<br>\n",
        "Dimensions of the milk tank<br>\n",
        "H = 20cm, L = 20cm, B = 20cm\n",
        "<br><br>\n",
        "Dimensions of the glass<br>\n",
        "h = 3cm, r = 1cm"
      ],
      "metadata": {
        "id": "jALEC2tcK8gr"
      }
    },
    {
      "cell_type": "code",
      "source": [
        "# Write your code here\n",
        "h=int(input(\"Enter the tank height in cm: \"))\n",
        "l=int(input(\"Enter the length of tank in cm: \"))\n",
        "b = int(input(\"Enter the breadth of the tank in cm: \"))\n",
        "h2 = int(input(\"Enter the height og glass in cm: \"))\n",
        "r = int(input(\"Enter the radius of the glass in cm: \"))\n",
        "pi = 3.1416\n",
        "tank_volume = h*l*b\n",
        "glass_volume = pi*r*r*h2\n",
        "num_of_glasses = tank_volume//glass_volume\n",
        "print(\"Number of full glasses of milk: \",int(num_of_glasses),\"cm\\u00b3\")"
      ],
      "metadata": {
        "id": "FxjDUXLoLAVD",
        "colab": {
          "base_uri": "https://localhost:8080/"
        },
        "outputId": "ad4e4022-56ae-4844-e573-6a7ff9f8127c"
      },
      "execution_count": null,
      "outputs": [
        {
          "output_type": "stream",
          "name": "stdout",
          "text": [
            "Enter the tank height in cm: 20\n",
            "Enter the length of tank in cm: 20\n",
            "Enter the breadth of the tank in cm: 20\n",
            "Enter the height og glass in cm: 3\n",
            "Enter the radius of the glass in cm: 1\n",
            "Number of full glasses of milk:  848 cm³\n"
          ]
        }
      ]
    }
  ]
}