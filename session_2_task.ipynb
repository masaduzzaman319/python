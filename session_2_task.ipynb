{
  "nbformat": 4,
  "nbformat_minor": 0,
  "metadata": {
    "colab": {
      "provenance": [],
      "include_colab_link": true
    },
    "kernelspec": {
      "name": "python3",
      "display_name": "Python 3"
    },
    "language_info": {
      "name": "python"
    }
  },
  "cells": [
    {
      "cell_type": "markdown",
      "metadata": {
        "id": "view-in-github",
        "colab_type": "text"
      },
      "source": [
        "<a href=\"https://colab.research.google.com/github/masaduzzaman319/python/blob/master/session_2_task.ipynb\" target=\"_parent\"><img src=\"https://colab.research.google.com/assets/colab-badge.svg\" alt=\"Open In Colab\"/></a>"
      ]
    },
    {
      "cell_type": "markdown",
      "source": [
        "### `Problem 1`: Write a program that will give you in hand monthly salary after deduction on CTC - HRA(10%), DA(5%), PF(3%) and taxes deduction as below:\n",
        "\n",
        "> Salary(Lakhs) : Tax(%)\n",
        "\n",
        "*   Below 5 : 0%\n",
        "*   5-10 : 10%\n",
        "*   10-20 : 20%\n",
        "*   aboove 20 : 30%"
      ],
      "metadata": {
        "id": "w6RlOAXV2PWh"
      }
    },
    {
      "cell_type": "code",
      "source": [
        "# Write code here\n",
        "\n",
        "ctc = float(input(\"Enter your CTC in lakh: \"))\n",
        "\n",
        "\n",
        "annual_ctc = ctc * 100000\n",
        "\n",
        "hra = 0.10 * annual_ctc\n",
        "da = 0.05 * annual_ctc\n",
        "pf = 0.03 * annual_ctc\n",
        "total_deduction = hra+da+pf\n",
        "\n",
        "\n",
        "if ctc <5:\n",
        "    tax = 0\n",
        "elif ctc>= 5 and ctc <=10:\n",
        "    tax = 0.10 * annual_ctc\n",
        "elif ctc>= 10 and ctc <= 20:\n",
        "    tax = 0.20 * annual_ctc\n",
        "else:\n",
        "    tax = 0.30 * annual_ctc\n",
        "\n",
        "\n",
        "in_hand_annual = annual_ctc - total_deduction-tax\n",
        "\n",
        "\n",
        "monthly_salary = in_hand_annual / 12\n",
        "print(\"Monthly sallary is: ₹\", round(monthly_salary,2))"
      ],
      "metadata": {
        "id": "7tMHvKYO2etI",
        "colab": {
          "base_uri": "https://localhost:8080/"
        },
        "outputId": "8231f4ac-6fd7-4572-ddc1-d06c277651c8"
      },
      "execution_count": 3,
      "outputs": [
        {
          "output_type": "stream",
          "name": "stdout",
          "text": [
            "Enter your CTC in lakh: 15\n",
            "Monthly sallary is: ₹ 77500.0\n"
          ]
        }
      ]
    },
    {
      "cell_type": "markdown",
      "source": [
        "### `Problem 2`: Write a program that take a user input of three angles and will find out whether it can form a triangle or not."
      ],
      "metadata": {
        "id": "tYzCGqwl2hfN"
      }
    },
    {
      "cell_type": "code",
      "source": [
        "# Write code here\n",
        "angle_1=int(input('Enter the first angle: '))\n",
        "angle_2=int(input('Enter the second angle: '))\n",
        "angle_3=int(input('Enter the third angle: '))\n",
        "\n",
        "if (angle_1+ angle_2 + angle_3 == 180):\n",
        "    print('Triangle formation is possible')\n",
        "else:\n",
        "    print(\"Triangle formation is not possible.\")"
      ],
      "metadata": {
        "id": "FYEqln-I2kxV",
        "colab": {
          "base_uri": "https://localhost:8080/"
        },
        "outputId": "b67dd633-5d06-49f5-d054-7aca8d2e42ad"
      },
      "execution_count": null,
      "outputs": [
        {
          "output_type": "stream",
          "name": "stdout",
          "text": [
            "Enter the first angle: 100\n",
            "Enter the second angle: 30\n",
            "Enter the third angle: 50\n",
            "Triangle formation is possible\n"
          ]
        }
      ]
    },
    {
      "cell_type": "markdown",
      "source": [
        "### `Problem 3`: Write a program that will take user input of cost price and selling price and determines whether its a loss or a profit."
      ],
      "metadata": {
        "id": "5vEpPh8C2pE4"
      }
    },
    {
      "cell_type": "code",
      "source": [
        "# Write code here\n",
        "buying_price = int(input('Enter the buying price:'))\n",
        "selling_price = int(input('Enter the selling price:'))\n",
        "if buying_price>selling_price:\n",
        "    print('Loss.')\n",
        "elif buying_price<selling_price:\n",
        "    print('Profit')\n",
        "else:\n",
        "    print(\"Buying and selling price is same no profit or loss\")"
      ],
      "metadata": {
        "id": "jDwBXlkO2sfl",
        "colab": {
          "base_uri": "https://localhost:8080/"
        },
        "outputId": "c3ca0291-2560-43e9-f9a3-1dabb46e0b60"
      },
      "execution_count": null,
      "outputs": [
        {
          "output_type": "stream",
          "name": "stdout",
          "text": [
            "Enter the buying price:10\n",
            "Enter the selling price:10\n",
            "Buying and selling price is same no profit or loss\n"
          ]
        }
      ]
    },
    {
      "cell_type": "markdown",
      "source": [
        "### `Problem 4`: Write a menu-driven program -\n",
        "1. cm to ft\n",
        "2. km to miles\n",
        "3. USD to INR\n",
        "4. exit"
      ],
      "metadata": {
        "id": "J_FG_cJW2ugT"
      }
    },
    {
      "cell_type": "code",
      "source": [
        "# Write code here\n",
        "\n",
        "while True:\n",
        "    print(\"\\nConversion Menu:\")\n",
        "    print(\"1. cm to ft\")\n",
        "    print(\"2. km to miles\")\n",
        "    print(\"3. USD to INR\")\n",
        "    print(\"4. Exit\")\n",
        "\n",
        "    choice = input(\"Enter your choice(1-4): \")\n",
        "\n",
        "    if choice == \"1\":\n",
        "        cm = float(input(\"Enter value in centimeters: \"))\n",
        "        ft = cm / 30.48\n",
        "        print(\"Value in feet: \", round(ft, 2))\n",
        "\n",
        "    elif choice == \"2\":\n",
        "        km = float(input(\"Enter value in kilometers: \"))\n",
        "        miles = km * 0.621371\n",
        "        print(\"Value in miles: \", round(miles, 2))\n",
        "\n",
        "    elif choice == \"3\":\n",
        "        usd = float(input(\"Enter value in USD: \"))\n",
        "        inr = usd * 83  # Fixed exchange rate\n",
        "        print(\"Value in INR: ₹\", round(inr, 2))\n",
        "\n",
        "    elif choice == \"4\":\n",
        "        print(\"Exiting the program.\")\n",
        "        break\n",
        "\n",
        "    else:\n",
        "        print(\"Invalid choice. Please enter 1 to 4.\")"
      ],
      "metadata": {
        "id": "yBHhaCGQ2zpD",
        "colab": {
          "base_uri": "https://localhost:8080/"
        },
        "outputId": "df949584-12be-436e-a8df-8d64620f5adc"
      },
      "execution_count": 5,
      "outputs": [
        {
          "output_type": "stream",
          "name": "stdout",
          "text": [
            "\n",
            "Conversion Menu:\n",
            "1. cm to ft\n",
            "2. km to miles\n",
            "3. USD to INR\n",
            "4. Exit\n",
            "Enter your choice(1-4): 3\n",
            "Enter value in USD: 100\n",
            "Value in INR: ₹ 8300.0\n",
            "\n",
            "Conversion Menu:\n",
            "1. cm to ft\n",
            "2. km to miles\n",
            "3. USD to INR\n",
            "4. Exit\n",
            "Enter your choice(1-4): 1\n",
            "Enter value in centimeters: 1000\n",
            "Value in feet:  32.81\n",
            "\n",
            "Conversion Menu:\n",
            "1. cm to ft\n",
            "2. km to miles\n",
            "3. USD to INR\n",
            "4. Exit\n",
            "Enter your choice(1-4): 2\n",
            "Enter value in kilometers: 23\n",
            "Value in miles:  14.29\n",
            "\n",
            "Conversion Menu:\n",
            "1. cm to ft\n",
            "2. km to miles\n",
            "3. USD to INR\n",
            "4. Exit\n",
            "Enter your choice(1-4): 4\n",
            "Exiting the program.\n"
          ]
        }
      ]
    },
    {
      "cell_type": "markdown",
      "source": [
        "### `Problem 5` - Exercise 12: Display Fibonacci series up to 10 terms.\n",
        "\n",
        "*Note: The Fibonacci Sequence is a series of numbers. The next number is found by adding up the two numbers before it. The first two numbers are 0 and 1. For example, 0, 1, 1, 2, 3, 5, 8, 13, 21. The next number in this series above is 13+21 = 34*"
      ],
      "metadata": {
        "id": "LJJ30_Yw27ZU"
      }
    },
    {
      "cell_type": "code",
      "source": [
        "# Write code here\n",
        "a = 0\n",
        "b = 1\n",
        "count = 0\n",
        "\n",
        "print(\"Fibonacci series up to 10 terms:\")\n",
        "\n",
        "while count < 10:\n",
        "    print(a, end=' ')\n",
        "    next_term = a + b\n",
        "    a = b\n",
        "    b = next_term\n",
        "    count += 1"
      ],
      "metadata": {
        "id": "ae_1rpe52-5R",
        "colab": {
          "base_uri": "https://localhost:8080/"
        },
        "outputId": "720fc88d-2259-4e7c-a69f-e96ee287af1a"
      },
      "execution_count": 6,
      "outputs": [
        {
          "output_type": "stream",
          "name": "stdout",
          "text": [
            "Fibonacci series up to 10 terms:\n",
            "0 1 1 2 3 5 8 13 21 34 "
          ]
        }
      ]
    },
    {
      "cell_type": "markdown",
      "source": [
        "### `Problem 6` - Find the factorial of a given number.\n",
        "\n",
        "Write a program to use the loop to find the factorial of a given number.\n",
        "\n",
        "The factorial (symbol: `!`) means to multiply all whole numbers from the chosen number down to 1.\n",
        "\n",
        "For example: calculate the factorial of 5\n",
        "\n",
        "```bash\n",
        "5! = 5 × 4 × 3 × 2 × 1 = 120\n",
        "```\n",
        "\n",
        "Output:\n",
        "\n",
        "```bash\n",
        "120\n",
        "```"
      ],
      "metadata": {
        "id": "pk_I_S4m3PT5"
      }
    },
    {
      "cell_type": "code",
      "source": [
        "# Write code here\n",
        "\n",
        "num = int(input(\"Enter a number to find its factorial: \"))\n",
        "\n",
        "if num < 0:\n",
        "    print(\"Factorial does not exist for negative numbers.\")\n",
        "elif num == 0:\n",
        "    print(\"The factorial of 0 is 1.\")\n",
        "else:\n",
        "    factorial = 1\n",
        "    i = 1\n",
        "    while i <= num:\n",
        "        factorial = factorial * i\n",
        "        i += 1\n",
        "    print(\"The factorial of\", num, \"is\", factorial)"
      ],
      "metadata": {
        "id": "lzXxHegx3Rkc",
        "colab": {
          "base_uri": "https://localhost:8080/"
        },
        "outputId": "f2df7d76-b106-48f2-8287-8216b9ec96a7"
      },
      "execution_count": 7,
      "outputs": [
        {
          "output_type": "stream",
          "name": "stdout",
          "text": [
            "Enter a number to find its factorial: 5\n",
            "The factorial of 5 is 120\n"
          ]
        }
      ]
    },
    {
      "cell_type": "markdown",
      "source": [
        "### `Problem 7` - Reverse a given integer number.\n",
        "\n",
        "Example:\n",
        "\n",
        "`Input:`\n",
        "\n",
        "```bash\n",
        "76542\n",
        "```\n",
        "\n",
        "`Output:`\n",
        "\n",
        "```bash\n",
        "24567\n",
        "```"
      ],
      "metadata": {
        "id": "-17IOi-g3UpU"
      }
    },
    {
      "cell_type": "code",
      "source": [
        "num = int(input(\"Enter an integer number: \"))\n",
        "reverse = 0\n",
        "\n",
        "original = num\n",
        "\n",
        "is_negative = False\n",
        "if num < 0:\n",
        "    is_negative = True\n",
        "    num = -num\n",
        "\n",
        "while num != 0:\n",
        "    digit = num % 10\n",
        "    reverse = reverse * 10 + digit\n",
        "    num = num // 10\n",
        "\n",
        "if is_negative:\n",
        "    reverse = -reverse\n",
        "\n",
        "print(\"Reversed number of\", original, \"is:\", reverse)"
      ],
      "metadata": {
        "id": "wJwLpKCr3aVA",
        "colab": {
          "base_uri": "https://localhost:8080/"
        },
        "outputId": "a09b1c83-41f5-4101-c483-7d4d23e9a6a3"
      },
      "execution_count": 8,
      "outputs": [
        {
          "output_type": "stream",
          "name": "stdout",
          "text": [
            "Enter an integer number: -1234\n",
            "Reversed number of -1234 is: -4321\n"
          ]
        }
      ]
    },
    {
      "cell_type": "markdown",
      "source": [
        "### `Problem 8`: Take a user input as integer N. Find out the sum from 1 to N. If any number if divisible by 5, then skip that number. And if the sum is greater than 300, don't need to calculate the sum further more. Print the final result. And don't use for loop to solve this problem.\n",
        "\n",
        "**Example 1:**\n",
        "\n",
        "`Input:`\n",
        "\n",
        "```bash\n",
        "30\n",
        "```\n",
        "\n",
        "`Output:`\n",
        "\n",
        "```bash\n",
        "276\n",
        "```"
      ],
      "metadata": {
        "id": "-t8PJQaY3sHf"
      }
    },
    {
      "cell_type": "code",
      "source": [
        "N = int(input(\"Enter an integer N: \"))\n",
        "\n",
        "total_sum = 0\n",
        "i = 1\n",
        "\n",
        "while i <= N:\n",
        "    if i % 5 == 0:\n",
        "        i += 1\n",
        "        continue\n",
        "\n",
        "    total_sum += i\n",
        "\n",
        "    if total_sum > 300:\n",
        "        total_sum -= i  # subtract the last added number that caused sum > 300\n",
        "        break\n",
        "\n",
        "    i += 1\n",
        "\n",
        "print(\"Final sum:\", total_sum)"
      ],
      "metadata": {
        "id": "GZB6mGMP3ujT",
        "colab": {
          "base_uri": "https://localhost:8080/"
        },
        "outputId": "2b722f20-f416-4e0f-fbce-6a143a186757"
      },
      "execution_count": 14,
      "outputs": [
        {
          "output_type": "stream",
          "name": "stdout",
          "text": [
            "Enter an integer N: 50\n",
            "Final sum: 276\n"
          ]
        }
      ]
    },
    {
      "cell_type": "markdown",
      "source": [
        "### `Problem 9`: Write a program that keeps on accepting a number from the user until the user enters Zero. Display the sum and average of all the numbers."
      ],
      "metadata": {
        "id": "Q7ggImeA3xm4"
      }
    },
    {
      "cell_type": "code",
      "source": [
        "# Write code here"
      ],
      "metadata": {
        "id": "t_YDSZDe4Kdo"
      },
      "execution_count": null,
      "outputs": []
    },
    {
      "cell_type": "markdown",
      "source": [
        "###`Problem 9`: Write a program which will find all such numbers which are divisible by 7 but are not a multiple of 5, between 2000 and 3200 (both included). The numbers obtained should be printed in a comma-separated sequence on a single line."
      ],
      "metadata": {
        "id": "6EhvEMvm4R7s"
      }
    },
    {
      "cell_type": "code",
      "source": [
        "# Write code here"
      ],
      "metadata": {
        "id": "d6RgP1B34T6c"
      },
      "execution_count": null,
      "outputs": []
    },
    {
      "cell_type": "markdown",
      "source": [
        "###`Problem 10`: Write a program, which will find all such numbers between 1000 and 3000 (both included) such that each digit of the number is an even number. The numbers obtained should be printed in a space-separated sequence on a single line.\n",
        "\n"
      ],
      "metadata": {
        "id": "tYvmRR-G4Vp4"
      }
    },
    {
      "cell_type": "code",
      "source": [
        "# Write code here"
      ],
      "metadata": {
        "id": "k6Gs1kIf4k19"
      },
      "execution_count": null,
      "outputs": []
    },
    {
      "cell_type": "markdown",
      "source": [
        "###`Problem 11`: A robot moves in a plane starting from the original point (0,0). The robot can move toward UP, DOWN, LEFT and RIGHT with a given steps.\n",
        "The trace of robot movement is shown as the following:\n",
        "```\n",
        "UP 5\n",
        "DOWN 3\n",
        "LEFT 3\n",
        "RIGHT 2\n",
        "!\n",
        "```\n",
        "> The numbers after the direction are steps.\n",
        "\n",
        "> `!` means robot stop there.\n",
        "\n",
        "**Please write a program to compute the distance from current position after a sequence of movement and original point.**\n",
        "\n",
        "*If the distance is a float, then just print the nearest integer.*\n",
        "\n",
        "Example:\n",
        "\n",
        "`Input`:\n",
        "```\n",
        "UP 5\n",
        "DOWN 3\n",
        "LEFT 3\n",
        "RIGHT 2\n",
        "!\n",
        "```\n",
        "`Output`:\n",
        "```\n",
        "2\n",
        "```"
      ],
      "metadata": {
        "id": "GV18IINT4mf5"
      }
    },
    {
      "cell_type": "code",
      "source": [
        "# Write code here"
      ],
      "metadata": {
        "id": "6UNMC2aR4w5x"
      },
      "execution_count": null,
      "outputs": []
    },
    {
      "cell_type": "markdown",
      "source": [
        "###`Problem 12`:Write a program to print whether a given number is a prime number or not"
      ],
      "metadata": {
        "id": "3fsAIAhK5GYY"
      }
    },
    {
      "cell_type": "code",
      "source": [
        "# Write code here\n",
        "num = int(input(\"Enter a number: \"))\n",
        "\n",
        "if num<2:\n",
        "    print(f\"{num} is not prime.\")\n",
        "else:\n",
        "    is_prime = True\n",
        "    i = 2\n",
        "\n",
        "    while i <= int(num**.5):\n",
        "        if num % i == 0:\n",
        "            is_prime = False\n",
        "            break\n",
        "        else:\n",
        "            i +=1\n",
        "    if is_prime:\n",
        "        print(f\"{num} is prime.\")\n",
        "    else:\n",
        "        print(f\"{num} is not prime\")"
      ],
      "metadata": {
        "id": "j6y91lxy5LZs",
        "colab": {
          "base_uri": "https://localhost:8080/"
        },
        "outputId": "e23c6013-232a-49cf-8f8a-bf274e61c7bd"
      },
      "execution_count": null,
      "outputs": [
        {
          "output_type": "stream",
          "name": "stdout",
          "text": [
            "Enter a number: 2\n",
            "2 is prime.\n"
          ]
        }
      ]
    },
    {
      "cell_type": "markdown",
      "source": [
        "###`Problem 13`:Print all the Armstrong numbers in a given range.\n",
        "Range will be provided by the user<br>\n",
        "Armstrong number is a number that is equal to the sum of cubes of its digits. For example 0, 1, 153, 370, 371 and 407 are the Armstrong numbers."
      ],
      "metadata": {
        "id": "asAbmbK-5NHv"
      }
    },
    {
      "cell_type": "code",
      "source": [
        "# Write code here\n",
        "num = int(input('Enter the number: '))\n",
        "n = len(str(num))\n",
        "sum = 0\n",
        "temp = num\n",
        "while temp > 0:\n",
        "    digit = temp%10\n",
        "    sum = sum + (digit**n)\n",
        "    temp = temp // 10\n",
        "if sum == num:\n",
        "    print(\"Armstrong Number\")\n",
        "else:\n",
        "    print(\"Not Armstrong Number\")"
      ],
      "metadata": {
        "id": "PZuI67pm5jCT",
        "colab": {
          "base_uri": "https://localhost:8080/"
        },
        "outputId": "93f7f353-98ab-496a-9cff-4527a824a7d9"
      },
      "execution_count": null,
      "outputs": [
        {
          "output_type": "stream",
          "name": "stdout",
          "text": [
            "Enter the number: 153\n",
            "Armstrong Number\n"
          ]
        }
      ]
    },
    {
      "cell_type": "markdown",
      "source": [
        "###`Problem 14`:Calculate the angle between the hour hand and minute hand.\n",
        "\n",
        "Note: There can be two angles between hands; we need to print a minimum of two. Also, we need to print the floor of the final result angle. For example, if the final angle is 10.61, we need to print 10.\n",
        "\n",
        "Input:<br>\n",
        "H = 9 , M = 0<br>\n",
        "Output:<br>\n",
        "90<br>\n",
        "Explanation:<br>\n",
        "The minimum angle between hour and minute\n",
        "hand when the time is 9 is 90 degress."
      ],
      "metadata": {
        "id": "ClCQZMqT7gK0"
      }
    },
    {
      "cell_type": "code",
      "source": [
        "# Write code here\n",
        "\n",
        "H = int(input(\"Enter the value of {H} : \"))\n",
        "M = int(input(\"Enter the value of {M} : \"))\n",
        "Minute_Hand_Angle = M * 6\n",
        "Hour_hand_Angle = (H % 12) * 30 + (M * 0.5)\n",
        "\n",
        "angle_between_them = abs(Hour_hand_Angle - Minute_Hand_Angle)\n",
        "minimum_angle = min(angle_between_them,360 - angle_between_them)\n",
        "print(minimum_angle)"
      ],
      "metadata": {
        "id": "tNBTCZML7jy_",
        "colab": {
          "base_uri": "https://localhost:8080/"
        },
        "outputId": "31f33dc2-2eb7-4752-ed99-b54d8a68e061"
      },
      "execution_count": null,
      "outputs": [
        {
          "output_type": "stream",
          "name": "stdout",
          "text": [
            "Enter the value of {H} : 9\n",
            "Enter the value of {M} : 0\n",
            "90.0\n"
          ]
        }
      ]
    },
    {
      "cell_type": "markdown",
      "source": [
        "###`Problem 15`:Given two rectangles, find if the given two rectangles overlap or not. A rectangle is denoted by providing the x and y coordinates of two points: the left top corner and the right bottom corner of the rectangle. Two rectangles sharing a side are considered overlapping. (L1 and R1 are the extreme points of the first rectangle and L2 and R2 are the extreme points of the second rectangle).\n",
        "\n",
        "Note: It may be assumed that the rectangles are parallel to the coordinate axis.\n",
        "\n",
        "<img src='https://www.geeksforgeeks.org/wp-content/uploads/rectanglesOverlap.png' width='300' height='200'>"
      ],
      "metadata": {
        "id": "GwacF9Co72Qc"
      }
    },
    {
      "cell_type": "code",
      "source": [
        "# Write code here\n",
        "x1 = int(input('Enter the value of x1: '))\n",
        "y1 = int(input('Enter the value of y1: '))\n",
        "x2 = int(input('Enter the value of x2: '))\n",
        "y2 = int(input('Enter the value of y2: '))\n",
        "\n",
        "x3 = int(input('Enter the value of x1: '))\n",
        "y3 = int(input('Enter the value of y1: '))\n",
        "x4 = int(input('Enter the value of x2: '))\n",
        "y4 = int(input('Enter the value of y2: '))\n",
        "\n",
        "\n",
        "if x1 > x4 or x3 > x2:\n",
        "    print(\"Not Overlapping\")\n",
        "elif y1 <y4 or y3 < y2:\n",
        "    print(\"Not Overlapping\")\n",
        "else:\n",
        "    print(\"Overlapping\")"
      ],
      "metadata": {
        "id": "6rrw_lpH78Rs",
        "colab": {
          "base_uri": "https://localhost:8080/"
        },
        "outputId": "53f2ffc3-e537-43f0-d6ac-0fa0ebfa9677"
      },
      "execution_count": null,
      "outputs": [
        {
          "output_type": "stream",
          "name": "stdout",
          "text": [
            "Enter the value of x1: 0\n",
            "Enter the value of y1: 10\n",
            "Enter the value of x2: 10\n",
            "Enter the value of y2: 0\n",
            "Enter the value of x1: 5\n",
            "Enter the value of y1: 5\n",
            "Enter the value of x2: 15\n",
            "Enter the value of y2: 0\n",
            "Overlapping\n"
          ]
        }
      ]
    }
  ]
}