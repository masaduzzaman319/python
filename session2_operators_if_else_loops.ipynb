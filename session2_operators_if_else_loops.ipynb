{
  "nbformat": 4,
  "nbformat_minor": 0,
  "metadata": {
    "colab": {
      "provenance": [],
      "authorship_tag": "ABX9TyOuYSJ2diKZCXEIun5eWkdw",
      "include_colab_link": true
    },
    "kernelspec": {
      "name": "python3",
      "display_name": "Python 3"
    },
    "language_info": {
      "name": "python"
    }
  },
  "cells": [
    {
      "cell_type": "markdown",
      "metadata": {
        "id": "view-in-github",
        "colab_type": "text"
      },
      "source": [
        "<a href=\"https://colab.research.google.com/github/masaduzzaman319/python/blob/master/session2_operators_if_else_loops.ipynb\" target=\"_parent\"><img src=\"https://colab.research.google.com/assets/colab-badge.svg\" alt=\"Open In Colab\"/></a>"
      ]
    },
    {
      "cell_type": "markdown",
      "source": [
        "# Operators in Python\n",
        "\n",
        "- Arithmetic Operators\n",
        "- Relational Operators\n",
        "- Logical Operators\n",
        "- Bitwise Operators\n",
        "- Assignment Operators\n",
        "- Membership Operators"
      ],
      "metadata": {
        "id": "GTJnXM5rsPoI"
      }
    },
    {
      "cell_type": "code",
      "execution_count": null,
      "metadata": {
        "colab": {
          "base_uri": "https://localhost:8080/"
        },
        "id": "e0wAMqkEik09",
        "outputId": "3b9760a3-bfac-4a66-ebce-443c7ea04652"
      },
      "outputs": [
        {
          "output_type": "stream",
          "name": "stdout",
          "text": [
            "11\n",
            "-1\n",
            "30\n",
            "0.8333333333333334\n",
            "1\n",
            "0\n"
          ]
        }
      ],
      "source": [
        "# Arithmetric Operators\n",
        "a = 5\n",
        "b = 6\n",
        "print(a+b)\n",
        "print(a-b)\n",
        "print(a*b)\n",
        "print(a/b)\n",
        "print(b//a)\n",
        "print(a//b)"
      ]
    },
    {
      "cell_type": "code",
      "source": [
        "# Relational Operators\n",
        "print(4<5)\n",
        "print(4==5)\n",
        "print(4==4)\n",
        "print(4!=5)\n",
        "print(1!=2)\n",
        "print(4==4)\n",
        "print(4<=4)"
      ],
      "metadata": {
        "id": "9p20gbaPsZzC",
        "colab": {
          "base_uri": "https://localhost:8080/"
        },
        "outputId": "77f3beee-f091-4012-9d74-f886243d62dd"
      },
      "execution_count": null,
      "outputs": [
        {
          "output_type": "stream",
          "name": "stdout",
          "text": [
            "True\n",
            "False\n",
            "True\n",
            "True\n",
            "True\n",
            "True\n",
            "True\n"
          ]
        }
      ]
    },
    {
      "cell_type": "code",
      "source": [
        "# Logical Operators\n",
        "print( 1 and 0)\n",
        "print(1 or 0)\n",
        "print(not 1)\n",
        "print(not 0)"
      ],
      "metadata": {
        "id": "Gawk5T7rscW2",
        "colab": {
          "base_uri": "https://localhost:8080/"
        },
        "outputId": "d750bf14-6f84-4e9e-b593-6232a09fd70a"
      },
      "execution_count": null,
      "outputs": [
        {
          "output_type": "stream",
          "name": "stdout",
          "text": [
            "0\n",
            "1\n",
            "False\n",
            "True\n"
          ]
        }
      ]
    },
    {
      "cell_type": "code",
      "source": [
        "# Logical Operators\n",
        "#bitwise and\n",
        "print(2 & 3)\n",
        "print(3 & 2)\n",
        "\n",
        "#bitwise or\n",
        "print(2|3)\n",
        "\n",
        "#bitwisre xor\n",
        "print(2^3)\n",
        "\n",
        "#bitwise not\n",
        "print(~2)\n",
        "\n",
        "#bitwise left\n",
        "print(4 >> 2)\n",
        "\n",
        "print(4<<2)"
      ],
      "metadata": {
        "id": "BVhzYXlIse7I",
        "colab": {
          "base_uri": "https://localhost:8080/"
        },
        "outputId": "a9f92142-559e-47a1-fa9c-9225111b8897"
      },
      "execution_count": null,
      "outputs": [
        {
          "output_type": "stream",
          "name": "stdout",
          "text": [
            "2\n",
            "2\n",
            "3\n",
            "1\n",
            "-3\n",
            "1\n",
            "16\n"
          ]
        }
      ]
    },
    {
      "cell_type": "code",
      "source": [
        "# Assignment Operators\n",
        "a = 2\n",
        "a+=2\n",
        "print(a)\n",
        "a%=2\n",
        "print(a)"
      ],
      "metadata": {
        "id": "gsM7Q847sh4f",
        "colab": {
          "base_uri": "https://localhost:8080/"
        },
        "outputId": "2deb1590-26e8-414d-da87-bc2cf843cf82"
      },
      "execution_count": null,
      "outputs": [
        {
          "output_type": "stream",
          "name": "stdout",
          "text": [
            "4\n",
            "0\n"
          ]
        }
      ]
    },
    {
      "cell_type": "code",
      "source": [
        "# Membearship Operators\n",
        "print('D' in \"Delhi\")\n",
        "print('D' not in 'Dhaka')\n",
        "print(1 in [2,3,4,5])"
      ],
      "metadata": {
        "id": "vWX7NcNisl4q",
        "colab": {
          "base_uri": "https://localhost:8080/"
        },
        "outputId": "18fdc1fd-e15a-4022-c1fe-4fe2c5dca66d"
      },
      "execution_count": null,
      "outputs": [
        {
          "output_type": "stream",
          "name": "stdout",
          "text": [
            "True\n",
            "False\n",
            "False\n"
          ]
        }
      ]
    },
    {
      "cell_type": "code",
      "source": [
        "# Program - Find the sum of a 3 digit number entered by the user\n",
        "number  = int(input(\"Enter a three digit number: \"))\n",
        "a = number%10\n",
        "number = number//10\n",
        "\n",
        "b = number%10\n",
        "number = number//10\n",
        "\n",
        "c = number % 10\n",
        "print(a+b+c)"
      ],
      "metadata": {
        "id": "lRyzu0MesnSh",
        "colab": {
          "base_uri": "https://localhost:8080/"
        },
        "outputId": "aa135b41-a07f-4a69-f42e-3af4b2892cfd"
      },
      "execution_count": null,
      "outputs": [
        {
          "output_type": "stream",
          "name": "stdout",
          "text": [
            "Enter a three digit number: 345\n",
            "12\n"
          ]
        }
      ]
    },
    {
      "cell_type": "markdown",
      "source": [
        "# If-else in Python"
      ],
      "metadata": {
        "id": "bmBp2C8IAR3A"
      }
    },
    {
      "cell_type": "code",
      "source": [
        "# login program and indentation\n",
        "# email -> maasaduzzaman319@gmail.com\n",
        "# password -> 1234\n",
        "\n",
        "email = input('Enter your Email')\n",
        "password = input('Enter your password')\n",
        "\n",
        "if email == 'maasaduzzaman319@gmail.com' and password == '1234':\n",
        "    print(\"Welcome\")\n",
        "elif email == 'maasaduzzaman319@gmail.com' and password !='1234':\n",
        "    print(\"Password wrong\")\n",
        "    password = input = input('Enter password again')\n",
        "    if password == '1234':\n",
        "        print(\"You are welcome\")\n",
        "    else:\n",
        "        print(\"Tomar dara ar hobe na!!!\")\n",
        "else:\n",
        "    print(\"Not correct\")"
      ],
      "metadata": {
        "colab": {
          "base_uri": "https://localhost:8080/"
        },
        "id": "vKRP27LR_jK7",
        "outputId": "ec44ddea-f724-45c3-909f-2e0ced3706e7"
      },
      "execution_count": null,
      "outputs": [
        {
          "output_type": "stream",
          "name": "stdout",
          "text": [
            "Enter your Emailmaasaduzzaman319@gmail.com\n",
            "Enter your password12345\n",
            "Password wrong\n",
            "Enter password again1234\n",
            "You are welcome\n"
          ]
        }
      ]
    },
    {
      "cell_type": "code",
      "source": [
        "# if-else examples\n",
        "# 1. Find the min of 3 given numbers\n",
        "# 2. Menu Driven Program\n",
        "\n",
        "# Fix any overwritten built-in function\n",
        "\n",
        "# Part 1: Find the smallest of three numbers\n",
        "a = int(input(\"Enter the first Number: \"))\n",
        "b = int(input(\"Enter the second Number: \"))\n",
        "c = int(input(\"Enter the third Number: \"))\n",
        "\n",
        "if a < b and a < c:\n",
        "    print('Smallest is', a)\n",
        "elif b < c:\n",
        "    print('Smallest is', b)\n",
        "else:\n",
        "    print('Smallest is', c)"
      ],
      "metadata": {
        "colab": {
          "base_uri": "https://localhost:8080/"
        },
        "id": "GXj8oM_LDJ6F",
        "outputId": "fb9d99a0-4c52-45b8-c338-a2e70c42413c"
      },
      "execution_count": 6,
      "outputs": [
        {
          "output_type": "stream",
          "name": "stdout",
          "text": [
            "Enter the first Number: 30\n",
            "Enter the second Number: 30\n",
            "Enter the third Number: 30\n",
            "Smallest is 30\n"
          ]
        }
      ]
    },
    {
      "cell_type": "code",
      "source": [
        "# menu driven calculator\n",
        "fnum = int(input('Enter the first Number: '))\n",
        "snum = int(input('Enter the second Number: '))\n",
        "\n",
        "\n",
        "operation = input('Enter the operation: ')\n",
        "if operation == '+':\n",
        "    print(fnum + snum)\n",
        "elif operation == '-':\n",
        "    print(fnum-snum)\n",
        "elif operation == '*':\n",
        "    print(fnum * snum)\n",
        "else:\n",
        "    print(fnum/snum)"
      ],
      "metadata": {
        "colab": {
          "base_uri": "https://localhost:8080/"
        },
        "id": "WgGK4kOsGNOt",
        "outputId": "5d7b57ce-4d96-438c-95c3-aa569bb384ff"
      },
      "execution_count": 7,
      "outputs": [
        {
          "output_type": "stream",
          "name": "stdout",
          "text": [
            "Enter the first Number: 10\n",
            "Enter the second Number: 10\n",
            "Enter the operation: *\n",
            "100\n"
          ]
        }
      ]
    },
    {
      "cell_type": "code",
      "source": [
        "#menu driven calculator\n",
        "menu = input(\"\"\"\n",
        "\n",
        "Hi! how can I help you.\n",
        "1.Enter 1 for pin change\n",
        "2.enter 2 for balance check\n",
        "3.enter 3 for withdraw\n",
        "4.enter 4 for exit\n",
        "\n",
        "\"\"\")\n",
        "\n",
        "if menu =='1':\n",
        "    print(\"pin change\")\n",
        "elif menu == '2':\n",
        "    print('Bam=lance check')\n",
        "elif menu =='3':\n",
        "    print('withdraw money')\n",
        "else:\n",
        "    print(\"Exit\")"
      ],
      "metadata": {
        "colab": {
          "base_uri": "https://localhost:8080/"
        },
        "id": "KbmxlGAcHYll",
        "outputId": "9a3b805d-4954-46f9-bc53-eed71986efac"
      },
      "execution_count": 8,
      "outputs": [
        {
          "output_type": "stream",
          "name": "stdout",
          "text": [
            "\n",
            "\n",
            "Hi! how can I help you.\n",
            "1.Enter 1 for pin change\n",
            "2.enter 2 for balance check\n",
            "3.enter 3 for withdraw\n",
            "4.enter 4 for exit\n",
            "\n",
            "4\n",
            "Exit\n"
          ]
        }
      ]
    },
    {
      "cell_type": "markdown",
      "source": [
        "# Modules in Python\n",
        "\n",
        "- math\n",
        "- keywords\n",
        "- random\n",
        "- datetime"
      ],
      "metadata": {
        "id": "jsPx-5WLKosy"
      }
    },
    {
      "cell_type": "code",
      "source": [
        "#math\n",
        "import math\n",
        "math.sqrt(256)"
      ],
      "metadata": {
        "colab": {
          "base_uri": "https://localhost:8080/"
        },
        "id": "XL43_iHAKqRj",
        "outputId": "6accaae6-fbef-4928-c138-c95917aec92a"
      },
      "execution_count": 13,
      "outputs": [
        {
          "output_type": "execute_result",
          "data": {
            "text/plain": [
              "16.0"
            ]
          },
          "metadata": {},
          "execution_count": 13
        }
      ]
    },
    {
      "cell_type": "code",
      "source": [
        "#keyword\n",
        "import keyword\n",
        "print(keyword.kwlist)"
      ],
      "metadata": {
        "colab": {
          "base_uri": "https://localhost:8080/"
        },
        "id": "jSgC28GMKyNK",
        "outputId": "5daa24be-3d6f-43de-d4ed-eaab8417bfb4"
      },
      "execution_count": 14,
      "outputs": [
        {
          "output_type": "stream",
          "name": "stdout",
          "text": [
            "['False', 'None', 'True', 'and', 'as', 'assert', 'async', 'await', 'break', 'class', 'continue', 'def', 'del', 'elif', 'else', 'except', 'finally', 'for', 'from', 'global', 'if', 'import', 'in', 'is', 'lambda', 'nonlocal', 'not', 'or', 'pass', 'raise', 'return', 'try', 'while', 'with', 'yield']\n"
          ]
        }
      ]
    },
    {
      "cell_type": "code",
      "source": [
        "#random\n",
        "import random\n",
        "print(random.randint(1,111))"
      ],
      "metadata": {
        "colab": {
          "base_uri": "https://localhost:8080/"
        },
        "id": "iyYalYtcK9TM",
        "outputId": "9a850739-18a5-4f5e-a9c3-9c61039132db"
      },
      "execution_count": 17,
      "outputs": [
        {
          "output_type": "stream",
          "name": "stdout",
          "text": [
            "52\n"
          ]
        }
      ]
    },
    {
      "cell_type": "code",
      "source": [
        "#datetime\n",
        "import datetime\n",
        "print(datetime.datetime.now())"
      ],
      "metadata": {
        "colab": {
          "base_uri": "https://localhost:8080/"
        },
        "id": "RwAE5VWTLKfU",
        "outputId": "62ee2d21-e5ab-4c37-d921-79dfff9a8af1"
      },
      "execution_count": 19,
      "outputs": [
        {
          "output_type": "stream",
          "name": "stdout",
          "text": [
            "2025-07-20 18:51:46.388649\n"
          ]
        }
      ]
    },
    {
      "cell_type": "code",
      "source": [
        "help('modules')"
      ],
      "metadata": {
        "colab": {
          "base_uri": "https://localhost:8080/",
          "height": 1000
        },
        "id": "yWUjVqgbLKeI",
        "outputId": "d5ab2b23-1905-4553-b329-4922fa654de4"
      },
      "execution_count": 21,
      "outputs": [
        {
          "output_type": "stream",
          "name": "stderr",
          "text": [
            "ERROR:root:Internal Python error in the inspect module.\n",
            "Below is the traceback from this internal error.\n",
            "\n"
          ]
        },
        {
          "output_type": "stream",
          "name": "stdout",
          "text": [
            "\n",
            "Please wait a moment while I gather a list of all available modules...\n",
            "\n",
            "\u001b[31mUnable to import `black` from betterproto plugin! Please ensure that you've installed betterproto as `pip install \"betterproto[compiler]\"` so that compiler dependencies are included.\u001b[0m\n",
            "Traceback (most recent call last):\n",
            "  File \"/usr/local/lib/python3.11/dist-packages/betterproto/plugin/compiler.py\", line 6, in <module>\n",
            "    import black\n",
            "ModuleNotFoundError: No module named 'black'\n",
            "\n",
            "During handling of the above exception, another exception occurred:\n",
            "\n",
            "Traceback (most recent call last):\n",
            "  File \"/usr/local/lib/python3.11/dist-packages/IPython/core/interactiveshell.py\", line 3553, in run_code\n",
            "    exec(code_obj, self.user_global_ns, self.user_ns)\n",
            "  File \"/tmp/ipython-input-21-2756529105.py\", line 1, in <cell line: 0>\n",
            "    help('modules')\n",
            "  File \"<frozen _sitebuiltins>\", line 103, in __call__\n",
            "  File \"/usr/lib/python3.11/pydoc.py\", line 2101, in __call__\n",
            "    self.help(request)\n",
            "  File \"/usr/lib/python3.11/pydoc.py\", line 2150, in help\n",
            "    elif request == 'modules': self.listmodules()\n",
            "                               ^^^^^^^^^^^^^^^^^^\n",
            "  File \"/usr/lib/python3.11/pydoc.py\", line 2304, in listmodules\n",
            "    ModuleScanner().run(callback, onerror=onerror)\n",
            "  File \"/usr/lib/python3.11/pydoc.py\", line 2333, in run\n",
            "    for importer, modname, ispkg in pkgutil.walk_packages(onerror=onerror):\n",
            "  File \"/usr/lib/python3.11/pkgutil.py\", line 107, in walk_packages\n",
            "    yield from walk_packages(path, info.name+'.', onerror)\n",
            "  File \"/usr/lib/python3.11/pkgutil.py\", line 92, in walk_packages\n",
            "    __import__(info.name)\n",
            "  File \"/usr/local/lib/python3.11/dist-packages/betterproto/plugin/__init__.py\", line 1, in <module>\n",
            "    from .main import main\n",
            "  File \"/usr/local/lib/python3.11/dist-packages/betterproto/plugin/main.py\", line 11, in <module>\n",
            "    from betterproto.plugin.parser import generate_code\n",
            "  File \"/usr/local/lib/python3.11/dist-packages/betterproto/plugin/parser.py\", line 25, in <module>\n",
            "    from .compiler import outputfile_compiler\n",
            "  File \"/usr/local/lib/python3.11/dist-packages/betterproto/plugin/compiler.py\", line 18, in <module>\n",
            "    raise SystemExit(1)\n",
            "SystemExit: 1\n",
            "\n",
            "During handling of the above exception, another exception occurred:\n",
            "\n",
            "Traceback (most recent call last):\n",
            "  File \"/usr/local/lib/python3.11/dist-packages/IPython/core/ultratb.py\", line 1101, in get_records\n",
            "    return _fixed_getinnerframes(etb, number_of_lines_of_context, tb_offset)\n",
            "           ^^^^^^^^^^^^^^^^^^^^^^^^^^^^^^^^^^^^^^^^^^^^^^^^^^^^^^^^^^^^^^^^^\n",
            "  File \"/usr/local/lib/python3.11/dist-packages/IPython/core/ultratb.py\", line 248, in wrapped\n",
            "    return f(*args, **kwargs)\n",
            "           ^^^^^^^^^^^^^^^^^^\n",
            "  File \"/usr/local/lib/python3.11/dist-packages/IPython/core/ultratb.py\", line 281, in _fixed_getinnerframes\n",
            "    records = fix_frame_records_filenames(inspect.getinnerframes(etb, context))\n",
            "                                          ^^^^^^^^^^^^^^^^^^^^^^^^^^^^^^^^^^^^\n",
            "  File \"/usr/lib/python3.11/inspect.py\", line 1739, in getinnerframes\n",
            "    traceback_info = getframeinfo(tb, context)\n",
            "                     ^^^^^^^^^^^^^^^^^^^^^^^^^\n",
            "  File \"/usr/lib/python3.11/inspect.py\", line 1671, in getframeinfo\n",
            "    lineno = frame.f_lineno\n",
            "             ^^^^^^^^^^^^^^\n",
            "AttributeError: 'tuple' object has no attribute 'f_lineno'\n"
          ]
        },
        {
          "output_type": "error",
          "ename": "TypeError",
          "evalue": "object of type 'NoneType' has no len()",
          "traceback": [
            "\u001b[0;31m---------------------------------------------------------------------------\u001b[0m",
            "\u001b[0;31mModuleNotFoundError\u001b[0m                       Traceback (most recent call last)",
            "\u001b[0;32m/usr/local/lib/python3.11/dist-packages/betterproto/plugin/compiler.py\u001b[0m in \u001b[0;36m<module>\u001b[0;34m\u001b[0m\n\u001b[1;32m      5\u001b[0m     \u001b[0;31m# betterproto[compiler] specific dependencies\u001b[0m\u001b[0;34m\u001b[0m\u001b[0;34m\u001b[0m\u001b[0m\n\u001b[0;32m----> 6\u001b[0;31m     \u001b[0;32mimport\u001b[0m \u001b[0mblack\u001b[0m\u001b[0;34m\u001b[0m\u001b[0;34m\u001b[0m\u001b[0m\n\u001b[0m\u001b[1;32m      7\u001b[0m     \u001b[0;32mimport\u001b[0m \u001b[0misort\u001b[0m\u001b[0;34m.\u001b[0m\u001b[0mapi\u001b[0m\u001b[0;34m\u001b[0m\u001b[0;34m\u001b[0m\u001b[0m\n",
            "\u001b[0;31mModuleNotFoundError\u001b[0m: No module named 'black'",
            "\nDuring handling of the above exception, another exception occurred:\n",
            "\u001b[0;31mSystemExit\u001b[0m                                Traceback (most recent call last)",
            "    \u001b[0;31m[... skipping hidden 1 frame]\u001b[0m\n",
            "\u001b[0;32m/tmp/ipython-input-21-2756529105.py\u001b[0m in \u001b[0;36m<cell line: 0>\u001b[0;34m()\u001b[0m\n\u001b[0;32m----> 1\u001b[0;31m \u001b[0mhelp\u001b[0m\u001b[0;34m(\u001b[0m\u001b[0;34m'modules'\u001b[0m\u001b[0;34m)\u001b[0m\u001b[0;34m\u001b[0m\u001b[0;34m\u001b[0m\u001b[0m\n\u001b[0m",
            "\u001b[0;32m/usr/lib/python3.11/_sitebuiltins.py\u001b[0m in \u001b[0;36m__call__\u001b[0;34m(self, *args, **kwds)\u001b[0m\n",
            "\u001b[0;32m/usr/lib/python3.11/pydoc.py\u001b[0m in \u001b[0;36m__call__\u001b[0;34m(self, request)\u001b[0m\n\u001b[1;32m   2100\u001b[0m             \u001b[0;32mtry\u001b[0m\u001b[0;34m:\u001b[0m\u001b[0;34m\u001b[0m\u001b[0;34m\u001b[0m\u001b[0m\n\u001b[0;32m-> 2101\u001b[0;31m                 \u001b[0mself\u001b[0m\u001b[0;34m.\u001b[0m\u001b[0mhelp\u001b[0m\u001b[0;34m(\u001b[0m\u001b[0mrequest\u001b[0m\u001b[0;34m)\u001b[0m\u001b[0;34m\u001b[0m\u001b[0;34m\u001b[0m\u001b[0m\n\u001b[0m\u001b[1;32m   2102\u001b[0m             \u001b[0;32mexcept\u001b[0m \u001b[0mImportError\u001b[0m \u001b[0;32mas\u001b[0m \u001b[0me\u001b[0m\u001b[0;34m:\u001b[0m\u001b[0;34m\u001b[0m\u001b[0;34m\u001b[0m\u001b[0m\n",
            "\u001b[0;32m/usr/lib/python3.11/pydoc.py\u001b[0m in \u001b[0;36mhelp\u001b[0;34m(self, request, is_cli)\u001b[0m\n\u001b[1;32m   2149\u001b[0m             \u001b[0;32melif\u001b[0m \u001b[0mrequest\u001b[0m \u001b[0;34m==\u001b[0m \u001b[0;34m'topics'\u001b[0m\u001b[0;34m:\u001b[0m \u001b[0mself\u001b[0m\u001b[0;34m.\u001b[0m\u001b[0mlisttopics\u001b[0m\u001b[0;34m(\u001b[0m\u001b[0;34m)\u001b[0m\u001b[0;34m\u001b[0m\u001b[0;34m\u001b[0m\u001b[0m\n\u001b[0;32m-> 2150\u001b[0;31m             \u001b[0;32melif\u001b[0m \u001b[0mrequest\u001b[0m \u001b[0;34m==\u001b[0m \u001b[0;34m'modules'\u001b[0m\u001b[0;34m:\u001b[0m \u001b[0mself\u001b[0m\u001b[0;34m.\u001b[0m\u001b[0mlistmodules\u001b[0m\u001b[0;34m(\u001b[0m\u001b[0;34m)\u001b[0m\u001b[0;34m\u001b[0m\u001b[0;34m\u001b[0m\u001b[0m\n\u001b[0m\u001b[1;32m   2151\u001b[0m             \u001b[0;32melif\u001b[0m \u001b[0mrequest\u001b[0m\u001b[0;34m[\u001b[0m\u001b[0;34m:\u001b[0m\u001b[0;36m8\u001b[0m\u001b[0;34m]\u001b[0m \u001b[0;34m==\u001b[0m \u001b[0;34m'modules '\u001b[0m\u001b[0;34m:\u001b[0m\u001b[0;34m\u001b[0m\u001b[0;34m\u001b[0m\u001b[0m\n",
            "\u001b[0;32m/usr/lib/python3.11/pydoc.py\u001b[0m in \u001b[0;36mlistmodules\u001b[0;34m(self, key)\u001b[0m\n\u001b[1;32m   2303\u001b[0m                 \u001b[0mcallback\u001b[0m\u001b[0;34m(\u001b[0m\u001b[0;32mNone\u001b[0m\u001b[0;34m,\u001b[0m \u001b[0mmodname\u001b[0m\u001b[0;34m,\u001b[0m \u001b[0;32mNone\u001b[0m\u001b[0;34m)\u001b[0m\u001b[0;34m\u001b[0m\u001b[0;34m\u001b[0m\u001b[0m\n\u001b[0;32m-> 2304\u001b[0;31m             \u001b[0mModuleScanner\u001b[0m\u001b[0;34m(\u001b[0m\u001b[0;34m)\u001b[0m\u001b[0;34m.\u001b[0m\u001b[0mrun\u001b[0m\u001b[0;34m(\u001b[0m\u001b[0mcallback\u001b[0m\u001b[0;34m,\u001b[0m \u001b[0monerror\u001b[0m\u001b[0;34m=\u001b[0m\u001b[0monerror\u001b[0m\u001b[0;34m)\u001b[0m\u001b[0;34m\u001b[0m\u001b[0;34m\u001b[0m\u001b[0m\n\u001b[0m\u001b[1;32m   2305\u001b[0m             \u001b[0mself\u001b[0m\u001b[0;34m.\u001b[0m\u001b[0mlist\u001b[0m\u001b[0;34m(\u001b[0m\u001b[0mmodules\u001b[0m\u001b[0;34m.\u001b[0m\u001b[0mkeys\u001b[0m\u001b[0;34m(\u001b[0m\u001b[0;34m)\u001b[0m\u001b[0;34m)\u001b[0m\u001b[0;34m\u001b[0m\u001b[0;34m\u001b[0m\u001b[0m\n",
            "\u001b[0;32m/usr/lib/python3.11/pydoc.py\u001b[0m in \u001b[0;36mrun\u001b[0;34m(self, callback, key, completer, onerror)\u001b[0m\n\u001b[1;32m   2332\u001b[0m \u001b[0;34m\u001b[0m\u001b[0m\n\u001b[0;32m-> 2333\u001b[0;31m         \u001b[0;32mfor\u001b[0m \u001b[0mimporter\u001b[0m\u001b[0;34m,\u001b[0m \u001b[0mmodname\u001b[0m\u001b[0;34m,\u001b[0m \u001b[0mispkg\u001b[0m \u001b[0;32min\u001b[0m \u001b[0mpkgutil\u001b[0m\u001b[0;34m.\u001b[0m\u001b[0mwalk_packages\u001b[0m\u001b[0;34m(\u001b[0m\u001b[0monerror\u001b[0m\u001b[0;34m=\u001b[0m\u001b[0monerror\u001b[0m\u001b[0;34m)\u001b[0m\u001b[0;34m:\u001b[0m\u001b[0;34m\u001b[0m\u001b[0;34m\u001b[0m\u001b[0m\n\u001b[0m\u001b[1;32m   2334\u001b[0m             \u001b[0;32mif\u001b[0m \u001b[0mself\u001b[0m\u001b[0;34m.\u001b[0m\u001b[0mquit\u001b[0m\u001b[0;34m:\u001b[0m\u001b[0;34m\u001b[0m\u001b[0;34m\u001b[0m\u001b[0m\n",
            "\u001b[0;32m/usr/lib/python3.11/pkgutil.py\u001b[0m in \u001b[0;36mwalk_packages\u001b[0;34m(path, prefix, onerror)\u001b[0m\n\u001b[1;32m    106\u001b[0m \u001b[0;34m\u001b[0m\u001b[0m\n\u001b[0;32m--> 107\u001b[0;31m                 \u001b[0;32myield\u001b[0m \u001b[0;32mfrom\u001b[0m \u001b[0mwalk_packages\u001b[0m\u001b[0;34m(\u001b[0m\u001b[0mpath\u001b[0m\u001b[0;34m,\u001b[0m \u001b[0minfo\u001b[0m\u001b[0;34m.\u001b[0m\u001b[0mname\u001b[0m\u001b[0;34m+\u001b[0m\u001b[0;34m'.'\u001b[0m\u001b[0;34m,\u001b[0m \u001b[0monerror\u001b[0m\u001b[0;34m)\u001b[0m\u001b[0;34m\u001b[0m\u001b[0;34m\u001b[0m\u001b[0m\n\u001b[0m\u001b[1;32m    108\u001b[0m \u001b[0;34m\u001b[0m\u001b[0m\n",
            "\u001b[0;32m/usr/lib/python3.11/pkgutil.py\u001b[0m in \u001b[0;36mwalk_packages\u001b[0;34m(path, prefix, onerror)\u001b[0m\n\u001b[1;32m     91\u001b[0m             \u001b[0;32mtry\u001b[0m\u001b[0;34m:\u001b[0m\u001b[0;34m\u001b[0m\u001b[0;34m\u001b[0m\u001b[0m\n\u001b[0;32m---> 92\u001b[0;31m                 \u001b[0m__import__\u001b[0m\u001b[0;34m(\u001b[0m\u001b[0minfo\u001b[0m\u001b[0;34m.\u001b[0m\u001b[0mname\u001b[0m\u001b[0;34m)\u001b[0m\u001b[0;34m\u001b[0m\u001b[0;34m\u001b[0m\u001b[0m\n\u001b[0m\u001b[1;32m     93\u001b[0m             \u001b[0;32mexcept\u001b[0m \u001b[0mImportError\u001b[0m\u001b[0;34m:\u001b[0m\u001b[0;34m\u001b[0m\u001b[0;34m\u001b[0m\u001b[0m\n",
            "\u001b[0;32m/usr/local/lib/python3.11/dist-packages/betterproto/plugin/__init__.py\u001b[0m in \u001b[0;36m<module>\u001b[0;34m\u001b[0m\n\u001b[0;32m----> 1\u001b[0;31m \u001b[0;32mfrom\u001b[0m \u001b[0;34m.\u001b[0m\u001b[0mmain\u001b[0m \u001b[0;32mimport\u001b[0m \u001b[0mmain\u001b[0m\u001b[0;34m\u001b[0m\u001b[0;34m\u001b[0m\u001b[0m\n\u001b[0m",
            "\u001b[0;32m/usr/local/lib/python3.11/dist-packages/betterproto/plugin/main.py\u001b[0m in \u001b[0;36m<module>\u001b[0;34m\u001b[0m\n\u001b[1;32m     10\u001b[0m \u001b[0;32mfrom\u001b[0m \u001b[0mbetterproto\u001b[0m\u001b[0;34m.\u001b[0m\u001b[0mplugin\u001b[0m\u001b[0;34m.\u001b[0m\u001b[0mmodels\u001b[0m \u001b[0;32mimport\u001b[0m \u001b[0mmonkey_patch_oneof_index\u001b[0m\u001b[0;34m\u001b[0m\u001b[0;34m\u001b[0m\u001b[0m\n\u001b[0;32m---> 11\u001b[0;31m \u001b[0;32mfrom\u001b[0m \u001b[0mbetterproto\u001b[0m\u001b[0;34m.\u001b[0m\u001b[0mplugin\u001b[0m\u001b[0;34m.\u001b[0m\u001b[0mparser\u001b[0m \u001b[0;32mimport\u001b[0m \u001b[0mgenerate_code\u001b[0m\u001b[0;34m\u001b[0m\u001b[0;34m\u001b[0m\u001b[0m\n\u001b[0m\u001b[1;32m     12\u001b[0m \u001b[0;34m\u001b[0m\u001b[0m\n",
            "\u001b[0;32m/usr/local/lib/python3.11/dist-packages/betterproto/plugin/parser.py\u001b[0m in \u001b[0;36m<module>\u001b[0;34m\u001b[0m\n\u001b[1;32m     24\u001b[0m \u001b[0;34m\u001b[0m\u001b[0m\n\u001b[0;32m---> 25\u001b[0;31m \u001b[0;32mfrom\u001b[0m \u001b[0;34m.\u001b[0m\u001b[0mcompiler\u001b[0m \u001b[0;32mimport\u001b[0m \u001b[0moutputfile_compiler\u001b[0m\u001b[0;34m\u001b[0m\u001b[0;34m\u001b[0m\u001b[0m\n\u001b[0m\u001b[1;32m     26\u001b[0m from .models import (\n",
            "\u001b[0;32m/usr/local/lib/python3.11/dist-packages/betterproto/plugin/compiler.py\u001b[0m in \u001b[0;36m<module>\u001b[0;34m\u001b[0m\n\u001b[1;32m     17\u001b[0m     )\n\u001b[0;32m---> 18\u001b[0;31m     \u001b[0;32mraise\u001b[0m \u001b[0mSystemExit\u001b[0m\u001b[0;34m(\u001b[0m\u001b[0;36m1\u001b[0m\u001b[0;34m)\u001b[0m\u001b[0;34m\u001b[0m\u001b[0;34m\u001b[0m\u001b[0m\n\u001b[0m\u001b[1;32m     19\u001b[0m \u001b[0;34m\u001b[0m\u001b[0m\n",
            "\u001b[0;31mSystemExit\u001b[0m: 1",
            "\nDuring handling of the above exception, another exception occurred:\n",
            "\u001b[0;31mTypeError\u001b[0m                                 Traceback (most recent call last)",
            "    \u001b[0;31m[... skipping hidden 1 frame]\u001b[0m\n",
            "\u001b[0;32m/usr/local/lib/python3.11/dist-packages/IPython/core/interactiveshell.py\u001b[0m in \u001b[0;36mshowtraceback\u001b[0;34m(self, exc_tuple, filename, tb_offset, exception_only, running_compiled_code)\u001b[0m\n\u001b[1;32m   2090\u001b[0m                     stb = ['An exception has occurred, use %tb to see '\n\u001b[1;32m   2091\u001b[0m                            'the full traceback.\\n']\n\u001b[0;32m-> 2092\u001b[0;31m                     stb.extend(self.InteractiveTB.get_exception_only(etype,\n\u001b[0m\u001b[1;32m   2093\u001b[0m                                                                      value))\n\u001b[1;32m   2094\u001b[0m                 \u001b[0;32melse\u001b[0m\u001b[0;34m:\u001b[0m\u001b[0;34m\u001b[0m\u001b[0;34m\u001b[0m\u001b[0m\n",
            "\u001b[0;32m/usr/local/lib/python3.11/dist-packages/IPython/core/ultratb.py\u001b[0m in \u001b[0;36mget_exception_only\u001b[0;34m(self, etype, value)\u001b[0m\n\u001b[1;32m    752\u001b[0m         \u001b[0mvalue\u001b[0m \u001b[0;34m:\u001b[0m \u001b[0mexception\u001b[0m \u001b[0mvalue\u001b[0m\u001b[0;34m\u001b[0m\u001b[0;34m\u001b[0m\u001b[0m\n\u001b[1;32m    753\u001b[0m         \"\"\"\n\u001b[0;32m--> 754\u001b[0;31m         \u001b[0;32mreturn\u001b[0m \u001b[0mListTB\u001b[0m\u001b[0;34m.\u001b[0m\u001b[0mstructured_traceback\u001b[0m\u001b[0;34m(\u001b[0m\u001b[0mself\u001b[0m\u001b[0;34m,\u001b[0m \u001b[0metype\u001b[0m\u001b[0;34m,\u001b[0m \u001b[0mvalue\u001b[0m\u001b[0;34m)\u001b[0m\u001b[0;34m\u001b[0m\u001b[0;34m\u001b[0m\u001b[0m\n\u001b[0m\u001b[1;32m    755\u001b[0m \u001b[0;34m\u001b[0m\u001b[0m\n\u001b[1;32m    756\u001b[0m     \u001b[0;32mdef\u001b[0m \u001b[0mshow_exception_only\u001b[0m\u001b[0;34m(\u001b[0m\u001b[0mself\u001b[0m\u001b[0;34m,\u001b[0m \u001b[0metype\u001b[0m\u001b[0;34m,\u001b[0m \u001b[0mevalue\u001b[0m\u001b[0;34m)\u001b[0m\u001b[0;34m:\u001b[0m\u001b[0;34m\u001b[0m\u001b[0;34m\u001b[0m\u001b[0m\n",
            "\u001b[0;32m/usr/local/lib/python3.11/dist-packages/IPython/core/ultratb.py\u001b[0m in \u001b[0;36mstructured_traceback\u001b[0;34m(self, etype, evalue, etb, tb_offset, context)\u001b[0m\n\u001b[1;32m    627\u001b[0m             \u001b[0mchained_exceptions_tb_offset\u001b[0m \u001b[0;34m=\u001b[0m \u001b[0;36m0\u001b[0m\u001b[0;34m\u001b[0m\u001b[0;34m\u001b[0m\u001b[0m\n\u001b[1;32m    628\u001b[0m             out_list = (\n\u001b[0;32m--> 629\u001b[0;31m                 self.structured_traceback(\n\u001b[0m\u001b[1;32m    630\u001b[0m                     \u001b[0metype\u001b[0m\u001b[0;34m,\u001b[0m \u001b[0mevalue\u001b[0m\u001b[0;34m,\u001b[0m \u001b[0;34m(\u001b[0m\u001b[0metb\u001b[0m\u001b[0;34m,\u001b[0m \u001b[0mchained_exc_ids\u001b[0m\u001b[0;34m)\u001b[0m\u001b[0;34m,\u001b[0m\u001b[0;34m\u001b[0m\u001b[0;34m\u001b[0m\u001b[0m\n\u001b[1;32m    631\u001b[0m                     chained_exceptions_tb_offset, context)\n",
            "\u001b[0;32m/usr/local/lib/python3.11/dist-packages/IPython/core/ultratb.py\u001b[0m in \u001b[0;36mstructured_traceback\u001b[0;34m(self, etype, value, tb, tb_offset, number_of_lines_of_context)\u001b[0m\n\u001b[1;32m   1365\u001b[0m         \u001b[0;32melse\u001b[0m\u001b[0;34m:\u001b[0m\u001b[0;34m\u001b[0m\u001b[0;34m\u001b[0m\u001b[0m\n\u001b[1;32m   1366\u001b[0m             \u001b[0mself\u001b[0m\u001b[0;34m.\u001b[0m\u001b[0mtb\u001b[0m \u001b[0;34m=\u001b[0m \u001b[0mtb\u001b[0m\u001b[0;34m\u001b[0m\u001b[0;34m\u001b[0m\u001b[0m\n\u001b[0;32m-> 1367\u001b[0;31m         return FormattedTB.structured_traceback(\n\u001b[0m\u001b[1;32m   1368\u001b[0m             self, etype, value, tb, tb_offset, number_of_lines_of_context)\n\u001b[1;32m   1369\u001b[0m \u001b[0;34m\u001b[0m\u001b[0m\n",
            "\u001b[0;32m/usr/local/lib/python3.11/dist-packages/IPython/core/ultratb.py\u001b[0m in \u001b[0;36mstructured_traceback\u001b[0;34m(self, etype, value, tb, tb_offset, number_of_lines_of_context)\u001b[0m\n\u001b[1;32m   1265\u001b[0m         \u001b[0;32mif\u001b[0m \u001b[0mmode\u001b[0m \u001b[0;32min\u001b[0m \u001b[0mself\u001b[0m\u001b[0;34m.\u001b[0m\u001b[0mverbose_modes\u001b[0m\u001b[0;34m:\u001b[0m\u001b[0;34m\u001b[0m\u001b[0;34m\u001b[0m\u001b[0m\n\u001b[1;32m   1266\u001b[0m             \u001b[0;31m# Verbose modes need a full traceback\u001b[0m\u001b[0;34m\u001b[0m\u001b[0;34m\u001b[0m\u001b[0m\n\u001b[0;32m-> 1267\u001b[0;31m             return VerboseTB.structured_traceback(\n\u001b[0m\u001b[1;32m   1268\u001b[0m                 \u001b[0mself\u001b[0m\u001b[0;34m,\u001b[0m \u001b[0metype\u001b[0m\u001b[0;34m,\u001b[0m \u001b[0mvalue\u001b[0m\u001b[0;34m,\u001b[0m \u001b[0mtb\u001b[0m\u001b[0;34m,\u001b[0m \u001b[0mtb_offset\u001b[0m\u001b[0;34m,\u001b[0m \u001b[0mnumber_of_lines_of_context\u001b[0m\u001b[0;34m\u001b[0m\u001b[0;34m\u001b[0m\u001b[0m\n\u001b[1;32m   1269\u001b[0m             )\n",
            "\u001b[0;32m/usr/local/lib/python3.11/dist-packages/IPython/core/ultratb.py\u001b[0m in \u001b[0;36mstructured_traceback\u001b[0;34m(self, etype, evalue, etb, tb_offset, number_of_lines_of_context)\u001b[0m\n\u001b[1;32m   1122\u001b[0m         \u001b[0;34m\"\"\"Return a nice text document describing the traceback.\"\"\"\u001b[0m\u001b[0;34m\u001b[0m\u001b[0;34m\u001b[0m\u001b[0m\n\u001b[1;32m   1123\u001b[0m \u001b[0;34m\u001b[0m\u001b[0m\n\u001b[0;32m-> 1124\u001b[0;31m         formatted_exception = self.format_exception_as_a_whole(etype, evalue, etb, number_of_lines_of_context,\n\u001b[0m\u001b[1;32m   1125\u001b[0m                                                                tb_offset)\n\u001b[1;32m   1126\u001b[0m \u001b[0;34m\u001b[0m\u001b[0m\n",
            "\u001b[0;32m/usr/local/lib/python3.11/dist-packages/IPython/core/ultratb.py\u001b[0m in \u001b[0;36mformat_exception_as_a_whole\u001b[0;34m(self, etype, evalue, etb, number_of_lines_of_context, tb_offset)\u001b[0m\n\u001b[1;32m   1080\u001b[0m \u001b[0;34m\u001b[0m\u001b[0m\n\u001b[1;32m   1081\u001b[0m \u001b[0;34m\u001b[0m\u001b[0m\n\u001b[0;32m-> 1082\u001b[0;31m         \u001b[0mlast_unique\u001b[0m\u001b[0;34m,\u001b[0m \u001b[0mrecursion_repeat\u001b[0m \u001b[0;34m=\u001b[0m \u001b[0mfind_recursion\u001b[0m\u001b[0;34m(\u001b[0m\u001b[0morig_etype\u001b[0m\u001b[0;34m,\u001b[0m \u001b[0mevalue\u001b[0m\u001b[0;34m,\u001b[0m \u001b[0mrecords\u001b[0m\u001b[0;34m)\u001b[0m\u001b[0;34m\u001b[0m\u001b[0;34m\u001b[0m\u001b[0m\n\u001b[0m\u001b[1;32m   1083\u001b[0m \u001b[0;34m\u001b[0m\u001b[0m\n\u001b[1;32m   1084\u001b[0m         \u001b[0mframes\u001b[0m \u001b[0;34m=\u001b[0m \u001b[0mself\u001b[0m\u001b[0;34m.\u001b[0m\u001b[0mformat_records\u001b[0m\u001b[0;34m(\u001b[0m\u001b[0mrecords\u001b[0m\u001b[0;34m,\u001b[0m \u001b[0mlast_unique\u001b[0m\u001b[0;34m,\u001b[0m \u001b[0mrecursion_repeat\u001b[0m\u001b[0;34m)\u001b[0m\u001b[0;34m\u001b[0m\u001b[0;34m\u001b[0m\u001b[0m\n",
            "\u001b[0;32m/usr/local/lib/python3.11/dist-packages/IPython/core/ultratb.py\u001b[0m in \u001b[0;36mfind_recursion\u001b[0;34m(etype, value, records)\u001b[0m\n\u001b[1;32m    380\u001b[0m     \u001b[0;31m# first frame (from in to out) that looks different.\u001b[0m\u001b[0;34m\u001b[0m\u001b[0;34m\u001b[0m\u001b[0m\n\u001b[1;32m    381\u001b[0m     \u001b[0;32mif\u001b[0m \u001b[0;32mnot\u001b[0m \u001b[0mis_recursion_error\u001b[0m\u001b[0;34m(\u001b[0m\u001b[0metype\u001b[0m\u001b[0;34m,\u001b[0m \u001b[0mvalue\u001b[0m\u001b[0;34m,\u001b[0m \u001b[0mrecords\u001b[0m\u001b[0;34m)\u001b[0m\u001b[0;34m:\u001b[0m\u001b[0;34m\u001b[0m\u001b[0;34m\u001b[0m\u001b[0m\n\u001b[0;32m--> 382\u001b[0;31m         \u001b[0;32mreturn\u001b[0m \u001b[0mlen\u001b[0m\u001b[0;34m(\u001b[0m\u001b[0mrecords\u001b[0m\u001b[0;34m)\u001b[0m\u001b[0;34m,\u001b[0m \u001b[0;36m0\u001b[0m\u001b[0;34m\u001b[0m\u001b[0;34m\u001b[0m\u001b[0m\n\u001b[0m\u001b[1;32m    383\u001b[0m \u001b[0;34m\u001b[0m\u001b[0m\n\u001b[1;32m    384\u001b[0m     \u001b[0;31m# Select filename, lineno, func_name to track frames with\u001b[0m\u001b[0;34m\u001b[0m\u001b[0;34m\u001b[0m\u001b[0m\n",
            "\u001b[0;31mTypeError\u001b[0m: object of type 'NoneType' has no len()"
          ]
        }
      ]
    },
    {
      "cell_type": "code",
      "source": [
        "import pkgutil\n",
        "\n",
        "for module_info in pkgutil.iter_modules():\n",
        "    print(module_info.name)\n"
      ],
      "metadata": {
        "colab": {
          "base_uri": "https://localhost:8080/"
        },
        "id": "xyRMEpQSLJyi",
        "outputId": "7c9211c5-d9a7-4ffc-cda5-7e83bea4ba47"
      },
      "execution_count": 22,
      "outputs": [
        {
          "output_type": "stream",
          "name": "stdout",
          "text": [
            "__future__\n",
            "__hello__\n",
            "__phello__\n",
            "_aix_support\n",
            "_bootsubprocess\n",
            "_collections_abc\n",
            "_compat_pickle\n",
            "_compression\n",
            "_markupbase\n",
            "_osx_support\n",
            "_py_abc\n",
            "_pydecimal\n",
            "_pyio\n",
            "_sitebuiltins\n",
            "_strptime\n",
            "_sysconfigdata__linux_x86_64-linux-gnu\n",
            "_sysconfigdata__x86_64-linux-gnu\n",
            "_threading_local\n",
            "_weakrefset\n",
            "abc\n",
            "aifc\n",
            "antigravity\n",
            "argparse\n",
            "ast\n",
            "asynchat\n",
            "asyncio\n",
            "asyncore\n",
            "base64\n",
            "bdb\n",
            "bisect\n",
            "bz2\n",
            "cProfile\n",
            "calendar\n",
            "cgi\n",
            "cgitb\n",
            "chunk\n",
            "cmd\n",
            "code\n",
            "codecs\n",
            "codeop\n",
            "collections\n",
            "colorsys\n",
            "compileall\n",
            "concurrent\n",
            "configparser\n",
            "contextlib\n",
            "contextvars\n",
            "copy\n",
            "copyreg\n",
            "crypt\n",
            "csv\n",
            "ctypes\n",
            "curses\n",
            "dataclasses\n",
            "datetime\n",
            "dbm\n",
            "decimal\n",
            "difflib\n",
            "dis\n",
            "distutils\n",
            "doctest\n",
            "email\n",
            "encodings\n",
            "enum\n",
            "filecmp\n",
            "fileinput\n",
            "fnmatch\n",
            "fractions\n",
            "ftplib\n",
            "functools\n",
            "genericpath\n",
            "getopt\n",
            "getpass\n",
            "gettext\n",
            "glob\n",
            "graphlib\n",
            "gzip\n",
            "hashlib\n",
            "heapq\n",
            "hmac\n",
            "html\n",
            "http\n",
            "imaplib\n",
            "imghdr\n",
            "imp\n",
            "importlib\n",
            "inspect\n",
            "io\n",
            "ipaddress\n",
            "json\n",
            "keyword\n",
            "lib2to3\n",
            "linecache\n",
            "locale\n",
            "logging\n",
            "lzma\n",
            "mailbox\n",
            "mailcap\n",
            "mimetypes\n",
            "modulefinder\n",
            "multiprocessing\n",
            "netrc\n",
            "nntplib\n",
            "ntpath\n",
            "nturl2path\n",
            "numbers\n",
            "opcode\n",
            "operator\n",
            "optparse\n",
            "os\n",
            "pathlib\n",
            "pdb\n",
            "pickle\n",
            "pickletools\n",
            "pipes\n",
            "pkgutil\n",
            "platform\n",
            "plistlib\n",
            "poplib\n",
            "posixpath\n",
            "pprint\n",
            "profile\n",
            "pstats\n",
            "pty\n",
            "py_compile\n",
            "pyclbr\n",
            "pydoc\n",
            "pydoc_data\n",
            "queue\n",
            "quopri\n",
            "random\n",
            "re\n",
            "reprlib\n",
            "rlcompleter\n",
            "runpy\n",
            "sched\n",
            "secrets\n",
            "selectors\n",
            "shelve\n",
            "shlex\n",
            "shutil\n",
            "signal\n",
            "site\n",
            "sitecustomize\n",
            "smtpd\n",
            "smtplib\n",
            "sndhdr\n",
            "socket\n",
            "socketserver\n",
            "sqlite3\n",
            "sre_compile\n",
            "sre_constants\n",
            "sre_parse\n",
            "ssl\n",
            "stat\n",
            "statistics\n",
            "string\n",
            "stringprep\n",
            "struct\n",
            "subprocess\n",
            "sunau\n",
            "symtable\n",
            "sysconfig\n",
            "tabnanny\n",
            "tarfile\n",
            "telnetlib\n",
            "tempfile\n",
            "test\n",
            "textwrap\n",
            "this\n",
            "threading\n",
            "timeit\n",
            "tkinter\n",
            "token\n",
            "tokenize\n",
            "tomllib\n",
            "trace\n",
            "traceback\n",
            "tracemalloc\n",
            "tty\n",
            "turtle\n",
            "types\n",
            "typing\n",
            "unittest\n",
            "urllib\n",
            "uu\n",
            "uuid\n",
            "venv\n",
            "warnings\n",
            "wave\n",
            "weakref\n",
            "webbrowser\n",
            "wsgiref\n",
            "xdrlib\n",
            "xml\n",
            "xmlrpc\n",
            "zipapp\n",
            "zipfile\n",
            "zipimport\n",
            "zoneinfo\n",
            "_asyncio\n",
            "_bz2\n",
            "_codecs_cn\n",
            "_codecs_hk\n",
            "_codecs_iso2022\n",
            "_codecs_jp\n",
            "_codecs_kr\n",
            "_codecs_tw\n",
            "_contextvars\n",
            "_crypt\n",
            "_ctypes\n",
            "_ctypes_test\n",
            "_curses\n",
            "_curses_panel\n",
            "_dbm\n",
            "_decimal\n",
            "_hashlib\n",
            "_json\n",
            "_lsprof\n",
            "_lzma\n",
            "_multibytecodec\n",
            "_multiprocessing\n",
            "_posixshmem\n",
            "_queue\n",
            "_sqlite3\n",
            "_ssl\n",
            "_testbuffer\n",
            "_testcapi\n",
            "_testclinic\n",
            "_testimportmultiple\n",
            "_testinternalcapi\n",
            "_testmultiphase\n",
            "_tkinter\n",
            "_typing\n",
            "_uuid\n",
            "_xxsubinterpreters\n",
            "_xxtestfuzz\n",
            "_zoneinfo\n",
            "audioop\n",
            "mmap\n",
            "nis\n",
            "ossaudiodev\n",
            "readline\n",
            "resource\n",
            "termios\n",
            "xxlimited\n",
            "xxlimited_35\n",
            "Cryptodome\n",
            "Cython\n",
            "IPython\n",
            "OpenGL\n",
            "OpenSSL\n",
            "PIL\n",
            "_argon2_cffi_bindings\n",
            "_cffi_backend\n",
            "_cvxcore\n",
            "_cvxpy_sparsecholesky\n",
            "_distutils_hack\n",
            "_dlib_pybind11\n",
            "_kernel_lib\n",
            "_multiprocess\n",
            "_numba_cuda_redirector\n",
            "_nx_cugraph\n",
            "_plotly_future_\n",
            "_plotly_utils\n",
            "_pytest\n",
            "_rinterface_cffi_abi\n",
            "_rinterface_cffi_api\n",
            "_scs_direct\n",
            "_scs_indirect\n",
            "_soundfile\n",
            "_soundfile_data\n",
            "_yaml\n",
            "absl\n",
            "accelerate\n",
            "adbc_driver_duckdb\n",
            "aiofiles\n",
            "aiohappyeyeballs\n",
            "aiohttp\n",
            "aiosignal\n",
            "alabaster\n",
            "albucore\n",
            "albumentations\n",
            "ale_py\n",
            "altair\n",
            "annotated_types\n",
            "antlr4\n",
            "anyio\n",
            "apiclient\n",
            "apt\n",
            "apt_inst\n",
            "apt_pkg\n",
            "aptsources\n",
            "argon2\n",
            "array_record\n",
            "arviz\n",
            "astropy\n",
            "astropy_iers_data\n",
            "astunparse\n",
            "attr\n",
            "attrs\n",
            "audioread\n",
            "autograd\n",
            "babel\n",
            "backcall\n",
            "backports\n",
            "betterproto\n",
            "bigframes\n",
            "bigframes_vendored\n",
            "bigquery_magics\n",
            "bleach\n",
            "blinker\n",
            "blis\n",
            "blobfile\n",
            "blosc2\n",
            "bokeh\n",
            "bottleneck\n",
            "box\n",
            "bqplot\n",
            "branca\n",
            "bs4\n",
            "build\n",
            "cachecontrol\n",
            "cachetools\n",
            "cairo\n",
            "catalogue\n",
            "certifi\n",
            "cffi\n",
            "chardet\n",
            "charset_normalizer\n",
            "chex\n",
            "clang\n",
            "clarabel\n",
            "cli\n",
            "click\n",
            "cloudpathlib\n",
            "cloudpickle\n",
            "cmake\n",
            "cmdstanpy\n",
            "colab_kernel_launcher\n",
            "colorcet\n",
            "colorlover\n",
            "colour\n",
            "community\n",
            "confection\n",
            "cons\n",
            "contourpy\n",
            "cpuinfo\n",
            "cramjam\n",
            "cryptography\n",
            "cuda\n",
            "cudf\n",
            "cudf_polars\n",
            "cufflinks\n",
            "cuml\n",
            "cupy\n",
            "cupy_backends\n",
            "cupyx\n",
            "curl_cffi\n",
            "cuvs\n",
            "cv2\n",
            "cvxopt\n",
            "cvxpy\n",
            "cycler\n",
            "cyipopt\n",
            "cymem\n",
            "cython\n",
            "dask\n",
            "dask_cuda\n",
            "dask_cudf\n",
            "datascience\n",
            "datasets\n",
            "dateutil\n",
            "db_dtypes\n",
            "debugpy\n",
            "decorator\n",
            "defusedxml\n",
            "diffusers\n",
            "dill\n",
            "distributed\n",
            "distributed_ucxx\n",
            "distro\n",
            "dlib\n",
            "docstring_parser\n",
            "docutils\n",
            "dopamine\n",
            "duckdb\n",
            "easydict\n",
            "editdistance\n",
            "ee\n",
            "eerepr\n",
            "einops\n",
            "en_core_web_sm\n",
            "entrypoints\n",
            "erfa\n",
            "et_xmlfile\n",
            "etils\n",
            "etuples\n",
            "example\n",
            "farama_notifications\n",
            "fastai\n",
            "fastapi\n",
            "fastcore\n",
            "fastdownload\n",
            "fastjsonschema\n",
            "fastprogress\n",
            "fastrlock\n",
            "ffmpy\n",
            "filelock\n",
            "firebase_admin\n",
            "flask\n",
            "flatbuffers\n",
            "flax\n",
            "folium\n",
            "fontTools\n",
            "frozendict\n",
            "frozenlist\n",
            "fsspec\n",
            "functorch\n",
            "future\n",
            "gast\n",
            "gcsfs\n",
            "gdown\n",
            "geemap\n",
            "geocoder\n",
            "geographiclib\n",
            "geopandas\n",
            "geopy\n",
            "gi\n",
            "gin\n",
            "git\n",
            "gitdb\n",
            "glob2\n",
            "google\n",
            "google_auth_httplib2\n",
            "google_auth_oauthlib\n",
            "google_crc32c\n",
            "googleapiclient\n",
            "googledrivedownloader\n",
            "googlesearch\n",
            "gradio\n",
            "gradio_client\n",
            "graphviz\n",
            "greenlet\n",
            "groovy\n",
            "grpc\n",
            "grpc_interceptor\n",
            "grpc_status\n",
            "grpclib\n",
            "gspread\n",
            "gspread_dataframe\n",
            "gym\n",
            "gym_notices\n",
            "gymnasium\n",
            "h11\n",
            "h2\n",
            "h5netcdf\n",
            "h5py\n",
            "hdbscan\n",
            "hf_transfer\n",
            "hf_xet\n",
            "highspy\n",
            "holidays\n",
            "holoviews\n",
            "hpack\n",
            "html5lib\n",
            "httpcore\n",
            "httpimport\n",
            "httplib2\n",
            "httpx\n",
            "huggingface_hub\n",
            "humanize\n",
            "hyperframe\n",
            "hyperopt\n",
            "ibis\n",
            "idna\n",
            "imageio\n",
            "imageio_ffmpeg\n",
            "imagesize\n",
            "imblearn\n",
            "immutabledict\n",
            "importlib_metadata\n",
            "importlib_resources\n",
            "imutils\n",
            "inflect\n",
            "iniconfig\n",
            "ipopt\n",
            "ipopt_wrapper\n",
            "ipyevents\n",
            "ipyfilechooser\n",
            "ipykernel\n",
            "ipykernel_launcher\n",
            "ipyleaflet\n",
            "ipyparallel\n",
            "ipython_genutils\n",
            "ipytree\n",
            "ipywidgets\n",
            "isympy\n",
            "itsdangerous\n",
            "jax\n",
            "jaxlib\n",
            "jeepney\n",
            "jieba\n",
            "jinja2\n",
            "jiter\n",
            "joblib\n",
            "jsonpatch\n",
            "jsonpickle\n",
            "jsonpointer\n",
            "jsonschema\n",
            "jsonschema_specifications\n",
            "jupyter\n",
            "jupyter_client\n",
            "jupyter_console\n",
            "jupyter_core\n",
            "jupyter_leaflet\n",
            "jupyter_server\n",
            "jupyterlab_jupytext\n",
            "jupyterlab_plotly\n",
            "jupyterlab_pygments\n",
            "jupyterlab_widgets\n",
            "jupytext\n",
            "jupytext_config\n",
            "jwt\n",
            "kaggle\n",
            "kagglehub\n",
            "kagglesdk\n",
            "kanren\n",
            "keras\n",
            "keras_hub\n",
            "keras_nlp\n",
            "kernel_gateway\n",
            "keyring\n",
            "kiwisolver\n",
            "langchain\n",
            "langchain_core\n",
            "langchain_text_splitters\n",
            "langcodes\n",
            "langsmith\n",
            "language_data\n",
            "lazy_loader\n",
            "libcudf\n",
            "libcugraph\n",
            "libcuml\n",
            "libcuvs\n",
            "libfuturize\n",
            "libkvikio\n",
            "libpasteurize\n",
            "libpysal\n",
            "libraft\n",
            "librmm\n",
            "librosa\n",
            "libucx\n",
            "libucxx\n",
            "lightgbm\n",
            "linkify_it\n",
            "llvmlite\n",
            "locket\n",
            "lxml\n",
            "marisa_trie\n",
            "markdown\n",
            "markdown_it\n",
            "markupsafe\n",
            "matplotlib\n",
            "matplotlib_inline\n",
            "matplotlib_venn\n",
            "mdit_py_plugins\n",
            "mdurl\n",
            "missingno\n",
            "mistune\n",
            "mizani\n",
            "ml_dtypes\n",
            "mlxtend\n",
            "more_itertools\n",
            "moviepy\n",
            "mpmath\n",
            "msgpack\n",
            "multidict\n",
            "multipart\n",
            "multipledispatch\n",
            "multiprocess\n",
            "multitasking\n",
            "murmurhash\n",
            "music21\n",
            "namex\n",
            "narwhals\n",
            "natsort\n",
            "nbclassic\n",
            "nbclient\n",
            "nbconvert\n",
            "nbformat\n",
            "ndindex\n",
            "nest_asyncio\n",
            "networkx\n",
            "nibabel\n",
            "nltk\n",
            "notebook\n",
            "notebook_shim\n",
            "numba\n",
            "numba_cuda\n",
            "numbergen\n",
            "numexpr\n",
            "numpy\n",
            "nvidia\n",
            "nvtx\n",
            "nx_cugraph\n",
            "oauth2client\n",
            "oauthlib\n",
            "omegaconf\n",
            "openai\n",
            "openpyxl\n",
            "opt_einsum\n",
            "optax\n",
            "optree\n",
            "orjson\n",
            "osgeo\n",
            "osgeo_utils\n",
            "osqp\n",
            "packaging\n",
            "pandas\n",
            "pandas_datareader\n",
            "pandas_gbq\n",
            "pandocfilters\n",
            "panel\n",
            "param\n",
            "parso\n",
            "parsy\n",
            "partd\n",
            "past\n",
            "pasta\n",
            "patsy\n",
            "peewee\n",
            "peft\n",
            "pexpect\n",
            "pickleshare\n",
            "pip\n",
            "pkg_resources\n",
            "platformdirs\n",
            "playhouse\n",
            "plotly\n",
            "plotnine\n",
            "pluggy\n",
            "ply\n",
            "polars\n",
            "pooch\n",
            "portpicker\n",
            "preshed\n",
            "prettytable\n",
            "proglog\n",
            "progressbar\n",
            "prometheus_client\n",
            "promise\n",
            "prompt_toolkit\n",
            "propcache\n",
            "prophet\n",
            "proto\n",
            "psutil\n",
            "psycopg2\n",
            "ptyprocess\n",
            "public\n",
            "pwiz\n",
            "py\n",
            "py4j\n",
            "pyarrow\n",
            "pyasn1\n",
            "pyasn1_modules\n",
            "pycocotools\n",
            "pycparser\n",
            "pydantic\n",
            "pydantic_core\n",
            "pydata_google_auth\n",
            "pydevd_plugins\n",
            "pydot\n",
            "pydotplus\n",
            "pydrive\n",
            "pydrive2\n",
            "pydub\n",
            "pygame\n",
            "pygit2\n",
            "pygments\n",
            "pygtkcompat\n",
            "pylab\n",
            "pylibcudf\n",
            "pylibcugraph\n",
            "pylibraft\n",
            "pymc\n",
            "pymystem3\n",
            "pynndescent\n",
            "pynvjitlink\n",
            "pynvml\n",
            "pynvml_utils\n",
            "pyogrio\n",
            "pyomo\n",
            "pyparsing\n",
            "pyperclip\n",
            "pyproj\n",
            "pyproject_hooks\n",
            "pyspark\n",
            "pytensor\n",
            "pytest\n",
            "python_multipart\n",
            "python_utils\n",
            "pytz\n",
            "pyviz_comms\n",
            "pywt\n",
            "pyximport\n",
            "raft_dask\n",
            "rapids_dask_dependency\n",
            "rapids_logger\n",
            "ratelim\n",
            "recipes\n",
            "referencing\n",
            "regex\n",
            "requests\n",
            "requests_oauthlib\n",
            "requests_toolbelt\n",
            "requirements\n",
            "rich\n",
            "rmm\n",
            "roman_numerals\n",
            "rpds\n",
            "rpy2\n",
            "rsa\n",
            "ruff\n",
            "safehttpx\n",
            "safetensors\n",
            "scipy\n",
            "scooby\n",
            "scs\n",
            "seaborn\n",
            "secretstorage\n",
            "semantic_version\n",
            "send2trash\n",
            "sentence_transformers\n",
            "sentencepiece\n",
            "sentry_sdk\n",
            "setup\n",
            "setuptools\n",
            "shap\n",
            "shapefile\n",
            "shapely\n",
            "shellingham\n",
            "simple_parsing\n",
            "simplejson\n",
            "simsimd\n",
            "six\n",
            "skimage\n",
            "sklearn\n",
            "sklearn_compat\n",
            "sklearn_pandas\n",
            "slicer\n",
            "slugify\n",
            "smart_open\n",
            "smmap\n",
            "snappy\n",
            "sniffio\n",
            "snowballstemmer\n",
            "socks\n",
            "sockshandler\n",
            "sortedcontainers\n",
            "soundfile\n",
            "soupsieve\n",
            "soxr\n",
            "spacy\n",
            "spacy_legacy\n",
            "spacy_loggers\n",
            "spanner_graphs\n",
            "sphinx\n",
            "sql\n",
            "sqlalchemy\n",
            "sqlglot\n",
            "sqlparse\n",
            "srsly\n",
            "stanio\n",
            "starlette\n",
            "statsmodels\n",
            "stringzilla\n",
            "stumpy\n",
            "sympy\n",
            "tables\n",
            "tabulate\n",
            "tblib\n",
            "tenacity\n",
            "tensorboard\n",
            "tensorboard_data_server\n",
            "tensorflow\n",
            "tensorflow_datasets\n",
            "tensorflow_decision_forests\n",
            "tensorflow_hub\n",
            "tensorflow_io_gcs_filesystem\n",
            "tensorflow_metadata\n",
            "tensorflow_probability\n",
            "tensorflow_text\n",
            "tensorstore\n",
            "termcolor\n",
            "terminado\n",
            "tests\n",
            "text_unidecode\n",
            "textblob\n",
            "tf_keras\n",
            "tf_slim\n",
            "thinc\n",
            "threadpoolctl\n",
            "tifffile\n",
            "tiktoken\n",
            "timm\n",
            "tinycss2\n",
            "tlz\n",
            "tokenizers\n",
            "toml\n",
            "tomlkit\n",
            "toolz\n",
            "torch\n",
            "torchao\n",
            "torchaudio\n",
            "torchdata\n",
            "torchgen\n",
            "torchsummary\n",
            "torchtune\n",
            "torchvision\n",
            "torio\n",
            "tornado\n",
            "tqdm\n",
            "traitlets\n",
            "traittypes\n",
            "transformers\n",
            "tree\n",
            "treelite\n",
            "treescope\n",
            "triton\n",
            "tsfresh\n",
            "tweepy\n",
            "typeguard\n",
            "typer\n",
            "typing_extensions\n",
            "typing_inspection\n",
            "tzdata\n",
            "tzlocal\n",
            "uc_micro\n",
            "ucp\n",
            "ucxx\n",
            "umap\n",
            "unification\n",
            "uritemplate\n",
            "urllib3\n",
            "uvicorn\n",
            "vega_datasets\n",
            "vertex_ray\n",
            "vertexai\n",
            "wandb\n",
            "wasabi\n",
            "wcwidth\n",
            "weasel\n",
            "webcolors\n",
            "webencodings\n",
            "websocket\n",
            "websockets\n",
            "werkzeug\n",
            "wheel\n",
            "widgetsnbextension\n",
            "wordcloud\n",
            "wrapt\n",
            "wurlitzer\n",
            "xarray\n",
            "xarray_einstats\n",
            "xgboost\n",
            "xlrd\n",
            "xxhash\n",
            "xyzservices\n",
            "yaml\n",
            "yarl\n",
            "ydf\n",
            "yellowbrick\n",
            "yfinance\n",
            "yggdrasil_decision_forests\n",
            "zict\n",
            "zipp\n",
            "zmq\n",
            "zstandard\n",
            "boost\n",
            "dbus\n",
            "launchpadlib\n",
            "lsb_release\n",
            "mako\n",
            "softwareproperties\n",
            "wadllib\n",
            "autoreload\n",
            "cythonmagic\n",
            "rmagic\n",
            "storemagic\n",
            "sympyprinting\n",
            "autocommand\n",
            "tomli\n"
          ]
        }
      ]
    },
    {
      "cell_type": "code",
      "source": [
        "import sys\n",
        "\n",
        "print(sys.modules.keys())"
      ],
      "metadata": {
        "colab": {
          "base_uri": "https://localhost:8080/"
        },
        "id": "mmxjw9KnMRb6",
        "outputId": "fb6ecde2-36bf-4839-e6fe-aaba7e903fb2"
      },
      "execution_count": 23,
      "outputs": [
        {
          "output_type": "stream",
          "name": "stdout",
          "text": [
            "dict_keys(['sys', 'builtins', '_frozen_importlib', '_imp', '_thread', '_warnings', '_weakref', '_io', 'marshal', 'posix', '_frozen_importlib_external', 'time', 'zipimport', '_codecs', 'codecs', 'encodings.aliases', 'encodings', 'encodings.utf_8', '_signal', '_abc', 'abc', 'io', '__main__', 'types', '_operator', 'operator', '_collections_abc', 'itertools', 'keyword', 'reprlib', '_collections', 'collections', '_functools', 'functools', 'enum', '_sre', 're._constants', 're._parser', 're._casefix', 're._compiler', 'copyreg', 're', 'warnings', '_stat', 'stat', 'genericpath', 'posixpath', 'os.path', 'os', '_sitebuiltins', 'importlib._bootstrap', 'importlib._bootstrap_external', 'importlib', 'importlib.machinery', 'importlib._abc', 'fnmatch', 'ntpath', 'errno', 'urllib', 'ipaddress', 'urllib.parse', 'pathlib', 'zlib', '_compression', '_bz2', 'bz2', '_lzma', 'lzma', 'shutil', 'math', '_bisect', 'bisect', '_random', '_sha512', 'random', '_weakrefset', 'weakref', 'tempfile', 'contextlib', 'collections.abc', '_typing', 'typing.io', 'typing.re', 'typing', 'importlib.resources.abc', 'importlib.resources._adapters', 'importlib.resources._common', 'importlib.resources._legacy', 'importlib.resources', 'importlib.abc', '_numba_cuda_redirector', 'threading', 'importlib.util', 'rapids_dask_dependency.utils', 'rapids_dask_dependency.dask_loader', 'rapids_dask_dependency', '_distutils_hack', 'google', 'google.cloud', 'sphinxcontrib', 'sitecustomize', 'site', 'runpy', 'ipykernel._version', '_json', 'json.scanner', 'json.decoder', 'json.encoder', 'json', '_locale', 'locale', 'signal', 'fcntl', '_posixsubprocess', 'select', 'selectors', 'subprocess', 'jupyter_client._version', 'glob', '_socket', 'array', 'socket', 'termios', 'getpass', 'platform', '_ctypes', '_struct', 'struct', 'ctypes._endian', 'ctypes', 'zmq.backend.select', '_cython_0_29_32', 'cython_runtime', 'zmq.error', 'zmq.backend.cython.context', 'zmq.backend.cython.message', 'copy', '_compat_pickle', '_pickle', 'pickle', 'zmq.constants', 'zmq.backend.cython.socket', 'zmq.backend.cython._device', 'zmq.backend.cython._poll', 'zmq.backend.cython._proxy_steerable', 'zmq.backend.cython._version', 'zmq.backend.cython.error', 'zmq.backend.cython.utils', 'zmq.backend.cython', 'zmq.backend', 'atexit', 'zmq.sugar.attrsettr', 'zmq._typing', 'zmq.utils', 'zmq.utils.jsonapi', 'zmq.sugar.poll', 'zmq.sugar.socket', 'zmq.sugar.context', 'zmq.sugar.frame', 'zmq.sugar.tracker', 'zmq.sugar.version', 'zmq.sugar.stopwatch', 'zmq.sugar', 'zmq', '_ast', 'ast', '_opcode', 'opcode', 'dis', 'token', 'tokenize', 'linecache', 'inspect', 'traitlets.utils', 'traitlets.utils.bunch', 'traitlets.utils.descriptions', 'traitlets.utils.getargspec', 'traitlets.utils.importstring', 'traitlets.utils.sentinel', 'traitlets.traitlets', 'traitlets._version', 'traitlets.utils.decorators', 'traitlets', 'textwrap', 'traceback', '_string', 'string', 'logging', 'dataclasses', 'pprint', '_heapq', 'heapq', '_queue', 'queue', 'logging.handlers', 'socketserver', 'logging.config', 'traitlets.utils.text', 'gettext', 'argparse', 'traitlets.config.loader', 'traitlets.config.configurable', 'traitlets.utils.nested_update', 'traitlets.config.application', 'traitlets.config', 'jupyter_client.localinterfaces', '__future__', 'jupyter_core.version', 'jupyter_core', 'platformdirs.api', 'platformdirs.version', 'configparser', 'platformdirs.unix', 'platformdirs', 'concurrent', 'concurrent.futures._base', 'concurrent.futures', '_ssl', 'binascii', 'base64', 'ssl', 'asyncio.constants', 'asyncio.coroutines', '_contextvars', 'contextvars', 'asyncio.format_helpers', 'asyncio.base_futures', 'asyncio.exceptions', 'asyncio.base_tasks', '_asyncio', 'asyncio.events', 'asyncio.futures', 'asyncio.protocols', 'asyncio.transports', 'asyncio.log', 'asyncio.sslproto', 'asyncio.mixins', 'asyncio.tasks', 'asyncio.locks', 'asyncio.staggered', 'asyncio.trsock', 'asyncio.base_events', 'asyncio.runners', 'asyncio.queues', 'asyncio.streams', 'asyncio.subprocess', 'asyncio.taskgroups', 'asyncio.timeouts', 'asyncio.threads', 'asyncio.base_subprocess', 'asyncio.selector_events', 'asyncio.unix_events', 'asyncio', 'jupyter_core.utils', 'jupyter_core.paths', 'jupyter_client.utils', 'jupyter_client.connect', 'traitlets.log', 'jupyter_client.launcher', 'jupyter_client.channelsabc', 'jupyter_client.channels', 'jupyter_client.clientabc', 'jupyter_client.client', 'jupyter_client.kernelspec', 'jupyter_client.managerabc', 'jupyter_client.manager', 'jupyter_client.blocking.channels', 'jupyter_client.blocking.client', 'jupyter_client.blocking', 'zmq._future', 'zmq.asyncio', 'jupyter_client.asynchronous.channels', 'jupyter_client.asynchronous.client', 'jupyter_client.asynchronous', '_uuid', 'uuid', 'jupyter_client.multikernelmanager', 'jupyter_client', 'ipykernel.connect', 'ipykernel', 'IPython.core', 'IPython.core.getipython', 'IPython.core.release', 'pkgutil', 'sysconfig', '_sysconfigdata__x86_64-linux-gnu', 'pydoc', 'bdb', 'IPython.utils', 'IPython.utils.ipstruct', 'IPython.utils.coloransi', 'pygments', 'IPython.utils.colorable', 'IPython.utils.PyColorize', 'IPython.utils.encoding', 'IPython.utils.py3compat', 'IPython.core.excolors', 'IPython.testing', 'IPython.testing.skipdoctest', 'cmd', 'codeop', 'code', 'pdb', 'IPython.core.debugger', 'IPython.core.display_trap', 'pexpect.exceptions', 'pexpect.utils', 'pexpect.expect', 'tty', 'pty', 'resource', 'ptyprocess.util', 'ptyprocess.ptyprocess', 'ptyprocess', 'pexpect.spawnbase', 'pexpect.pty_spawn', 'pexpect.run', 'pexpect', 'shlex', 'IPython.utils._process_common', 'IPython.utils._process_posix', 'IPython.utils.process', 'IPython.utils.decorators', 'IPython.utils.path', 'IPython.utils.data', 'IPython.utils.terminal', 'IPython.core.ultratb', 'IPython.utils._sysinfo', 'IPython.utils.sysinfo', 'IPython.core.crashhandler', 'IPython.utils.importstring', 'IPython.paths', 'IPython.core.profiledir', 'IPython.core.application', 'IPython.terminal', '_hashlib', '_blake2', 'hashlib', 'IPython.core.compilerop', 'IPython.core.error', 'IPython.utils.text', 'IPython.core.magic_arguments', 'getopt', 'mimetypes', 'IPython.core.display', 'IPython.core.page', 'IPython.lib.security', 'IPython.lib', '_datetime', 'datetime', 'IPython.lib.pretty', 'IPython.utils.openpy', 'IPython.utils.dir2', 'IPython.utils.wildcard', 'pygments.lexers._mapping', 'pygments.modeline', '_csv', 'csv', 'email', 'zipfile', 'quopri', 'calendar', 'email._parseaddr', 'email.base64mime', 'email.quoprimime', 'email.errors', 'email.encoders', 'email.charset', 'email.utils', 'email.header', 'email._policybase', 'email._encoded_words', 'email.iterators', 'email.message', 'importlib.metadata._functools', 'importlib.metadata._text', 'importlib.metadata._adapters', 'importlib.metadata._meta', 'importlib.metadata._collections', 'importlib.metadata._itertools', 'importlib.metadata', 'pygments.plugin', 'pygments.util', 'pygments.lexers', 'pygments.filter', 'pygments.token', 'pygments.filters', 'pygments.regexopt', 'pygments.lexer', 'pygments.unistring', 'pygments.lexers.python', 'pygments.formatters._mapping', 'pygments.formatters', 'pygments.styles._mapping', 'pygments.styles', 'pygments.formatter', 'pygments.formatters.html', 'IPython.core.oinspect', 'IPython.core.inputtransformer2', 'decorator', 'IPython.core.magic', 'pickleshare', 'IPython.core.autocall', 'IPython.core.macro', 'IPython.core.splitinput', 'IPython.core.prefilter', 'IPython.core.alias', 'IPython.core.builtin_trap', 'backcall.backcall', 'backcall', 'IPython.core.events', 'IPython.core.displayhook', 'IPython.core.displaypub', 'IPython.core.extensions', 'IPython.utils.sentinel', 'IPython.core.formatters', '_sqlite3', 'sqlite3.dbapi2', 'sqlite3', 'IPython.core.history', 'IPython.core.logger', 'IPython.core.payload', 'IPython.core.usage', 'html.entities', 'html', 'IPython.lib.display', 'IPython.display', 'IPython.utils.capture', 'IPython.utils.io', 'IPython.core.hooks', 'IPython.utils.strdispatch', 'IPython.utils.syspathcontext', 'IPython.utils.tempdir', 'IPython.utils.contexts', 'IPython.core.async_helpers', 'IPython.core.interactiveshell', 'prompt_toolkit.application.current', 'prompt_toolkit.eventloop.utils', 'prompt_toolkit.eventloop.async_generator', 'prompt_toolkit.eventloop.inputhook', 'prompt_toolkit.eventloop', 'prompt_toolkit.application.run_in_terminal', 'prompt_toolkit.selection', 'prompt_toolkit.clipboard.base', 'prompt_toolkit.clipboard.in_memory', 'prompt_toolkit.clipboard', 'prompt_toolkit.cache', 'prompt_toolkit.enums', 'prompt_toolkit.filters.base', 'prompt_toolkit.filters.app', 'prompt_toolkit.filters.cli', 'prompt_toolkit.filters.utils', 'prompt_toolkit.filters', 'prompt_toolkit.document', 'prompt_toolkit.auto_suggest', 'prompt_toolkit.keys', 'prompt_toolkit.key_binding.key_bindings', 'wcwidth.table_vs16', 'wcwidth.table_wide', 'wcwidth.table_zero', 'wcwidth.unicode_versions', 'wcwidth.wcwidth', 'wcwidth', 'prompt_toolkit.utils', 'prompt_toolkit.key_binding.key_processor', 'prompt_toolkit.key_binding', 'prompt_toolkit.key_binding.vi_state', 'prompt_toolkit.cursor_shapes', 'prompt_toolkit.data_structures', 'prompt_toolkit.styles.base', 'prompt_toolkit.styles.named_colors', 'prompt_toolkit.styles.style', 'prompt_toolkit.styles.defaults', 'prompt_toolkit.styles.pygments', 'colorsys', 'prompt_toolkit.styles.style_transformation', 'prompt_toolkit.styles', 'prompt_toolkit.output.color_depth', 'prompt_toolkit.output.base', 'prompt_toolkit.output.flush_stdout', 'prompt_toolkit.output.plain_text', 'prompt_toolkit.output.defaults', 'prompt_toolkit.output', 'prompt_toolkit.output.vt100', 'prompt_toolkit.mouse_events', 'prompt_toolkit.formatted_text.base', 'prompt_toolkit.formatted_text.ansi', 'xml', 'xml.dom.domreg', 'xml.dom', 'xml.dom.minicompat', 'xml.dom.NodeFilter', 'xml.dom.xmlbuilder', 'xml.dom.minidom', 'prompt_toolkit.formatted_text.html', 'prompt_toolkit.formatted_text.pygments', 'prompt_toolkit.formatted_text.utils', 'prompt_toolkit.formatted_text', 'prompt_toolkit.completion.base', 'prompt_toolkit.completion.deduplicate', 'prompt_toolkit.completion.filesystem', 'prompt_toolkit.completion.word_completer', 'prompt_toolkit.completion.fuzzy_completer', 'prompt_toolkit.completion.nested', 'prompt_toolkit.completion', 'prompt_toolkit.history', 'prompt_toolkit.search', 'prompt_toolkit.validation', 'prompt_toolkit.buffer', 'prompt_toolkit.input.base', 'prompt_toolkit.input.defaults', 'prompt_toolkit.input', 'prompt_toolkit.input.typeahead', 'prompt_toolkit.key_binding.bindings', 'prompt_toolkit.key_binding.bindings.scroll', 'prompt_toolkit.key_binding.bindings.page_navigation', 'prompt_toolkit.lexers.base', 'prompt_toolkit.lexers.pygments', 'prompt_toolkit.lexers', 'prompt_toolkit.layout.utils', 'prompt_toolkit.layout.processors', 'prompt_toolkit.layout.controls', 'prompt_toolkit.layout.dimension', 'prompt_toolkit.layout.margins', 'prompt_toolkit.layout.mouse_handlers', 'prompt_toolkit.layout.screen', 'prompt_toolkit.layout.containers', 'prompt_toolkit.layout.layout', 'prompt_toolkit.layout.menus', 'prompt_toolkit.layout.scrollable_pane', 'prompt_toolkit.layout', 'prompt_toolkit.key_binding.bindings.completion', 'prompt_toolkit.key_binding.bindings.named_commands', 'prompt_toolkit.key_binding.bindings.basic', 'prompt_toolkit.key_binding.bindings.cpr', 'prompt_toolkit.key_binding.bindings.emacs', 'prompt_toolkit.key_binding.bindings.mouse', 'prompt_toolkit.input.ansi_escape_sequences', 'prompt_toolkit.input.vt100_parser', 'prompt_toolkit.key_binding.digraphs', 'prompt_toolkit.key_binding.bindings.vi', 'prompt_toolkit.key_binding.defaults', 'prompt_toolkit.key_binding.emacs_state', 'prompt_toolkit.layout.dummy', 'prompt_toolkit.renderer', 'prompt_toolkit.application.application', 'prompt_toolkit.application.dummy', 'prompt_toolkit.application', 'prompt_toolkit.key_binding.bindings.focus', 'prompt_toolkit.widgets.toolbars', 'prompt_toolkit.widgets.base', 'prompt_toolkit.widgets.dialogs', 'prompt_toolkit.widgets.menus', 'prompt_toolkit.widgets', 'prompt_toolkit.shortcuts.dialogs', 'xml.parsers', 'pyexpat.errors', 'pyexpat.model', 'pyexpat', 'xml.parsers.expat.model', 'xml.parsers.expat.errors', 'xml.parsers.expat', 'xml.dom.expatbuilder', 'prompt_toolkit.shortcuts.progress_bar.formatters', 'prompt_toolkit.shortcuts.progress_bar.base', 'prompt_toolkit.shortcuts.progress_bar', 'prompt_toolkit.key_binding.bindings.auto_suggest', 'prompt_toolkit.key_binding.bindings.open_in_editor', 'prompt_toolkit.shortcuts.prompt', 'prompt_toolkit.shortcuts.utils', 'prompt_toolkit.shortcuts', 'email.feedparser', 'email.parser', 'prompt_toolkit', 'prompt_toolkit.patch_stdout', 'pygments.style', 'unicodedata', 'IPython.core.latex_symbols', 'IPython.utils.generics', 'IPython.core.completer', 'IPython.terminal.ptutils', 'IPython.terminal.shortcuts', 'concurrent.futures.thread', 'IPython.terminal.debugger', 'IPython.lib.clipboard', 'IPython.terminal.magics', 'IPython.terminal.pt_inputhooks', 'IPython.terminal.prompts', 'IPython.terminal.interactiveshell', 'IPython.core.magics.auto', 'IPython.core.magics.basic', 'http', 'http.client', 'urllib.response', 'urllib.error', 'urllib.request', 'IPython.core.magics.code', 'IPython.core.magics.config', 'IPython.core.magics.display', 'gc', 'timeit', '_lsprof', 'profile', 'cProfile', 'pstats', 'IPython.utils.module_paths', 'IPython.utils.timing', 'IPython.core.magics.execution', 'IPython.core.magics.extension', 'IPython.core.magics.history', 'IPython.core.magics.logging', 'IPython.core.magics.namespace', 'IPython.core.magics.osm', 'IPython.core.magics.packaging', 'IPython.core.pylabtools', 'IPython.core.magics.pylab', 'IPython.lib.backgroundjobs', 'IPython.core.magics.script', 'IPython.core.magics', 'IPython.core.shellapp', 'IPython.extensions', 'IPython.extensions.storemagic', 'IPython.terminal.ipapp', 'IPython.terminal.embed', 'IPython.utils.frame', 'IPython', 'hmac', 'tornado', 'numbers', 'tornado.speedups', 'tornado.util', 'tornado.escape', '_curses', 'curses', 'tornado.log', 'tornado.concurrent', 'tornado.ioloop', 'tornado.platform', 'tornado.gen', 'tornado.platform.asyncio', 'zmq.eventloop.ioloop', 'zmq.eventloop', 'zmq.eventloop.zmqstream', 'dateutil._version', 'dateutil', 'six', '_decimal', 'decimal', 'dateutil._common', 'dateutil.relativedelta', 'six.moves', 'dateutil.tz._common', 'dateutil.tz._factories', 'dateutil.tz.tz', 'dateutil.tz', 'dateutil.parser._parser', 'dateutil.parser.isoparser', 'dateutil.parser', '_strptime', 'jupyter_client.jsonutil', 'jupyter_client.adapter', 'jupyter_client.session', 'ipykernel.control', 'ipykernel.heartbeat', 'ipykernel.iostream', 'IPython.utils.tokenutil', 'ipykernel.jsonutil', 'pwd', 'psutil._common', 'psutil._compat', 'psutil._psposix', 'psutil._psutil_linux', 'psutil._psutil_posix', 'psutil._pslinux', 'psutil', 'tornado.locks', 'tornado.queues', 'ipykernel.kernelbase', 'ipykernel.comm.comm', 'ipykernel.comm.manager', 'ipykernel.comm', 'ipykernel.compiler', 'debugpy._version', 'debugpy.public_api', 'debugpy', 'debugpy._vendored._util', 'debugpy._vendored', '_pydevd_bundle', 'encodings.ascii', 'encodings.latin_1', 'stringprep', 'encodings.idna', '_pydevd_bundle.pydevd_vm_type', '_pydev_bundle', 'xmlrpc', 'gzip', 'xmlrpc.client', 'http.server', 'xmlrpc.server', '_pydev_bundle._pydev_saved_modules', '_pydevd_bundle.pydevd_constants', '_pydev_runfiles', '_pydevd_frame_eval', 'pydev_ipython', 'plistlib', 'packaging', 'packaging._elffile', 'packaging._manylinux', 'packaging._musllinux', 'packaging.tags', 'packaging._structures', 'packaging.version', 'packaging.utils', 'packaging.specifiers', 'packaging._tokenizer', 'packaging._parser', 'packaging.markers', 'packaging.requirements', 'jaraco', 'more_itertools.recipes', 'more_itertools.more', 'more_itertools', 'jaraco.functools', 'backports.tarfile.compat', 'backports.tarfile.compat.py38', 'grp', 'backports.tarfile', 'jaraco.context', 'importlib.resources._itertools', 'importlib.resources.readers', 'importlib.readers', 'jaraco.text', 'pkg_resources', 'pydevd_plugins', '_pydev_bundle.pydev_log', '_pydev_bundle._pydev_filesystem_encoding', '_pydevd_bundle.pydevd_comm_constants', 'pydevd_file_utils', '_pydev_bundle._pydev_execfile', '_pydevd_bundle.pydevd_exec2', '_pydev_bundle.pydev_imports', '_pydev_bundle.pydev_is_thread_alive', '_pydev_bundle.pydev_override', 'pydevd_plugins.extensions', '_pydevd_bundle.pydevd_extension_utils', '_pydevd_bundle.pydevd_frame_utils', '_pydevd_bundle.pydevd_filtering', '_pydevd_bundle.pydevd_io', '_pydevd_bundle.pydevd_defaults', '_pydevd_bundle.pydevd_utils', '_pydevd_bundle.pydevd_runpy', '_pydev_bundle._pydev_tipper_common', '_pydev_bundle._pydev_imports_tipper', '_pydev_bundle._pydev_calltip_util', '_pydevd_bundle.pydevd_safe_repr', '_pydevd_bundle.pydevd_resolver', '_pydevd_bundle.pydevd_extension_api', '_pydevd_bundle.pydevd_xml', '_pydevd_bundle.pydevd_dont_trace', '_pydevd_frame_eval.vendored', '_pydevd_frame_eval.vendored.bytecode.flags', '_pydevd_frame_eval.vendored.bytecode.instr', '_pydevd_frame_eval.vendored.bytecode.bytecode', '_pydevd_frame_eval.vendored.bytecode.concrete', '_pydevd_frame_eval.vendored.bytecode.cfg', '_pydevd_frame_eval.vendored.bytecode', '_pydevd_bundle.pydevd_bytecode_utils', '_pydevd_bundle.pydevd_cython', '_pydevd_bundle.pydevd_cython_wrapper', '_pydevd_bundle.pydevd_additional_thread_info', '_pydevd_bundle.pydevd_thread_lifecycle', '_pydevd_bundle.pydevd_save_locals', '_pydev_bundle.pydev_monkey', 'pydevd_tracing', '_pydevd_bundle.pydevd_collect_bytecode_info', '_pydevd_bundle.pydevd_daemon_thread', '_pydevd_bundle.pydevd_timeout', '_pydevd_bundle.pydevd_vars', '_pydev_bundle.pydev_console_utils', '_pydevd_bundle.pydevd_import_class', '_pydevd_bundle.pydevd_breakpoints', '_pydevd_bundle.pydevd_custom_frames', '_pydevd_bundle.pydevd_dont_trace_files', '_pydevd_bundle.pydevd_net_command', '_pydevd_bundle.pydevconsole_code', '_pydev_bundle.pydev_umd', 'pydevconsole', '_pydev_bundle._pydev_completer', '_pydevd_bundle.pydevd_net_command_factory_xml', '_pydevd_bundle.pydevd_frame', '_pydevd_bundle.pydevd_additional_thread_info_regular', '_pydevd_bundle.pydevd_trace_dispatch', '_pydevd_frame_eval.pydevd_frame_eval_main', '_pydevd_bundle.pydevd_source_mapping', '_pydevd_bundle.pydevd_concurrency_analyser', '_pydevd_bundle.pydevd_concurrency_analyser.pydevd_thread_wrappers', '_pydevd_bundle.pydevd_concurrency_analyser.pydevd_concurrency_logger', '_pydevd_bundle._debug_adapter', '_pydevd_bundle._debug_adapter.pydevd_schema_log', '_pydevd_bundle._debug_adapter.pydevd_base_schema', '_pydevd_bundle._debug_adapter.pydevd_schema', '_pydevd_bundle.pydevd_reload', '_pydev_bundle.fsnotify', '_pydevd_bundle.pydevd_console', '_pydevd_bundle.pydevd_comm', '_pydevd_bundle.pydevd_net_command_factory_json', '_pydevd_bundle.pydevd_api', '_pydevd_bundle.pydevd_json_debug_options', '_pydevd_bundle.pydevd_process_net_command_json', '_pydevd_bundle.pydevd_traceproperty', '_pydevd_bundle.pydevd_process_net_command', '_pydevd_bundle.pydevd_suspended_frames', '_pydevd_bundle.pydevd_trace_api', '_pydevd_bundle.pydevd_plugin_utils', 'pydevd_plugins.extensions.pydevd_plugin_omegaconf', 'pydevd', 'debugpy._vendored.force_pydevd', 'debugpy.server', 'debugpy.adapter', 'debugpy.common', 'debugpy.common.json', 'debugpy.common.timestamp', 'debugpy.common.util', 'debugpy.common.log', 'debugpy.common.sockets', 'debugpy.server.api', 'ipykernel.debugger', 'ipykernel.eventloops', 'IPython.core.payloadpage', 'ipykernel.displayhook', 'ipykernel.zmqshell', 'ipykernel.ipkernel', 'ipykernel.parentpoller', 'ipykernel.kernelapp', 'google.colab._import_hooks._hook_injector', 'google.colab._import_hooks._altair', 'imp', 'google.colab._import_hooks._bokeh', 'google.colab._import_hooks._client_info', 'google.colab._import_hooks._cv2', 'google.colab._import_hooks._generativeai', 'google.colab._import_hooks._pydrive', 'google.colab._import_hooks._pydrive2', 'google.colab._import_hooks', 'google.colab._import_magics', 'google.colab._installation_commands', 'google.colab._interactive_table_helper', 'google.colab._generate_with_variable', 'google.colab._quickchart', 'google.colab._ipython', 'google.colab.errors', 'google.colab._message', 'google.colab.output._js', 'google.colab.output._publish', 'google.colab.output._js_builder', 'google.colab.output._area', 'google.colab.output._tags', 'google.colab.output._util', 'google.colab.output._widgets', 'google.colab.output', 'google.colab._quickchart_hint_button', 'google.colab._quickchart_lib', 'google.colab.autoviz', 'google.colab.widgets._widget', 'google.colab.widgets._grid', 'google.colab.widgets._tabbar', 'google.colab.widgets', 'google.colab.data_table', 'google.colab._interactive_table_hint_button', 'google.colab._inspector', 'numpy._utils._convertions', 'numpy._utils', 'numpy._globals', 'numpy._expired_attrs_2_0', 'numpy.version', 'numpy._distributor_init', 'numpy._utils._inspect', 'numpy.exceptions', 'numpy._core._exceptions', 'numpy.dtypes', 'numpy._core._multiarray_umath', 'numpy._core.overrides', 'numpy._core.multiarray', 'numpy._core.umath', 'numpy._core._string_helpers', 'numpy._core._type_aliases', 'numpy._core._dtype', 'numpy._core.numerictypes', 'numpy._core._ufunc_config', 'numpy._core._methods', 'numpy._core.fromnumeric', 'numpy._core.shape_base', 'numpy._core.arrayprint', 'numpy._core._asarray', 'numpy._core.numeric', 'numpy._core.records', 'numpy._core.memmap', 'numpy._core.function_base', 'numpy._core._machar', 'numpy._core.getlimits', 'numpy._core.einsumfunc', 'numpy._core._multiarray_tests', 'numpy._core._add_newdocs', 'numpy._core._add_newdocs_scalars', 'numpy._core._dtype_ctypes', 'numpy._core._internal', 'numpy._pytesttester', 'numpy._core', 'numpy.__config__', 'numpy.lib._array_utils_impl', 'numpy.lib.array_utils', 'numpy.lib.introspect', 'numpy.lib.mixins', 'numpy.lib._utils_impl', 'numpy.lib.format', 'numpy.lib._datasource', 'numpy.lib._iotools', 'numpy.lib._npyio_impl', 'numpy.lib.npyio', 'numpy.lib._ufunclike_impl', 'numpy.lib._type_check_impl', 'numpy.lib._scimath_impl', 'numpy.lib.scimath', 'numpy.lib._stride_tricks_impl', 'numpy.lib.stride_tricks', 'numpy.linalg.linalg', 'numpy.lib._twodim_base_impl', 'numpy.linalg._umath_linalg', 'numpy._typing._nested_sequence', 'numpy._typing._nbit', 'numpy._typing._char_codes', 'numpy._typing._scalars', 'numpy._typing._shape', 'numpy._typing._dtype_like', 'numpy._typing._array_like', 'numpy._typing', 'numpy.linalg._linalg', 'numpy.linalg', 'numpy.matrixlib.defmatrix', 'numpy.matrixlib', 'numpy.lib._histograms_impl', 'numpy.lib._function_base_impl', 'numpy.lib._index_tricks_impl', 'numpy.lib._nanfunctions_impl', 'numpy.lib._shape_base_impl', 'numpy.lib._arraysetops_impl', 'numpy.lib._polynomial_impl', 'numpy.lib._arrayterator_impl', 'numpy.lib._arraypad_impl', 'numpy.lib._version', 'numpy.lib', 'numpy', 'PIL._version', 'PIL', 'google.colab._reprs', 'google.colab._shell_customizations', 'google.colab._system_commands', 'google.colab._tensorflow_magics', 'google.colab.files', 'google.colab.auth', 'pexpect.popen_spawn', 'google.colab.drive', 'socks', 'pyparsing.util', 'pyparsing.unicode', 'pyparsing.exceptions', 'pyparsing.results', 'pyparsing.actions', 'pyparsing.core', 'pyparsing.helpers', 'pyparsing.testing', 'pyparsing.common', 'pyparsing', 'httplib2.error', 'httplib2.auth', 'httplib2.iri2uri', 'certifi.core', 'certifi', 'httplib2.certs', 'httplib2', 'google.colab.runtime', 'google.colab.snippets', 'google.colab', 'google.colab._history', 'google.colab._pip', 'ipython_genutils._version', 'ipython_genutils', 'ipython_genutils.encoding', 'ipython_genutils.py3compat', 'google.colab._shell', 'google.colab._kernel', 'faulthandler', 'IPython.core.completerlib', 'matplotlib._api.deprecation', 'matplotlib._api', 'matplotlib._version', 'matplotlib._c_internal_utils', 'matplotlib.cbook', 'matplotlib._docstring', 'matplotlib.backends.registry', 'matplotlib.backends', 'PIL.ExifTags', 'PIL._deprecate', 'PIL.ImageMode', 'PIL.TiffTags', 'PIL._binary', 'PIL._typing', 'PIL._util', 'defusedxml.common', 'defusedxml', 'xml.etree', 'xml.etree.ElementPath', '_elementtree', 'xml.etree.ElementTree', 'defusedxml.ElementTree', 'PIL._imaging', 'PIL.Image', 'PIL.ImageChops', 'PIL.ImageFile', 'PIL.GimpGradientFile', 'PIL.GimpPaletteFile', 'PIL.ImageColor', 'PIL.PaletteFile', 'PIL.ImagePalette', 'PIL.ImageSequence', 'PIL.PngImagePlugin', 'matplotlib._cm', 'matplotlib._path', 'matplotlib.bezier', 'matplotlib.path', 'matplotlib.transforms', 'matplotlib.ticker', 'matplotlib.scale', 'matplotlib._image', 'matplotlib._color_data', 'matplotlib.colors', 'matplotlib._fontconfig_pattern', 'matplotlib._enums', 'cycler', 'matplotlib.rcsetup', 'matplotlib.ft2font', 'kiwisolver.exceptions', 'kiwisolver._cext', 'kiwisolver', 'numpy.ma.core', 'numpy.ma.extras', 'numpy.ma', 'matplotlib.artist', 'matplotlib.colorizer', 'matplotlib._cm_listed', 'matplotlib._cm_multivar', 'matplotlib._cm_bivar', 'matplotlib.cm', 'matplotlib', 'matplotlib._pylab_helpers', 'matplotlib.backend_tools', 'matplotlib._mathtext_data', 'matplotlib._afm', 'matplotlib.font_manager', 'matplotlib.hatch', 'matplotlib.markers', 'matplotlib.lines', 'matplotlib.patches', 'matplotlib._text_helpers', 'matplotlib.dviread', 'matplotlib._mathtext', 'matplotlib.mathtext', 'matplotlib.texmanager', 'matplotlib.textpath', 'matplotlib.text', 'matplotlib._tight_bbox', 'matplotlib.collections', 'matplotlib.widgets', 'matplotlib.backend_managers', 'matplotlib._layoutgrid', 'matplotlib._constrained_layout', 'matplotlib._tight_layout', 'matplotlib.layout_engine', 'matplotlib.backend_bases', 'matplotlib.backends._backend_agg', 'matplotlib.backends.backend_agg', 'matplotlib._blocking_input', 'matplotlib.image', 'matplotlib.offsetbox', 'matplotlib.units', 'matplotlib.axis', 'matplotlib.gridspec', 'matplotlib.spines', 'matplotlib.table', 'matplotlib.axes._base', 'matplotlib.category', 'matplotlib.contour', 'dateutil.rrule', 'matplotlib.dates', 'matplotlib.inset', 'matplotlib.container', 'matplotlib.legend_handler', 'matplotlib.legend', 'matplotlib.mlab', 'matplotlib.quiver', 'matplotlib.stackplot', 'matplotlib.streamplot', 'matplotlib.tri._triangulation', 'matplotlib.tri._tricontour', 'matplotlib.tri._trifinder', 'matplotlib.tri._tritools', 'matplotlib.tri._triinterpolate', 'matplotlib.tri._tripcolor', 'matplotlib.tri._triplot', 'matplotlib.tri._trirefine', 'matplotlib.tri', 'matplotlib.axes._secondary_axes', 'matplotlib.axes._axes', 'matplotlib.axes', 'matplotlib.projections.geo', 'matplotlib.projections.polar', 'mpl_toolkits', 'mpl_toolkits.mplot3d.proj3d', 'mpl_toolkits.mplot3d.art3d', 'mpl_toolkits.mplot3d.axis3d', 'mpl_toolkits.mplot3d.axes3d', 'mpl_toolkits.mplot3d', 'matplotlib.projections', 'matplotlib.colorbar', 'matplotlib.figure', 'matplotlib_inline.config', 'matplotlib.style.core', 'matplotlib.style', 'matplotlib.pyplot', 'matplotlib_inline.backend_inline', 'matplotlib_inline', 'storemagic', 'google.colab._debugpy_repr', 'google.colab._variable_inspector', 'portpicker', 'google.colab._debugpy', 'importlib_metadata._meta', 'importlib_metadata._collections', 'importlib_metadata._compat', 'importlib_metadata._functools', 'importlib_metadata._itertools', 'importlib_metadata._typing', 'importlib_metadata.compat', 'importlib_metadata.compat.py39', 'importlib_metadata.compat.py311', 'importlib_metadata', 'zipp._functools', 'zipp.compat', 'zipp.compat.py310', 'zipp.compat.py313', 'zipp.glob', 'zipp', 'zipp.compat.overlay.zipfile', 'zipp.compat.overlay', 'email._header_value_parser', 'email.headerregistry', 'email.contentmanager', 'email.policy', 'importlib_metadata._text', 'importlib_metadata._adapters', 'encodings.hex_codec', 'networkx.lazy_imports', 'networkx.exception', 'networkx.utils.misc', 'networkx.utils.decorators', 'networkx.utils.random_sequence', 'networkx.utils.union_find', 'networkx.utils.rcm', 'networkx.utils.heaps', 'networkx.utils.configs', 'networkx.utils.backends', 'networkx.utils', '_nx_cugraph._version', '_nx_cugraph', 'networkx.convert', 'networkx.classes.coreviews', 'networkx.classes.reportviews', 'networkx.classes.graph', 'networkx.classes.digraph', 'networkx.classes.multigraph', 'networkx.classes.multidigraph', 'networkx.classes.function', 'networkx.classes.filters', 'networkx.classes.graphviews', 'networkx.classes', 'networkx.convert_matrix', 'networkx.relabel', 'networkx.generators.atlas', 'networkx.generators.classic', 'networkx.generators.cographs', 'networkx.generators.community', 'networkx.generators.degree_seq', 'networkx.generators.directed', 'networkx.generators.duplication', 'networkx.generators.ego', 'networkx.generators.expanders', 'networkx.generators.geometric', 'networkx.generators.harary_graph', 'networkx.generators.internet_as_graphs', 'networkx.generators.intersection', 'networkx.generators.interval_graph', 'networkx.generators.joint_degree_seq', 'networkx.generators.lattice', 'networkx.generators.line', 'networkx.generators.mycielski', 'networkx.generators.nonisomorphic_trees', 'networkx.generators.random_clustered', 'networkx.generators.random_graphs', 'networkx.generators.small', 'networkx.generators.social', 'networkx.generators.spectral_graph_forge', 'networkx.generators.stochastic', 'networkx.generators.sudoku', 'networkx.generators.time_series', 'networkx.generators.trees', 'networkx.generators.triads', 'networkx.generators', 'networkx.readwrite.adjlist', 'networkx.readwrite.multiline_adjlist', 'networkx.readwrite.edgelist', 'networkx.readwrite.pajek', 'networkx.readwrite.leda', 'networkx.readwrite.graph6', 'networkx.readwrite.sparse6', 'networkx.readwrite.gml', 'networkx.readwrite.graphml', 'networkx.readwrite.gexf', 'networkx.readwrite.json_graph.node_link', 'networkx.readwrite.json_graph.adjacency', 'networkx.readwrite.json_graph.tree', 'networkx.readwrite.json_graph.cytoscape', 'networkx.readwrite.json_graph', 'networkx.readwrite.text', 'networkx.readwrite', 'networkx.algorithms.assortativity.connectivity', 'networkx.algorithms.assortativity.pairs', 'networkx.algorithms.assortativity.mixing', 'networkx.algorithms.assortativity.correlation', 'networkx.algorithms.assortativity.neighbor_degree', 'networkx.algorithms.assortativity', 'networkx.algorithms.asteroidal', 'networkx.algorithms.boundary', 'networkx.algorithms.broadcasting', 'networkx.algorithms.bridges', 'networkx.algorithms.chains', 'networkx.algorithms.shortest_paths.generic', 'networkx.algorithms.shortest_paths.unweighted', 'networkx.algorithms.shortest_paths.weighted', 'networkx.algorithms.shortest_paths.astar', 'networkx.algorithms.shortest_paths.dense', 'networkx.algorithms.shortest_paths', 'networkx.algorithms.centrality.betweenness', 'networkx.algorithms.centrality.betweenness_subset', 'networkx.algorithms.centrality.closeness', 'networkx.algorithms.centrality.flow_matrix', 'networkx.algorithms.centrality.current_flow_betweenness', 'networkx.algorithms.centrality.current_flow_betweenness_subset', 'networkx.algorithms.centrality.current_flow_closeness', 'networkx.algorithms.centrality.degree_alg', 'networkx.algorithms.centrality.dispersion', 'networkx.algorithms.centrality.eigenvector', 'networkx.algorithms.centrality.group', 'networkx.algorithms.centrality.harmonic', 'networkx.algorithms.centrality.katz', 'networkx.algorithms.centrality.load', 'networkx.algorithms.centrality.percolation', 'networkx.algorithms.centrality.reaching', 'networkx.algorithms.centrality.second_order', 'networkx.algorithms.centrality.subgraph_alg', 'networkx.algorithms.centrality.trophic', 'networkx.algorithms.centrality.voterank_alg', 'networkx.algorithms.centrality.laplacian', 'networkx.algorithms.centrality', 'networkx.algorithms.components.connected', 'networkx.algorithms.components.strongly_connected', 'networkx.algorithms.components.weakly_connected', 'networkx.algorithms.components.attracting', 'networkx.algorithms.components.biconnected', 'networkx.algorithms.components.semiconnected', 'networkx.algorithms.components', 'networkx.algorithms.chordal', 'networkx.algorithms.cluster', 'networkx.algorithms.clique', 'networkx.algorithms.communicability_alg', 'networkx.algorithms.coloring.greedy_coloring', 'networkx.algorithms.coloring.equitable_coloring', 'networkx.algorithms.coloring', 'networkx.algorithms.core', 'networkx.algorithms.covering', 'networkx.algorithms.cycles', 'networkx.algorithms.cuts', 'networkx.algorithms.d_separation', 'networkx.algorithms.dag', 'networkx.algorithms.distance_measures', 'networkx.algorithms.distance_regular', 'networkx.algorithms.dominance', 'networkx.algorithms.dominating', 'networkx.algorithms.efficiency_measures', 'networkx.algorithms.euler', 'networkx.algorithms.graphical', 'networkx.algorithms.hierarchy', 'networkx.algorithms.hybrid', 'networkx.algorithms.link_analysis.hits_alg', 'networkx.algorithms.link_analysis.pagerank_alg', 'networkx.algorithms.link_analysis', 'networkx.algorithms.link_prediction', 'networkx.algorithms.lowest_common_ancestors', 'networkx.algorithms.isolate', 'networkx.algorithms.matching', 'networkx.algorithms.minors.contraction', 'networkx.algorithms.minors', 'networkx.algorithms.mis', 'networkx.algorithms.moral', 'networkx.algorithms.non_randomness', 'networkx.algorithms.operators.all', 'networkx.algorithms.operators.binary', 'networkx.algorithms.operators.product', 'networkx.algorithms.operators.unary', 'networkx.algorithms.operators', 'networkx.algorithms.planarity', 'networkx.algorithms.planar_drawing', 'networkx.algorithms.polynomials', 'networkx.algorithms.reciprocity', 'networkx.algorithms.regular', 'networkx.algorithms.richclub', 'networkx.algorithms.similarity', 'networkx.algorithms.graph_hashing', 'networkx.algorithms.simple_paths', 'networkx.algorithms.smallworld', 'networkx.algorithms.smetric', 'networkx.algorithms.structuralholes', 'networkx.algorithms.sparsifiers', 'networkx.algorithms.summarization', 'networkx.algorithms.swap', 'networkx.algorithms.time_dependent', 'networkx.algorithms.traversal.beamsearch', 'networkx.algorithms.traversal.breadth_first_search', 'networkx.algorithms.traversal.depth_first_search', 'networkx.algorithms.traversal.edgedfs', 'networkx.algorithms.traversal.edgebfs', 'networkx.algorithms.traversal', 'networkx.algorithms.triads', 'networkx.algorithms.vitality', 'networkx.algorithms.voronoi', 'networkx.algorithms.walks', 'networkx.algorithms.wiener', 'networkx.algorithms.approximation.clustering_coefficient', 'networkx.algorithms.approximation.ramsey', 'networkx.algorithms.approximation.clique', 'networkx.algorithms.approximation.connectivity', 'networkx.algorithms.approximation.distance_measures', 'networkx.algorithms.approximation.dominating_set', 'networkx.algorithms.approximation.kcomponents', 'networkx.algorithms.approximation.matching', 'networkx.algorithms.approximation.steinertree', 'networkx.algorithms.tree.recognition', 'networkx.algorithms.tree.branchings', 'networkx.algorithms.tree.coding', 'networkx.algorithms.tree.mst', 'networkx.algorithms.tree.operations', 'networkx.algorithms.tree.decomposition', 'networkx.algorithms.tree', 'networkx.algorithms.approximation.traveling_salesman', 'networkx.algorithms.approximation.treewidth', 'networkx.algorithms.approximation.vertex_cover', 'networkx.algorithms.approximation.maxcut', 'networkx.algorithms.approximation.density', 'networkx.algorithms.approximation', 'networkx.algorithms.bipartite.basic', 'networkx.algorithms.bipartite.centrality', 'networkx.algorithms.bipartite.cluster', 'networkx.algorithms.bipartite.matrix', 'networkx.algorithms.bipartite.matching', 'networkx.algorithms.bipartite.covering', 'networkx.algorithms.bipartite.edgelist', 'networkx.algorithms.bipartite.projection', 'networkx.algorithms.bipartite.redundancy', 'networkx.algorithms.bipartite.spectral', 'networkx.algorithms.bipartite.generators', 'networkx.algorithms.bipartite.extendability', 'networkx.algorithms.bipartite.link_analysis', 'networkx.algorithms.bipartite', 'networkx.algorithms.node_classification', 'networkx.algorithms.community.asyn_fluid', 'networkx.algorithms.community.centrality', 'networkx.algorithms.community.divisive', 'networkx.algorithms.community.kclique', 'networkx.algorithms.community.community_utils', 'networkx.algorithms.community.kernighan_lin', 'networkx.algorithms.community.label_propagation', 'networkx.algorithms.community.lukes', 'networkx.algorithms.community.quality', 'networkx.utils.mapped_queue', 'networkx.algorithms.community.modularity_max', 'networkx.algorithms.community.louvain', 'networkx.algorithms.community.leiden', 'networkx.algorithms.community.local', 'networkx.algorithms.community', 'networkx.algorithms.flow.utils', 'networkx.algorithms.flow.boykovkolmogorov', 'networkx.algorithms.flow.dinitz_alg', 'networkx.algorithms.flow.edmondskarp', 'networkx.algorithms.flow.preflowpush', 'networkx.algorithms.flow.shortestaugmentingpath', 'networkx.algorithms.flow.maxflow', 'networkx.algorithms.flow.mincost', 'networkx.algorithms.flow.gomory_hu', 'networkx.algorithms.flow.capacityscaling', 'networkx.algorithms.flow.networksimplex', 'networkx.algorithms.flow', 'networkx.algorithms.isomorphism.isomorph', 'networkx.algorithms.isomorphism.isomorphvf2', 'networkx.algorithms.isomorphism.vf2userfunc', 'networkx.algorithms.isomorphism.matchhelpers', 'networkx.algorithms.isomorphism.temporalisomorphvf2', 'networkx.algorithms.isomorphism.ismags', 'networkx.algorithms.isomorphism.tree_isomorphism', 'networkx.algorithms.isomorphism.vf2pp', 'networkx.algorithms.isomorphism', 'networkx.algorithms.tournament', 'networkx.algorithms.connectivity.utils', 'networkx.algorithms.connectivity.connectivity', 'networkx.algorithms.connectivity.cuts', 'networkx.algorithms.connectivity.edge_augmentation', 'networkx.algorithms.connectivity.edge_kcomponents', 'networkx.algorithms.connectivity.disjoint_paths', 'networkx.algorithms.connectivity.kcomponents', 'networkx.algorithms.connectivity.kcutsets', 'networkx.algorithms.connectivity.stoerwagner', 'networkx.algorithms.connectivity', 'networkx.algorithms', 'networkx.linalg.attrmatrix', 'networkx.linalg.spectrum', 'networkx.linalg.graphmatrix', 'networkx.linalg.laplacianmatrix', 'networkx.linalg.algebraicconnectivity', 'networkx.linalg.modularitymatrix', 'networkx.linalg.bethehessianmatrix', 'networkx.linalg', 'networkx.drawing.layout', 'networkx.drawing.nx_latex', 'networkx.drawing.nx_pylab', 'networkx.drawing.nx_agraph', 'networkx.drawing.nx_pydot', 'networkx.drawing', 'networkx', 'ipywidgets._version', 'ipywidgets.widgets.widget', 'ipywidgets.widgets.util', 'ipywidgets.widgets.trait_types', 'ipywidgets.widgets.widget_layout', 'ipywidgets.widgets.widget_style', 'ipywidgets.widgets.domwidget', 'ipywidgets.widgets.valuewidget', 'ipywidgets.widgets.widget_core', 'ipywidgets.widgets.widget_description', 'ipywidgets.widgets.widget_bool', 'ipywidgets.widgets.widget_button', 'ipywidgets.widgets.docutils', 'ipywidgets.widgets.widget_box', 'ipywidgets.widgets.widget_int', 'ipywidgets.widgets.widget_float', 'ipywidgets.widgets.widget_color', 'ipywidgets.widgets.widget_date', 'ipywidgets.widgets.widget_output', 'ipywidgets.widgets.widget_selection', 'ipywidgets.widgets.widget_selectioncontainer', 'ipywidgets.widgets.widget_string', 'ipywidgets.widgets.widget_controller', 'ipywidgets.widgets.interaction', 'ipywidgets.widgets.widget_link', 'ipywidgets.widgets.widget_media', 'ipywidgets.widgets.widget_templates', 'ipywidgets.widgets.widget_upload', 'ipywidgets.widgets', 'ipywidgets', 'jinja2.bccache', 'markupsafe._speedups', 'markupsafe', 'jinja2.utils', 'jinja2.nodes', 'jinja2.exceptions', 'jinja2.visitor', 'jinja2.idtracking', 'jinja2.optimizer', 'jinja2.compiler', 'jinja2.async_utils', 'jinja2.runtime', 'jinja2.filters', 'jinja2.tests', 'jinja2.defaults', 'jinja2._identifier', 'jinja2.lexer', 'jinja2.parser', 'jinja2.environment', 'jinja2.loaders', 'jinja2', 'spanner_graphs.database', 'google.cloud.spanner_v1.gapic_version', 'google.cloud.spanner_v1.services', 'google.api_core.version', 'google.api_core', 'google.api_core.client_options', 'google.rpc', 'google.protobuf', 'google.protobuf.internal', 'google._upb', 'google.protobuf.message', 'google.protobuf.internal.enum_type_wrapper', 'google._upb._message', 'google.protobuf.internal.api_implementation', 'google.protobuf.descriptor', 'google.protobuf.descriptor_database', 'google.protobuf.text_encoding', 'google.protobuf.internal.python_edition_defaults', 'encodings.raw_unicode_escape', 'encodings.unicode_escape', 'google.protobuf.internal.containers', 'google.protobuf.internal.wire_format', 'google.protobuf.internal.encoder', 'google.protobuf.internal.decoder', 'google.protobuf.internal.type_checkers', 'google.protobuf.unknown_fields', 'google.protobuf.text_format', 'google.protobuf.internal.extension_dict', 'google.protobuf.internal.message_listener', 'google.protobuf.internal.field_mask', 'google.protobuf.internal.well_known_types', 'google.protobuf.internal.python_message', 'google.protobuf.descriptor_pool', 'google.protobuf.pyext', 'google.protobuf.pyext.cpp_message', 'google.protobuf.message_factory', 'google.protobuf.symbol_database', 'google.protobuf.reflection', 'google.protobuf.internal.builder', 'google.protobuf.runtime_version', 'google.protobuf.duration_pb2', 'google.rpc.error_details_pb2', 'grpc._cython', '_cython_3_1_1', 'grpc._typing', 'grpc._observability', 'grpc._cython.cygrpc', 'grpc._compression', 'grpc._runtime_protos', 'grpc._grpcio_metadata', 'grpc.aio._metadata', 'grpc.aio._typing', 'grpc.aio._base_call', 'grpc.aio._base_channel', 'grpc.aio._base_server', 'grpc._common', 'grpc.aio._call', 'grpc.aio._utils', 'grpc.aio._interceptor', 'grpc.aio._channel', 'grpc.aio._server', 'grpc.aio', 'grpc', 'grpc_status', 'google.protobuf.any_pb2', 'google.rpc.status_pb2', 'grpc_status._common', 'grpc._simple_stubs', 'grpc.experimental', 'grpc.experimental.aio', 'grpc_status._async', 'grpc_status.rpc_status', 'google.api_core.exceptions', 'google.api_core.client_info', 'google.api_core.gapic_v1.client_info', 'urllib3.exceptions', 'urllib3.util.timeout', 'urllib3.util.connection', 'urllib3.util.util', 'zstandard.backend_c', 'zstandard', 'urllib3.util.request', 'urllib3.util.response', 'urllib3.util.retry', 'urllib3.util.url', 'urllib3.util.ssltransport', 'urllib3.util.ssl_', 'urllib3.util.wait', 'urllib3.util', 'urllib3._base_connection', 'urllib3._collections', 'urllib3._version', 'urllib3.fields', 'urllib3.filepost', 'urllib3.http2', 'urllib3.http2.probe', 'urllib3.util.ssl_match_hostname', 'urllib3.connection', 'urllib3.response', 'urllib3._request_methods', 'urllib3.util.proxy', 'urllib3.connectionpool', 'urllib3.poolmanager', 'urllib3', 'chardet.enums', 'chardet.charsetprober', 'chardet.charsetgroupprober', 'chardet.resultdict', 'chardet.codingstatemachinedict', 'chardet.codingstatemachine', 'chardet.escsm', 'chardet.escprober', 'chardet.latin1prober', 'chardet.macromanprober', 'chardet.big5freq', 'chardet.euckrfreq', 'chardet.euctwfreq', 'chardet.gb2312freq', 'chardet.jisfreq', 'chardet.johabfreq', 'chardet.chardistribution', 'chardet.mbcharsetprober', 'chardet.mbcssm', 'chardet.big5prober', 'chardet.cp949prober', 'chardet.jpcntx', 'chardet.eucjpprober', 'chardet.euckrprober', 'chardet.euctwprober', 'chardet.gb2312prober', 'chardet.johabprober', 'chardet.sjisprober', 'chardet.utf8prober', 'chardet.mbcsgroupprober', 'chardet.sbcharsetprober', 'chardet.hebrewprober', 'chardet.langbulgarianmodel', 'chardet.langgreekmodel', 'chardet.langhebrewmodel', 'chardet.langrussianmodel', 'chardet.langthaimodel', 'chardet.langturkishmodel', 'chardet.sbcsgroupprober', 'chardet.utf1632prober', 'chardet.universaldetector', 'chardet.version', 'chardet', 'simplejson.errors', 'simplejson.raw_json', 'simplejson.compat', 'simplejson._speedups', 'simplejson.scanner', 'simplejson.decoder', 'simplejson.encoder', 'simplejson', 'http.cookiejar', 'http.cookies', 'requests.compat', 'requests.exceptions', 'charset_normalizer.constant', 'charset_normalizer.md__mypyc', '_multibytecodec', 'charset_normalizer.utils', 'charset_normalizer.md', 'charset_normalizer.models', 'charset_normalizer.cd', 'charset_normalizer.api', 'charset_normalizer.legacy', 'charset_normalizer.version', 'charset_normalizer', 'requests.packages.urllib3.exceptions', 'requests.packages.urllib3.util.timeout', 'requests.packages.urllib3.util.connection', 'requests.packages.urllib3.util.util', 'requests.packages.urllib3.util.request', 'requests.packages.urllib3.util.response', 'requests.packages.urllib3.util.retry', 'requests.packages.urllib3.util.url', 'requests.packages.urllib3.util.ssltransport', 'requests.packages.urllib3.util.ssl_', 'requests.packages.urllib3.util.wait', 'requests.packages.urllib3.util', 'requests.packages.urllib3._base_connection', 'requests.packages.urllib3._collections', 'requests.packages.urllib3._version', 'requests.packages.urllib3.fields', 'requests.packages.urllib3.filepost', 'requests.packages.urllib3.http2', 'requests.packages.urllib3.http2.probe', 'requests.packages.urllib3.util.ssl_match_hostname', 'requests.packages.urllib3.connection', 'requests.packages.urllib3.response', 'requests.packages.urllib3._request_methods', 'requests.packages.urllib3.util.proxy', 'requests.packages.urllib3.connectionpool', 'requests.packages.urllib3.poolmanager', 'requests.packages.urllib3', 'idna.idnadata', 'idna.intranges', 'idna.core', 'idna.package_data', 'idna', 'requests.packages.idna.idnadata', 'requests.packages.idna.intranges', 'requests.packages.idna.core', 'requests.packages.idna.package_data', 'requests.packages.idna', 'requests.packages.chardet.enums', 'requests.packages.chardet.charsetprober', 'requests.packages.chardet.charsetgroupprober', 'requests.packages.chardet.resultdict', 'requests.packages.chardet.codingstatemachinedict', 'requests.packages.chardet.codingstatemachine', 'requests.packages.chardet.escsm', 'requests.packages.chardet.escprober', 'requests.packages.chardet.latin1prober', 'requests.packages.chardet.macromanprober', 'requests.packages.chardet.big5freq', 'requests.packages.chardet.euckrfreq', 'requests.packages.chardet.euctwfreq', 'requests.packages.chardet.gb2312freq', 'requests.packages.chardet.jisfreq', 'requests.packages.chardet.johabfreq', 'requests.packages.chardet.chardistribution', 'requests.packages.chardet.mbcharsetprober', 'requests.packages.chardet.mbcssm', 'requests.packages.chardet.big5prober', 'requests.packages.chardet.cp949prober', 'requests.packages.chardet.jpcntx', 'requests.packages.chardet.eucjpprober', 'requests.packages.chardet.euckrprober', 'requests.packages.chardet.euctwprober', 'requests.packages.chardet.gb2312prober', 'requests.packages.chardet.johabprober', 'requests.packages.chardet.sjisprober', 'requests.packages.chardet.utf8prober', 'requests.packages.chardet.mbcsgroupprober', 'requests.packages.chardet.sbcharsetprober', 'requests.packages.chardet.hebrewprober', 'requests.packages.chardet.langbulgarianmodel', 'requests.packages.chardet.langgreekmodel', 'requests.packages.chardet.langhebrewmodel', 'requests.packages.chardet.langrussianmodel', 'requests.packages.chardet.langthaimodel', 'requests.packages.chardet.langturkishmodel', 'requests.packages.chardet.sbcsgroupprober', 'requests.packages.chardet.utf1632prober', 'requests.packages.chardet.universaldetector', 'requests.packages.chardet.version', 'requests.packages.chardet', 'requests.packages', 'requests.certs', 'requests.__version__', 'requests._internal_utils', 'requests.cookies', 'requests.structures', 'requests.utils', 'requests.auth', 'requests.hooks', 'requests.status_codes', 'requests.models', 'urllib3.contrib', 'urllib3.contrib.socks', 'requests.adapters', 'requests.sessions', 'requests.api', 'requests', 'google.auth.version', 'google.auth.environment_vars', 'google.auth.exceptions', 'google.auth.transport', 'google.auth.transport._http_client', 'google.auth._default', 'google.auth', 'google.api_core.retry.retry_base', 'google.api_core.retry.retry_unary', 'google.api_core.retry.retry_unary_async', 'google.api_core.retry.retry_streaming', 'google.api_core.retry.retry_streaming_async', 'google.protobuf.timestamp_pb2', 'google.api_core.datetime_helpers', 'google.api_core.retry', 'google.api_core.timeout', 'google.api_core.gapic_v1.config', 'google.api_core.retry_async', 'google.api_core.gapic_v1.config_async', 'google.auth._helpers', 'google.auth.metrics', 'google.auth._credentials_base', 'google.auth._refresh_worker', 'google.auth.credentials', 'google.auth.transport._mtls_helper', 'google.oauth2', 'google.auth.crypt.base', 'cryptography.__about__', 'cryptography', 'cryptography.hazmat', 'cryptography.hazmat.bindings', '_cffi_backend', '_openssl.lib', '_openssl', 'cryptography.hazmat.bindings._rust', 'cryptography.exceptions', 'cryptography.hazmat.backends', 'cryptography.hazmat.primitives', 'cryptography.hazmat.primitives.hashes', 'cryptography.utils', 'cryptography.hazmat.primitives._serialization', 'cryptography.hazmat.primitives.serialization.base', 'cryptography.hazmat.primitives.asymmetric', 'cryptography.hazmat.primitives.asymmetric.utils', 'cryptography.hazmat.primitives.asymmetric.dsa', 'cryptography.hazmat._oid', 'cryptography.hazmat.primitives.asymmetric.ec', 'cryptography.hazmat.primitives.asymmetric.ed25519', 'cryptography.hazmat.primitives._asymmetric', 'cryptography.hazmat.primitives.asymmetric.rsa', 'cryptography.hazmat.primitives.asymmetric.padding', 'cryptography.hazmat.primitives._cipheralgorithm', 'cryptography.hazmat.decrepit', 'cryptography.hazmat.decrepit.ciphers', 'cryptography.hazmat.decrepit.ciphers.algorithms', 'cryptography.hazmat.primitives.ciphers.algorithms', 'cryptography.hazmat.primitives.ciphers.modes', 'cryptography.hazmat.primitives.ciphers.base', 'cryptography.hazmat.primitives.ciphers', 'cryptography.hazmat.primitives.serialization.ssh', 'cryptography.hazmat.primitives.serialization', 'cryptography.x509.certificate_transparency', 'cryptography.x509.oid', 'cryptography.x509.name', 'cryptography.x509.general_name', 'cryptography.x509.verification', 'cryptography.hazmat.primitives.asymmetric.ed448', 'cryptography.hazmat.primitives.asymmetric.x448', 'cryptography.hazmat.primitives.asymmetric.x25519', 'cryptography.hazmat.primitives.asymmetric.dh', 'cryptography.hazmat.primitives.asymmetric.types', 'cryptography.hazmat.primitives.constant_time', 'cryptography.x509.extensions', 'cryptography.x509.base', 'cryptography.x509', 'cryptography.hazmat.bindings.openssl', 'cryptography.hazmat.bindings.openssl._conditional', 'cryptography.hazmat.bindings.openssl.binding', 'cryptography.hazmat.backends.openssl.backend', 'cryptography.hazmat.backends.openssl', 'google.auth.crypt._cryptography_rsa', 'google.auth.crypt.rsa', 'google.auth.crypt.es256', 'google.auth.crypt', 'google.auth._service_account_info', 'google.auth._exponential_backoff', 'google.auth.iam', 'cachetools.keys', 'cachetools._decorators', 'cachetools', 'google.auth.jwt', 'google.oauth2._client', 'google.oauth2.service_account', 'google.auth.transport.grpc', 'google.auth.transport.requests', 'google.api_core.grpc_helpers', 'google.api_core.gapic_v1.method', 'google.api_core.grpc_helpers_async', 'google.api_core.gapic_v1.method_async', 'google.api_core.gapic_v1.routing_header', 'google.api_core.gapic_v1', 'google.auth.transport.mtls', 'google.api_core.client_logging', 'google.protobuf.descriptor_pb2', 'google.protobuf.field_mask_pb2', 'google.protobuf.struct_pb2', 'google.protobuf.wrappers_pb2', 'proto.marshal.compat', 'proto.utils', 'proto.marshal.collections.maps', 'proto.marshal.collections.repeated', 'proto.marshal.collections', 'proto.marshal.rules', 'proto.marshal.rules.bytes', 'proto.primitives', 'proto.marshal.rules.stringy_numbers', 'proto.datetime_helpers', 'proto.marshal.rules.dates', 'proto.marshal.rules.struct', 'proto.marshal.rules.wrappers', 'proto.marshal.rules.field_mask', 'proto.marshal.marshal', 'proto.marshal', 'proto.marshal.rules.message', 'proto._file_info', 'proto._package_info', 'proto.marshal.rules.enums', 'proto.enums', 'proto.fields', 'google.protobuf.json_format', 'proto.message', 'proto.modules', 'proto.version', 'proto', 'google.cloud.spanner_v1.types.transaction', 'google.cloud.spanner_v1.types.commit_response', 'google.cloud.spanner_v1.types.keys', 'google.cloud.spanner_v1.types.mutation', 'google.cloud.spanner_v1.types.query_plan', 'google.cloud.spanner_v1.types.type', 'google.cloud.spanner_v1.types.result_set', 'google.cloud.spanner_v1.types.spanner', 'google.cloud.spanner_v1.types', 'google.cloud.spanner_v1.services.spanner.pagers', 'google.cloud.spanner_v1.metrics', 'grpc_interceptor.client', 'grpc_interceptor.exceptions', 'grpc_interceptor.server', 'grpc_interceptor.exception_to_status', 'grpc_interceptor', 'google.cloud.spanner_v1.metrics.constants', 'google.cloud.spanner_v1.metrics.metrics_tracer', 'google.cloud.spanner_v1.metrics.metrics_tracer_factory', 'google.cloud.spanner_v1.metrics.spanner_metrics_tracer_factory', 'google.cloud.spanner_v1.metrics.metrics_interceptor', 'google.protobuf.empty_pb2', 'google.cloud.spanner_v1.services.spanner.transports.base', 'google.cloud.spanner_v1.services.spanner.transports.grpc', 'google.cloud.spanner_v1.services.spanner.transports.grpc_asyncio', 'google.api_core.rest_helpers', 'google.api_core._rest_streaming_base', 'google.api_core.rest_streaming', 'google.api_core.path_template', 'google.cloud.spanner_v1.services.spanner.transports.rest_base', 'google.cloud.spanner_v1.services.spanner.transports.rest', 'google.cloud.spanner_v1.services.spanner.transports', 'google.cloud.spanner_v1.services.spanner.client', 'google.cloud.spanner_v1.services.spanner.async_client', 'google.cloud.spanner_v1.services.spanner', 'google.cloud.spanner_v1.data_types', 'google.cloud._helpers', 'google.cloud.spanner_v1.request_id_header', 'google.cloud.spanner_v1._helpers', 'google.cloud.spanner_v1.metrics.metrics_capture', 'google.cloud.spanner_v1._opentelemetry_tracing', 'grpc._channel', 'google.cloud.exceptions', 'google.cloud.spanner_v1.streamed', 'google.cloud.spanner_v1.snapshot', 'google.cloud.spanner_v1.batch', 'google.cloud.spanner_v1.transaction', 'google.cloud.spanner_v1.param_types', 'google.auth.api_key', 'google.cloud.client', 'google.cloud.spanner_admin_database_v1.gapic_version', 'google.cloud.spanner_admin_database_v1.services', 'google.api_core.protobuf_helpers', 'google.api_core.future.base', 'google.api_core.future', 'google.api_core.future._helpers', 'google.api_core.future.polling', 'google.longrunning', 'google.api', 'google.api.http_pb2', 'google.api.annotations_pb2', 'google.api.launch_stage_pb2', 'google.api.client_pb2', 'google.longrunning.operations_proto_pb2', 'google.longrunning.operations_pb2_grpc', 'google.longrunning.operations_grpc_pb2', 'google.longrunning.operations_pb2', 'google.rpc.code_pb2', 'google.api_core.operation', 'google.api_core.future.async_future', 'google.api_core.operation_async', 'google.cloud.spanner_admin_database_v1.types.common', 'google.cloud.spanner_admin_database_v1.types.backup', 'google.cloud.spanner_admin_database_v1.types.backup_schedule', 'google.cloud.spanner_admin_database_v1.types.spanner_database_admin', 'google.cloud.spanner_admin_database_v1.types', 'google.cloud.spanner_admin_database_v1.services.database_admin.pagers', 'google.iam', 'google.iam.v1', 'google.api.field_behavior_pb2', 'google.api.resource_pb2', 'google.iam.v1.options_pb2', 'google.type', 'google.type.expr_pb2', 'google.iam.v1.policy_pb2', 'google.iam.v1.iam_policy_pb2', 'google.api_core.operations_v1.pagers_base', 'google.api_core.operations_v1.pagers', 'google.api_core.operations_v1.transports.base', 'google.api_core.operations_v1.transports.rest', 'google.auth.aio', 'google.auth.aio.transport', 'google.auth.aio.credentials', 'multidict._abc', 'multidict._multidict', 'multidict._compat', 'multidict', 'aiohttp.hdrs', 'attr._compat', 'attr._config', 'attr.exceptions', 'attr.setters', 'attr._make', 'attr.converters', 'attr.filters', 'attr.validators', 'attr._cmp', 'attr._funcs', 'attr._next_gen', 'attr._version_info', 'attr', '_cython_3_1_2', 'yarl._quoting_c', 'yarl._quoting', 'yarl._quoters', 'yarl._query', 'propcache', 'propcache._helpers_c', 'propcache._helpers', 'propcache.api', 'yarl._parse', 'yarl._path', 'yarl._url', 'yarl', 'aiohttp.typedefs', 'aiohttp.http_exceptions', 'aiohttp.client_exceptions', 'netrc', 'aiohttp.log', 'aiohttp.helpers', 'aiohttp.tcp_helpers', 'aiohttp.base_protocol', 'aiohttp.compression_utils', 'aiohttp.abc', '_cython_3_0_11', 'aiohttp._http_writer', 'aiohttp.http_writer', 'aiohttp.streams', 'aiohttp._http_parser', 'aiohttp.http_parser', 'aiohttp._websocket', 'aiohttp._websocket.models', 'aiohttp._websocket.mask', 'aiohttp._websocket.helpers', 'aiohttp._websocket.reader_c', 'aiohttp._websocket.reader', 'aiohttp._websocket.writer', 'aiohttp.http_websocket', 'aiohttp.http', 'aiohttp.payload', 'aiohttp.multipart', 'aiohttp.formdata', 'aiohttp.client_reqrep', 'aiohttp.client_ws', 'aiohappyeyeballs._staggered', 'aiohappyeyeballs.types', 'aiohappyeyeballs.impl', 'aiohappyeyeballs.utils', 'aiohappyeyeballs', 'aiohttp.client_proto', 'aiohttp.resolver', 'aiohttp.connector', 'aiohttp.cookiejar', 'frozenlist._frozenlist', 'frozenlist', 'typing_extensions', 'aiosignal', 'aiohttp.tracing', 'aiohttp.client', 'aiohttp.payload_streamer', 'aiohttp', 'google.auth.aio.transport.aiohttp', 'google.auth.aio.transport.sessions', 'google.api_core.operations_v1.transports.rest_asyncio', 'google.api_core.operations_v1.transports', 'google.api_core.operations_v1.abstract_operations_base_client', 'google.api_core.operations_v1.abstract_operations_client', 'google.api_core.page_iterator', 'google.api_core.page_iterator_async', 'google.api_core.operations_v1.operations_async_client', 'google.api_core.operations_v1.operations_client', 'google.api_core.operations_v1.pagers_async', 'google.api_core.operations_v1.operations_rest_client_async', 'google.api_core.operations_v1', 'google.cloud.spanner_admin_database_v1.services.database_admin.transports.base', 'google.cloud.spanner_admin_database_v1.services.database_admin.transports.grpc', 'google.cloud.spanner_admin_database_v1.services.database_admin.transports.grpc_asyncio', 'google.cloud.spanner_admin_database_v1.services.database_admin.transports.rest_base', 'google.cloud.spanner_admin_database_v1.services.database_admin.transports.rest', 'google.cloud.spanner_admin_database_v1.services.database_admin.transports', 'google.cloud.spanner_admin_database_v1.services.database_admin.client', 'google.cloud.spanner_admin_database_v1.services.database_admin.async_client', 'google.cloud.spanner_admin_database_v1.services.database_admin', 'google.cloud.spanner_admin_database_v1', 'google.cloud.spanner_admin_instance_v1.gapic_version', 'google.cloud.spanner_admin_instance_v1.services', 'google.cloud.spanner_admin_instance_v1.types.common', 'google.cloud.spanner_admin_instance_v1.types.spanner_instance_admin', 'google.cloud.spanner_admin_instance_v1.types', 'google.cloud.spanner_admin_instance_v1.services.instance_admin.pagers', 'google.cloud.spanner_admin_instance_v1.services.instance_admin.transports.base', 'google.cloud.spanner_admin_instance_v1.services.instance_admin.transports.grpc', 'google.cloud.spanner_admin_instance_v1.services.instance_admin.transports.grpc_asyncio', 'google.cloud.spanner_admin_instance_v1.services.instance_admin.transports.rest_base', 'google.cloud.spanner_admin_instance_v1.services.instance_admin.transports.rest', 'google.cloud.spanner_admin_instance_v1.services.instance_admin.transports', 'google.cloud.spanner_admin_instance_v1.services.instance_admin.client', 'google.cloud.spanner_admin_instance_v1.services.instance_admin.async_client', 'google.cloud.spanner_admin_instance_v1.services.instance_admin', 'google.cloud.spanner_admin_instance_v1', 'google.cloud.spanner_v1.backup', 'google.cloud.spanner_v1.keyset', 'google.cloud.spanner_v1.merged_result_set', 'google.cloud.spanner_v1.pool', 'google.cloud.spanner_v1.session', 'google.cloud.spanner_v1.session_options', 'google.cloud.spanner_v1.database_sessions_manager', 'google.cloud.spanner_v1.table', 'google.cloud.spanner_v1.database', 'google.cloud.spanner_v1.testing', 'google.cloud.spanner_v1.testing.interceptors', 'google.cloud.spanner_v1.testing.database_test', 'google.cloud.spanner_v1.instance', 'google.api.distribution_pb2', 'google.api.label_pb2', 'google.api.metric_pb2', 'google.api.monitored_resource_pb2', 'google.cloud.spanner_v1.metrics.metrics_exporter', 'google.cloud.spanner_v1.client', 'google.cloud.spanner_v1', 'google.cloud.spanner', 'google.auth._cloud_sdk', 'google.oauth2.webauthn_types', 'google.oauth2.webauthn_handler', 'google.oauth2.webauthn_handler_factory', 'google.oauth2.challenges', 'google.oauth2.reauth', 'google.oauth2.credentials', 'secrets', 'webbrowser', 'wsgiref', 'wsgiref.util', 'wsgiref.headers', 'wsgiref.handlers', 'wsgiref.simple_server', 'google.oauth2.utils', 'google.oauth2.sts', 'google.auth.external_account_authorized_user', 'oauthlib', 'oauthlib.common', 'oauthlib.oauth1.rfc5849.utils', 'oauthlib.oauth1.rfc5849.parameters', 'oauthlib.oauth1.rfc5849.signature', 'oauthlib.oauth1.rfc5849', 'oauthlib.oauth1.rfc5849.errors', 'oauthlib.oauth1.rfc5849.endpoints.base', 'oauthlib.oauth1.rfc5849.endpoints.access_token', 'oauthlib.oauth1.rfc5849.endpoints.authorization', 'oauthlib.oauth1.rfc5849.endpoints.request_token', 'oauthlib.oauth1.rfc5849.endpoints.resource', 'oauthlib.oauth1.rfc5849.endpoints.signature_only', 'oauthlib.oauth1.rfc5849.endpoints.pre_configured', 'oauthlib.oauth1.rfc5849.endpoints', 'oauthlib.oauth1.rfc5849.request_validator', 'oauthlib.oauth1', 'requests_oauthlib.oauth1_auth', 'requests_oauthlib.oauth1_session', 'oauthlib.oauth2.rfc6749.utils', 'oauthlib.oauth2.rfc6749.errors', 'oauthlib.oauth2.rfc6749.endpoints.base', 'oauthlib.oauth2.rfc6749.endpoints.authorization', 'oauthlib.oauth2.rfc6749.endpoints.introspect', 'oauthlib.uri_validate', 'oauthlib.oauth2.rfc6749.request_validator', 'oauthlib.oauth2.rfc6749.grant_types.base', 'oauthlib.oauth2.rfc6749.grant_types.authorization_code', 'oauthlib.oauth2.rfc6749.grant_types.client_credentials', 'oauthlib.oauth2.rfc6749.grant_types.implicit', 'oauthlib.oauth2.rfc6749.grant_types.refresh_token', 'oauthlib.oauth2.rfc6749.grant_types.resource_owner_password_credentials', 'oauthlib.oauth2.rfc6749.grant_types', 'oauthlib.oauth2.rfc6749.endpoints.revocation', 'oauthlib.oauth2.rfc6749.endpoints.token', 'oauthlib.oauth2.rfc6749.endpoints.metadata', 'oauthlib.oauth2.rfc6749.tokens', 'oauthlib.oauth2.rfc6749.endpoints.resource', 'oauthlib.oauth2.rfc8628.errors', 'oauthlib.oauth2.rfc8628', 'oauthlib.oauth2.rfc8628.grant_types.device_code', 'oauthlib.oauth2.rfc8628.grant_types', 'oauthlib.oauth2.rfc6749.endpoints.pre_configured', 'oauthlib.oauth2.rfc6749.endpoints', 'oauthlib.oauth2.rfc6749', 'blinker._utilities', 'blinker.base', 'blinker', 'oauthlib.signals', 'oauthlib.oauth2.rfc6749.parameters', 'oauthlib.oauth2.rfc6749.clients.base', 'oauthlib.oauth2.rfc6749.clients.backend_application', 'oauthlib.oauth2.rfc6749.clients.legacy_application', 'oauthlib.oauth2.rfc6749.clients.mobile_application', 'oauthlib.oauth2.rfc6749.clients.service_application', 'oauthlib.oauth2.rfc6749.clients.web_application', 'oauthlib.oauth2.rfc6749.clients', 'oauthlib.oauth2.rfc8628.clients.device', 'oauthlib.oauth2.rfc8628.clients', 'oauthlib.oauth2.rfc8628.endpoints.device_authorization', 'oauthlib.openid.connect', 'oauthlib.openid.connect.core', 'oauthlib.openid.connect.core.grant_types.base', 'oauthlib.openid.connect.core.grant_types.authorization_code', 'oauthlib.openid.connect.core.grant_types.dispatchers', 'oauthlib.openid.connect.core.request_validator', 'oauthlib.openid.connect.core.grant_types.hybrid', 'oauthlib.openid.connect.core.grant_types.implicit', 'oauthlib.openid.connect.core.grant_types.refresh_token', 'oauthlib.openid.connect.core.grant_types', 'oauthlib.openid.connect.core.tokens', 'oauthlib.openid.connect.core.endpoints.userinfo', 'oauthlib.openid.connect.core.endpoints.pre_configured', 'oauthlib.openid.connect.core.endpoints', 'oauthlib.openid', 'oauthlib.oauth2.rfc8628.endpoints.pre_configured', 'oauthlib.oauth2.rfc8628.endpoints', 'oauthlib.oauth2', 'requests_oauthlib.oauth2_auth', 'requests_oauthlib.oauth2_session', 'requests_oauthlib', 'google_auth_oauthlib.helpers', 'google_auth_oauthlib.flow', 'google_auth_oauthlib.interactive', 'google_auth_oauthlib', 'pydata_google_auth.exceptions', 'pydata_google_auth.cache', 'pydata_google_auth._webserver', 'pydata_google_auth.auth', 'pydata_google_auth._version', 'pydata_google_auth', 'spanner_graphs.cloud_database', 'spanner_graphs.exec_env', 'spanner_graphs.graph_entities', 'spanner_graphs.schema_manager', 'spanner_graphs.conversion', 'spanner_graphs.graph_server', 'spanner_graphs.graph_visualization', 'spanner_graphs.magics', 'spanner_graphs', '__phello__', '_dbm', 'dbm.ndbm', 'dbm', 'setuptools._distutils', 'distutils.compat.py38', 'distutils.compat', 'distutils.compat.py39', 'distutils.errors', 'distutils._modified', 'distutils._log', 'distutils.file_util', 'distutils.dir_util', 'distutils.debug', 'distutils.spawn', 'distutils.archive_util', 'distutils.util', 'distutils.cmd', 'distutils.fancy_getopt', 'distutils.dist', 'distutils.extension', 'distutils.core', '_distutils_hack.override', 'distutils.filelist', 'setuptools.monkey', 'distutils.log', 'setuptools.logging', 'setuptools._imp', 'setuptools.depends', 'setuptools._path', 'setuptools.discovery', 'setuptools._importlib', 'setuptools._itertools', 'setuptools.errors', 'setuptools._entry_points', 'setuptools._reqs', 'distutils.command', 'distutils.command.bdist', 'setuptools.command', 'setuptools.warnings', 'setuptools.config.expand', 'setuptools.config.setupcfg', 'setuptools.config', 'setuptools.extension', 'setuptools.config._apply_pyprojecttoml', 'setuptools.config.pyprojecttoml', 'setuptools.dist', 'setuptools.version', 'setuptools._normalization', 'setuptools._core_metadata', 'setuptools', 'distutils', 'distutils.tests', 'distutils.tests.compat', 'email.mime', 'lib2to3', 'lib2to3.fixes', 'lib2to3.pgen2', 'multiprocessing.process', 'multiprocessing.reduction', 'multiprocessing.context', '__mp_main__', 'multiprocessing', 'multiprocessing.dummy.connection', 'multiprocessing.dummy', 'pydoc_data', 'test', 'test.libregrtest', 'unittest.util', 'unittest.result', 'difflib', 'unittest.case', 'unittest.suite', 'unittest.loader', 'unittest.signals', 'unittest.runner', 'unittest.main', 'unittest', '_testcapi', 'test.support', '_tkinter', 'tkinter.constants', 'tkinter', 'tomllib._types', 'tomllib._re', 'tomllib._parser', 'tomllib', 'venv', 'xml.sax.handler', 'xml.sax._exceptions', 'xml.sax.xmlreader', 'xml.sax', 'zoneinfo._tzpath', 'zoneinfo._common', '_zoneinfo', 'zoneinfo', 'Cryptodome', 'Cryptodome.Cipher', 'Cryptodome.Hash', 'Cryptodome.IO', 'Cryptodome.Math', 'Cryptodome.Protocol', 'Cryptodome.Util', 'Cryptodome.Util.py3compat', 'Cryptodome.Random', 'Cryptodome.Util.number', 'Cryptodome.Util.asn1', 'Cryptodome.PublicKey', 'Cryptodome.SelfTest', 'Cryptodome.SelfTest.Cipher', 'Cryptodome.SelfTest.Hash', 'Cryptodome.SelfTest.IO', 'Cryptodome.SelfTest.Math', 'Cryptodome.SelfTest.Protocol', 'Cryptodome.SelfTest.st_common', 'Cryptodome.SelfTest.PublicKey.test_DSA', 'Cryptodome.SelfTest.PublicKey.test_RSA', 'Cryptodome.SelfTest.loader', 'Cryptodome.Util._file_system', 'cffi.lock', 'cffi.error', 'cffi.model', 'cffi.api', 'cffi', 'cffi.commontypes', 'pycparser.ply', 'pycparser.ply.yacc', 'pycparser.c_ast', 'pycparser.ply.lex', 'pycparser.c_lexer', 'pycparser.plyparser', 'pycparser.ast_transforms', 'pycparser.c_parser', 'pycparser', 'cffi.cparser', 'pycparser.lextab', 'pycparser.yacctab', 'Cryptodome.Util._raw_api', 'Cryptodome.Math._IntegerBase', 'ctypes.util', 'Cryptodome.Math._IntegerGMP', 'Cryptodome.Math.Numbers', 'Cryptodome.Hash.SHA512', 'Cryptodome.Hash.keccak', 'Cryptodome.Hash.SHAKE256', 'Cryptodome.Random.random', 'Cryptodome.PublicKey._point', 'Cryptodome.PublicKey.ECC', 'Cryptodome.PublicKey._curve', 'Cryptodome.PublicKey._nist_ecc', 'Cryptodome.SelfTest.PublicKey.test_ECC_NIST', 'Cryptodome.Hash.SHAKE128', 'Cryptodome.PublicKey._edwards', 'Cryptodome.SelfTest.PublicKey.test_ECC_Ed25519', 'Cryptodome.SelfTest.PublicKey.test_ECC_Curve25519', 'Cryptodome.SelfTest.PublicKey.test_ECC_Ed448', 'Cryptodome.SelfTest.PublicKey.test_ECC_Curve448', 'Cryptodome.Util._cpu_features', 'Cryptodome.Cipher.AES', 'Cryptodome.Util.Padding', 'Cryptodome.Hash.SHA1', 'Cryptodome.Hash.SHA256', 'Cryptodome.Hash.BLAKE2s', 'Cryptodome.Util.strxor', 'Cryptodome.Hash.HMAC', 'Cryptodome.Hash.CMAC', 'Cryptodome.Protocol.KDF', 'Cryptodome.IO._PBES', 'Cryptodome.IO.PKCS8', 'Cryptodome.Hash.MD5', 'Cryptodome.Cipher.DES', 'Cryptodome.Cipher.DES3', 'Cryptodome.IO.PEM', 'Cryptodome.Math.Primality', 'Cryptodome.PublicKey.DSA', 'Cryptodome.SelfTest.PublicKey.test_import_DSA', 'Cryptodome.PublicKey.RSA', 'Cryptodome.SelfTest.PublicKey.test_import_RSA', 'Cryptodome.SelfTest.PublicKey.test_import_ECC', 'Cryptodome.PublicKey.ElGamal', 'Cryptodome.SelfTest.PublicKey.test_ElGamal', 'Cryptodome.SelfTest.PublicKey.test_import_Curve25519', 'Cryptodome.SelfTest.PublicKey.test_import_Curve448', 'Cryptodome.SelfTest.PublicKey', 'Cryptodome.SelfTest.Random', 'Cryptodome.Hash.SHA224', 'Cryptodome.Hash.SHA384', 'Cryptodome.Hash.SHA3_384', 'Cryptodome.Hash.SHA3_224', 'Cryptodome.Hash.SHA3_256', 'Cryptodome.Hash.SHA3_512', 'Cryptodome.Signature', 'Cryptodome.Signature.pkcs1_15', 'Cryptodome.Signature.PKCS1_v1_5', 'Cryptodome.SelfTest.Signature.test_pkcs1_15', 'Cryptodome.Signature.pss', 'Cryptodome.Signature.PKCS1_PSS', 'Cryptodome.SelfTest.Signature.test_pss', 'Cryptodome.Signature.DSS', 'Cryptodome.SelfTest.Signature.test_dss', 'Cryptodome.Signature.eddsa', 'Cryptodome.SelfTest.Signature.test_eddsa', 'Cryptodome.SelfTest.Signature', 'Cryptodome.SelfTest.Util', 'cython.parallel', 'cython.cimports', 'cython.cimports.libc', 'cython.cimports.libc.math', 'cython.dataclasses', 'Cython.Shadow', 'Cython', 'cython', '_cython_3_0_12', 'Cython.Utils', 'Cython.Compiler', 'Cython.Compiler.DebugFlags', 'Cython.Compiler.Options', 'Cython.Compiler.Errors', 'Cython.Compiler.StringEncoding', 'Cython.Plex.Actions', 'Cython.Plex.Transitions', 'Cython.Plex.Machines', 'Cython.Plex.DFA', 'Cython.Plex.Errors', 'Cython.Plex.Regexps', 'Cython.Plex.Lexicons', 'Cython.Plex.Scanners', 'Cython.Plex', 'Cython.Compiler.Lexicon', 'Cython.Compiler.Future', 'Cython.Compiler.Scanning', 'Cython.Compiler.Naming', 'Cython.StringIOTree', 'Cython.Compiler.Code', 'Cython.Compiler.PyrexTypes', 'Cython.Compiler.TypeSlots', 'Cython.Compiler.Symtab', 'Cython.Compiler.CmdLine', 'Cython.Compiler.Main', 'Cython.Build.Dependencies', 'Cython.Build', 'Cython.Build.Tests', 'Cython.Compiler.Tests', 'Cython.Debugger', 'Cython.Debugger.Tests', 'distutils.sysconfig', 'distutils.command.build_ext', 'Cython.Distutils.build_ext', 'Cython.Distutils.extension', 'Cython.Distutils', 'Cython.Runtime', 'Cython.Tempita.compat3', 'Cython.Tempita._looper', 'Cython.Tempita._tempita', 'Cython.Tempita', 'Cython.Tests', 'Cython.Utility', 'IPython.core.tests', 'IPython.extensions.tests', 'IPython.external', 'numpy.testing._private', 'numpy.testing._private.utils', 'numpy.testing._private.extbuild', 'numpy.testing.overrides', 'numpy.testing', 'IPython.external.decorators._decorators', 'IPython.external.decorators', 'IPython.utils.shimmodule', 'IPython.kernel.zmq.session', 'IPython.kernel.zmq', 'IPython.kernel.comm', 'IPython.kernel.inprocess', 'IPython.kernel.ioloop', 'IPython.kernel.blocking', 'ipykernel.inprocess.channels', 'ipykernel.inprocess.client', 'ipykernel.inprocess.blocking', 'ipykernel.inprocess.constants', 'ipykernel.inprocess.manager', 'ipykernel.inprocess', 'jupyter_client.restarter', 'jupyter_client.ioloop.restarter', 'jupyter_client.ioloop.manager', 'jupyter_client.ioloop', 'IPython.kernel', 'IPython.lib.tests', 'IPython.sphinxext', 'IPython.terminal.tests', 'IPython.testing.plugin', 'IPython.testing.tests', 'IPython.utils.tests', 'OpenGL.version', 'OpenGL.plugins', 'OpenGL', 'OpenGL.AGL', 'OpenGL.raw', 'OpenGL.raw.EGL', 'OpenGL._opaque', 'OpenGL._configflags', 'OpenGL.platform.ctypesloader', 'OpenGL._bytes', 'OpenGL.logs', 'OpenGL.platform.baseplatform', 'OpenGL.platform.glx', 'OpenGL.platform', 'OpenGL.acceleratesupport', 'OpenGL.latebind', 'OpenGL.extensions', 'OpenGL.raw.EGL._types', 'OpenGL.error', 'OpenGL.raw.EGL._errors', 'OpenGL.EGL.VERSION', 'OpenGL.constant', 'OpenGL.raw.GL', 'OpenGL.raw.GL._types', 'OpenGL.arrays.formathandler', 'OpenGL.arrays._arrayconstants', 'OpenGL.arrays.arraydatatype', 'OpenGL.contextdata', 'OpenGL._null', 'OpenGL.converters', 'OpenGL.arrays.arrayhelpers', 'OpenGL.arrays', 'OpenGL.wrapper', 'OpenGL.raw.GL._lookupint', 'OpenGL.raw.EGL._glgets', 'OpenGL.raw.EGL.VERSION', 'OpenGL.raw.EGL.VERSION.EGL_1_0', 'OpenGL.EGL.VERSION.EGL_1_0', 'OpenGL.raw.EGL.VERSION.EGL_1_1', 'OpenGL.EGL.VERSION.EGL_1_1', 'OpenGL.raw.EGL.VERSION.EGL_1_2', 'OpenGL.EGL.VERSION.EGL_1_2', 'OpenGL.raw.EGL.VERSION.EGL_1_3', 'OpenGL.EGL.VERSION.EGL_1_3', 'OpenGL.raw.EGL.VERSION.EGL_1_4', 'OpenGL.EGL.VERSION.EGL_1_4', 'OpenGL.raw.EGL.VERSION.EGL_1_5', 'OpenGL.EGL.EXT', 'OpenGL.raw.EGL.EXT', 'OpenGL.raw.EGL.EXT.platform_base', 'OpenGL.EGL.EXT.platform_base', 'OpenGL.EGL.VERSION.EGL_1_5', 'OpenGL.EGL', 'OpenGL.EGL.ANDROID', 'OpenGL.EGL.ANGLE', 'OpenGL.EGL.ARM', 'OpenGL.EGL.HI', 'OpenGL.EGL.IMG', 'OpenGL.EGL.KHR', 'OpenGL.EGL.MESA', 'OpenGL.EGL.NOK', 'OpenGL.EGL.NV', 'OpenGL.EGL.TIZEN', 'OpenGL.GL.VERSION', 'OpenGL.raw.GL._glgets', 'OpenGL.raw.GL.VERSION', 'OpenGL.raw.GL._errors', 'OpenGL.raw.GL.VERSION.GL_1_0', 'OpenGL.raw.GL.VERSION.GL_1_1', 'OpenGL.GL.VERSION.GL_1_0', 'OpenGL.GL.VERSION.GL_1_1', 'OpenGL.GL.pointers', 'OpenGL.raw.GL.VERSION.GL_1_2', 'OpenGL.raw.GL.VERSION.GL_3_0', 'OpenGL.images', 'OpenGL.GL.images', 'OpenGL.lazywrapper', 'OpenGL.GL.exceptional', 'OpenGL.GL.glget', 'OpenGL.GL.ARB', 'OpenGL.raw.GL.ARB', 'OpenGL.raw.GL.ARB.imaging', 'OpenGL.GL.ARB.imaging', 'OpenGL.constants', 'OpenGL.GL.VERSION.GL_1_2_images', 'OpenGL.GL.VERSION.GL_1_2', 'OpenGL.raw.GL.VERSION.GL_1_3', 'OpenGL.GL.VERSION.GL_1_3', 'OpenGL.raw.GL.VERSION.GL_1_4', 'OpenGL.GL.VERSION.GL_1_4', 'OpenGL.raw.GL.VERSION.GL_1_5', 'OpenGL.GL.VERSION.GL_1_5', 'OpenGL.raw.GL.VERSION.GL_2_0', 'OpenGL.raw.GL.ARB.shader_objects', 'OpenGL.GL.VERSION.GL_2_0', 'OpenGL.raw.GL.VERSION.GL_2_1', 'OpenGL.GL.VERSION.GL_2_1', 'OpenGL.GL.VERSION.GL_3_0', 'OpenGL.raw.GL.VERSION.GL_3_1', 'OpenGL.GL.VERSION.GL_3_1', 'OpenGL.raw.GL.VERSION.GL_3_2', 'OpenGL.GL.VERSION.GL_3_2', 'OpenGL.raw.GL.VERSION.GL_3_3', 'OpenGL.GL.VERSION.GL_3_3', 'OpenGL.raw.GL.VERSION.GL_4_0', 'OpenGL.GL.VERSION.GL_4_0', 'OpenGL.raw.GL.VERSION.GL_4_1', 'OpenGL.raw.GL.ARB.ES2_compatibility', 'OpenGL.GL.ARB.ES2_compatibility', 'OpenGL.raw.GL.ARB.get_program_binary', 'OpenGL.GL.ARB.get_program_binary', 'OpenGL.raw.GL.ARB.separate_shader_objects', 'OpenGL.GL.ARB.separate_shader_objects', 'OpenGL.raw.GL.ARB.shader_precision', 'OpenGL.GL.ARB.shader_precision', 'OpenGL.raw.GL.ARB.vertex_attrib_64bit', 'OpenGL.GL.ARB.vertex_attrib_64bit', 'OpenGL.raw.GL.ARB.viewport_array', 'OpenGL.GL.ARB.viewport_array', 'OpenGL.GL.VERSION.GL_4_1', 'OpenGL.raw.GL.VERSION.GL_4_2', 'OpenGL.raw.GL.ARB.base_instance', 'OpenGL.GL.ARB.base_instance', 'OpenGL.raw.GL.ARB.shading_language_420pack', 'OpenGL.GL.ARB.shading_language_420pack', 'OpenGL.raw.GL.ARB.transform_feedback_instanced', 'OpenGL.GL.ARB.transform_feedback_instanced', 'OpenGL.raw.GL.ARB.compressed_texture_pixel_storage', 'OpenGL.GL.ARB.compressed_texture_pixel_storage', 'OpenGL.raw.GL.ARB.conservative_depth', 'OpenGL.GL.ARB.conservative_depth', 'OpenGL.raw.GL.ARB.internalformat_query', 'OpenGL.GL.ARB.internalformat_query', 'OpenGL.raw.GL.ARB.map_buffer_alignment', 'OpenGL.GL.ARB.map_buffer_alignment', 'OpenGL.raw.GL.ARB.shader_atomic_counters', 'OpenGL.GL.ARB.shader_atomic_counters', 'OpenGL.raw.GL.ARB.shader_image_load_store', 'OpenGL.GL.ARB.shader_image_load_store', 'OpenGL.raw.GL.ARB.shading_language_packing', 'OpenGL.GL.ARB.shading_language_packing', 'OpenGL.raw.GL.ARB.texture_storage', 'OpenGL.GL.ARB.texture_storage', 'OpenGL.GL.VERSION.GL_4_2', 'OpenGL.raw.GL.VERSION.GL_4_3', 'OpenGL.raw.GL.ARB.arrays_of_arrays', 'OpenGL.GL.ARB.arrays_of_arrays', 'OpenGL.raw.GL.ARB.fragment_layer_viewport', 'OpenGL.GL.ARB.fragment_layer_viewport', 'OpenGL.raw.GL.ARB.shader_image_size', 'OpenGL.GL.ARB.shader_image_size', 'OpenGL.raw.GL.ARB.ES3_compatibility', 'OpenGL.GL.ARB.ES3_compatibility', 'OpenGL.raw.GL.ARB.clear_buffer_object', 'OpenGL.GL.ARB.clear_buffer_object', 'OpenGL.raw.GL.ARB.compute_shader', 'OpenGL.GL.ARB.compute_shader', 'OpenGL.raw.GL.ARB.copy_image', 'OpenGL.GL.ARB.copy_image', 'OpenGL.GL.KHR', 'OpenGL.raw.GL.KHR', 'OpenGL.raw.GL.KHR.debug', 'OpenGL.GL.KHR.debug', 'OpenGL.raw.GL.ARB.explicit_uniform_location', 'OpenGL.GL.ARB.explicit_uniform_location', 'OpenGL.raw.GL.ARB.framebuffer_no_attachments', 'OpenGL.GL.ARB.framebuffer_no_attachments', 'OpenGL.raw.GL.ARB.internalformat_query2', 'OpenGL.GL.ARB.internalformat_query2', 'OpenGL.raw.GL.ARB.invalidate_subdata', 'OpenGL.GL.ARB.invalidate_subdata', 'OpenGL.raw.GL.ARB.multi_draw_indirect', 'OpenGL.GL.ARB.multi_draw_indirect', 'OpenGL.raw.GL.ARB.program_interface_query', 'OpenGL.GL.ARB.program_interface_query', 'OpenGL.raw.GL.ARB.robust_buffer_access_behavior', 'OpenGL.GL.ARB.robust_buffer_access_behavior', 'OpenGL.raw.GL.ARB.shader_storage_buffer_object', 'OpenGL.GL.ARB.shader_storage_buffer_object', 'OpenGL.raw.GL.ARB.stencil_texturing', 'OpenGL.GL.ARB.stencil_texturing', 'OpenGL.raw.GL.ARB.texture_buffer_range', 'OpenGL.GL.ARB.texture_buffer_range', 'OpenGL.raw.GL.ARB.texture_query_levels', 'OpenGL.GL.ARB.texture_query_levels', 'OpenGL.raw.GL.ARB.texture_storage_multisample', 'OpenGL.GL.ARB.texture_storage_multisample', 'OpenGL.raw.GL.ARB.texture_view', 'OpenGL.GL.ARB.texture_view', 'OpenGL.raw.GL.ARB.vertex_attrib_binding', 'OpenGL.GL.ARB.vertex_attrib_binding', 'OpenGL.GL.VERSION.GL_4_3', 'OpenGL.raw.GL.VERSION.GL_4_4', 'OpenGL.GL.VERSION.GL_4_4', 'OpenGL.raw.GL.VERSION.GL_4_5', 'OpenGL.GL.VERSION.GL_4_5', 'OpenGL.raw.GL.VERSION.GL_4_6', 'OpenGL.GL.VERSION.GL_4_6', 'OpenGL.arrays.vbo', 'OpenGL.GL.vboimplementation', 'OpenGL.raw.GL.ARB.vertex_buffer_object', 'OpenGL.GL.ARB.vertex_buffer_object', 'OpenGL.raw.GL.ARB.uniform_buffer_object', 'OpenGL.GL.ARB.uniform_buffer_object', 'OpenGL.raw.GL.ARB.texture_buffer_object', 'OpenGL.GL.ARB.texture_buffer_object', 'OpenGL.raw.GL.ARB.enhanced_layouts', 'OpenGL.GL.ARB.enhanced_layouts', 'OpenGL.GL.ARB.vboimplementation', 'OpenGL.GL', 'OpenGL.GL.AMD', 'OpenGL.GL.ANGLE', 'OpenGL.GL.APPLE', 'OpenGL.GL.ARM', 'OpenGL.GL.ATI', 'OpenGL.GL.DFX', 'OpenGL.GL.DMP', 'OpenGL.GL.EXT', 'OpenGL.GL.FJ', 'OpenGL.GL.GREMEDY', 'OpenGL.GL.HP', 'OpenGL.GL.IBM', 'OpenGL.GL.IMG', 'OpenGL.GL.INGR', 'OpenGL.GL.INTEL', 'OpenGL.GL.MESA', 'OpenGL.GL.MESAX', 'OpenGL.GL.NV', 'OpenGL.GL.NVX', 'OpenGL.GL.OES', 'OpenGL.GL.OML', 'OpenGL.GL.OVR', 'OpenGL.GL.PGI', 'OpenGL.GL.QCOM', 'OpenGL.GL.REND', 'OpenGL.GL.S3', 'OpenGL.GL.SGI', 'OpenGL.GL.SGIS', 'OpenGL.GL.SGIX', 'OpenGL.GL.SUN', 'OpenGL.GL.SUNX', 'OpenGL.GL.VIV', 'OpenGL.GL.WIN', 'OpenGL.raw.GLE.constants', 'OpenGL.raw.GLE', 'OpenGL.raw.GLE.annotations', 'OpenGL.GLE.exceptional', 'OpenGL.GLE', 'OpenGL.raw.GLES1', 'OpenGL.raw.GLES1._types', 'OpenGL.GLES1.VERSION', 'OpenGL.raw.GLES1._glgets', 'OpenGL.raw.GLES1.VERSION', 'OpenGL.raw.GLES1._errors', 'OpenGL.raw.GLES1.VERSION.GLES1_1_0', 'OpenGL.GLES1.VERSION.GLES1_1_0', 'OpenGL.GLES1', 'OpenGL.GLES1.AMD', 'OpenGL.GLES1.APPLE', 'OpenGL.GLES1.ARM', 'OpenGL.GLES1.EXT', 'OpenGL.GLES1.IMG', 'OpenGL.GLES1.KHR', 'OpenGL.GLES1.NV', 'OpenGL.GLES1.OES', 'OpenGL.GLES1.QCOM', 'OpenGL.raw.GLES2', 'OpenGL.raw.GLES2._types', 'OpenGL.GLES2.VERSION', 'OpenGL.raw.GLES2._glgets', 'OpenGL.raw.GLES2.VERSION', 'OpenGL.raw.GLES2._errors', 'OpenGL.raw.GLES2.VERSION.GLES2_2_0', 'OpenGL.GLES2.VERSION.GLES2_2_0', 'OpenGL.GLES2.OES', 'OpenGL.raw.GLES2.OES', 'OpenGL.raw.GLES2.OES.mapbuffer', 'OpenGL.GLES2.OES.mapbuffer', 'OpenGL.GLES2.vboimplementation', 'OpenGL.GLES2', 'OpenGL.GLES2.AMD', 'OpenGL.GLES2.ANDROID', 'OpenGL.GLES2.ANGLE', 'OpenGL.GLES2.APPLE', 'OpenGL.GLES2.ARM', 'OpenGL.GLES2.DMP', 'OpenGL.GLES2.ES', 'OpenGL.GLES2.EXT', 'OpenGL.GLES2.FJ', 'OpenGL.GLES2.IMG', 'OpenGL.GLES2.INTEL', 'OpenGL.GLES2.KHR', 'OpenGL.GLES2.MESA', 'OpenGL.GLES2.NV', 'OpenGL.GLES2.NVX', 'OpenGL.GLES2.OVR', 'OpenGL.GLES2.QCOM', 'OpenGL.GLES2.VIV', 'OpenGL.raw.GLES3._types', 'OpenGL.GLES3.VERSION', 'OpenGL.raw.GLES3._glgets', 'OpenGL.raw.GLES3.VERSION', 'OpenGL.raw.GLES3._errors', 'OpenGL.raw.GLES3.VERSION.GLES3_3_0', 'OpenGL.GLES3.VERSION.GLES3_3_0', 'OpenGL.raw.GLES3', 'OpenGL.raw.GLES3.VERSION.GLES3_3_1', 'OpenGL.GLES3.VERSION.GLES3_3_1', 'OpenGL.GLES3', 'OpenGL.raw.GLU.constants', 'OpenGL.raw.GLU', 'OpenGL.raw.GLU.annotations', 'OpenGL.GLU.quadrics', 'OpenGL.GLU.projection', 'OpenGL.GLU.glustruct', 'OpenGL.GLU.tess', 'OpenGL.GLU.glunurbs', 'OpenGL.GLU', 'OpenGL.GLU.EXT', 'OpenGL.raw.GLUT.constants', 'OpenGL.raw.GLUT', 'OpenGL.GLUT.special', 'OpenGL.GLUT.fonts', 'OpenGL.GLUT.freeglut', 'OpenGL.GLUT.osx', 'OpenGL.GLUT', 'OpenGL.raw.GLX', 'OpenGL.raw.GLX._types', 'OpenGL.GLX.VERSION', 'OpenGL.raw.GLX._glgets', 'OpenGL.raw.GLX.VERSION', 'OpenGL.raw.GLX._errors', 'OpenGL.raw.GLX.VERSION.GLX_1_0', 'OpenGL.GLX.VERSION.GLX_1_0', 'OpenGL.raw.GLX.VERSION.GLX_1_1', 'OpenGL.GLX.VERSION.GLX_1_1', 'OpenGL.raw.GLX.VERSION.GLX_1_2', 'OpenGL.GLX.VERSION.GLX_1_2', 'OpenGL.raw.GLX.VERSION.GLX_1_3', 'OpenGL.GLX.VERSION.GLX_1_3', 'OpenGL.raw.GLX.VERSION.GLX_1_4', 'OpenGL.GLX.VERSION.GLX_1_4', 'OpenGL.GLX', 'OpenGL.GLX.AMD', 'OpenGL.GLX.ARB', 'OpenGL.GLX.DFX', 'OpenGL.GLX.EXT', 'OpenGL.GLX.INTEL', 'OpenGL.GLX.MESA', 'OpenGL.GLX.NV', 'OpenGL.GLX.OML', 'OpenGL.GLX.SGI', 'OpenGL.GLX.SGIS', 'OpenGL.GLX.SGIX', 'OpenGL.GLX.SUN', 'tkinter.dialog', 'OpenGL.raw.WGL', 'OpenGL.raw.WGL.VERSION', 'OpenGL.raw.WGL._types', 'OpenGL.raw.WGL._errors', 'OpenGL.raw.osmesa', 'OpenGL.raw.osmesa._types', 'OpenGL.raw.EGL.ANDROID', 'OpenGL.raw.EGL.ANGLE', 'OpenGL.raw.EGL.ARM', 'OpenGL.raw.EGL.HI', 'OpenGL.raw.EGL.IMG', 'OpenGL.raw.EGL.KHR', 'OpenGL.raw.EGL.MESA', 'OpenGL.raw.EGL.NOK', 'OpenGL.raw.EGL.NV', 'OpenGL.raw.EGL.TIZEN', 'OpenGL.raw.GL.AMD', 'OpenGL.raw.GL.ANGLE', 'OpenGL.raw.GL.APPLE', 'OpenGL.raw.GL.ARM', 'OpenGL.raw.GL.ATI', 'OpenGL.raw.GL.DFX', 'OpenGL.raw.GL.DMP', 'OpenGL.raw.GL.EXT', 'OpenGL.raw.GL.FJ', 'OpenGL.raw.GL.GREMEDY', 'OpenGL.raw.GL.HP', 'OpenGL.raw.GL.IBM', 'OpenGL.raw.GL.IMG', 'OpenGL.raw.GL.INGR', 'OpenGL.raw.GL.INTEL', 'OpenGL.raw.GL.MESA', 'OpenGL.raw.GL.MESAX', 'OpenGL.raw.GL.NV', 'OpenGL.raw.GL.NVX', 'OpenGL.raw.GL.OES', 'OpenGL.raw.GL.OML', 'OpenGL.raw.GL.OVR', 'OpenGL.raw.GL.PGI', 'OpenGL.raw.GL.QCOM', 'OpenGL.raw.GL.REND', 'OpenGL.raw.GL.S3', 'OpenGL.raw.GL.SGI', 'OpenGL.raw.GL.SGIS', 'OpenGL.raw.GL.SGIX', 'OpenGL.raw.GL.SUN', 'OpenGL.raw.GL.SUNX', 'OpenGL.raw.GL.VIV', 'OpenGL.raw.GL.WIN', 'OpenGL.raw.GLES1.AMD', 'OpenGL.raw.GLES1.APPLE', 'OpenGL.raw.GLES1.ARM', 'OpenGL.raw.GLES1.EXT', 'OpenGL.raw.GLES1.IMG', 'OpenGL.raw.GLES1.KHR', 'OpenGL.raw.GLES1.NV', 'OpenGL.raw.GLES1.OES', 'OpenGL.raw.GLES1.QCOM', 'OpenGL.raw.GLES2.AMD', 'OpenGL.raw.GLES2.ANDROID', 'OpenGL.raw.GLES2.ANGLE', 'OpenGL.raw.GLES2.APPLE', 'OpenGL.raw.GLES2.ARM', 'OpenGL.raw.GLES2.DMP', 'OpenGL.raw.GLES2.ES', 'OpenGL.raw.GLES2.EXT', 'OpenGL.raw.GLES2.FJ', 'OpenGL.raw.GLES2.IMG', 'OpenGL.raw.GLES2.INTEL', 'OpenGL.raw.GLES2.KHR', 'OpenGL.raw.GLES2.MESA', 'OpenGL.raw.GLES2.NV', 'OpenGL.raw.GLES2.NVX', 'OpenGL.raw.GLES2.OVR', 'OpenGL.raw.GLES2.QCOM', 'OpenGL.raw.GLES2.VIV', 'OpenGL.raw.GLX.AMD', 'OpenGL.raw.GLX.ARB', 'OpenGL.raw.GLX.DFX', 'OpenGL.raw.GLX.EXT', 'OpenGL.raw.GLX.INTEL', 'OpenGL.raw.GLX.MESA', 'OpenGL.raw.GLX.NV', 'OpenGL.raw.GLX.OML', 'OpenGL.raw.GLX.SGI', 'OpenGL.raw.GLX.SGIS', 'OpenGL.raw.GLX.SGIX', 'OpenGL.raw.GLX.SUN', 'OpenGL.raw.WGL.AMD', 'OpenGL.raw.WGL.ARB', 'OpenGL.raw.WGL.ATI', 'OpenGL.raw.WGL.DFX', 'OpenGL.raw.WGL.DL', 'OpenGL.raw.WGL.EXT', 'OpenGL.raw.WGL.I3D', 'OpenGL.raw.WGL.NV', 'OpenGL.raw.WGL.OML', 'OpenSSL._util', 'OpenSSL.crypto', 'OpenSSL.SSL', 'OpenSSL.version', 'OpenSSL', '_ffi.lib', '_ffi', '_argon2_cffi_bindings._ffi', '_argon2_cffi_bindings', '_multiprocessing', '_multiprocess', '_plotly_future_', '_plotly_utils', '_plotly_utils.exceptions', '_plotly_utils.colors._swatches', '_plotly_utils.colors.colorbrewer', '_plotly_utils.colors.carto', '_plotly_utils.colors.qualitative', '_plotly_utils.colors.plotlyjs', '_plotly_utils.colors.cmocean', '_plotly_utils.colors.sequential', '_plotly_utils.colors.diverging', '_plotly_utils.colors.cyclical', '_plotly_utils.colors', '_pytest._version', '_pytest', 'pluggy._result', 'pluggy._hooks', 'pluggy._tracing', 'pluggy._warnings', 'pluggy._callers', 'pluggy._manager', 'pluggy._version', 'pluggy', '_pytest._code.source', '_pytest._py', '_pytest._py.error', '_pytest._py.path', 'py.error', 'py.path', 'py', '_pytest.compat', '_pytest._io.wcwidth', '_pytest._io.terminalwriter', '_pytest._io', '_pytest._io.saferepr', '_pytest.warning_types', '_pytest.deprecated', '_pytest.outcomes', '_pytest.pathlib', '_pytest._code.code', '_pytest._code', '_pytest._io.pprint', '_pytest.config.compat', '_pytest.config.exceptions', 'iniconfig.exceptions', 'iniconfig._parse', 'iniconfig', '_pytest.config.findpaths', '_pytest.config.argparsing', '_pytest.hookspec', '_pytest.stash', '_pytest.config', '_pytest.assertion.util', '_pytest.mark.expression', '_pytest.scope', '_pytest.mark.structures', '_pytest.mark', '_pytest.nodes', '_pytest.reports', '_pytest.timing', '_pytest.runner', '_pytest.main', '_pytest.assertion.rewrite', '_pytest.assertion.truncate', '_pytest.assertion', '_soundfile_data', 'yaml.error', 'yaml.tokens', 'yaml.events', 'yaml.nodes', 'yaml.reader', 'yaml.scanner', 'yaml.parser', 'yaml.composer', 'yaml.constructor', 'yaml.resolver', 'yaml.loader', 'yaml.emitter', 'yaml.serializer', 'yaml.representer', 'yaml.dumper', 'yaml._yaml', 'yaml.cyaml', 'yaml', '_yaml', 'absl', 'absl.flags._helpers', 'absl.flags._argument_parser', 'absl.flags._exceptions', 'absl.flags._flag', 'absl.flags._validators_classes', 'absl.flags._flagvalues', 'absl.flags._validators', 'absl.flags._defines', 'absl.flags', 'absl.logging.converter', 'absl.logging', 'absl.testing', 'torch._utils', 'torch._strobelight', 'torch._strobelight.cli_function_profiler', 'torch._strobelight.compile_time_profiler', 'torch._utils_internal', 'torch._vendor', 'torch._vendor.packaging', 'torch._vendor.packaging._structures', 'torch._vendor.packaging.version', 'torch.version', 'torch.torch_version', 'torch._C._onnx', 'torch._C._jit', 'torch._C._jit_tree_views', 'torch._C._te', 'torch._C._monitor', 'torch._C._functorch', 'torch._C._profiler', 'torch._C.cpp', 'torch._C.cpp.nn', 'torch._C._lazy', 'torch._C._lazy_ts_backend', 'torch._C._export', 'torch._C._aoti', 'torch._C._itt', 'torch._C._cudart', 'torch._C._nvtx', 'torch._C._cudnn', 'torch._C._cusparselt', 'torch._C._cpu', 'torch._C._instruction_counter', 'torch._C._verbose', 'torch._C', 'torch._C._dynamo', 'torch._C._dynamo.autograd_compiler', 'torch._C._dynamo.eval_frame', 'torch._C._dynamo.guards', 'torch._C._dynamo.utils', 'torch._C._fft', 'torch._C._linalg', 'torch._C._nested', 'torch._C._nn', 'torch._C._return_types', 'torch._C._sparse', 'torch._C._special', 'torch._namedtensor_internals', 'torch.overrides', 'torch._tensor', 'torch.types', 'torch.storage', 'torch.amp.autocast_mode', 'torch.amp.grad_scaler', 'torch.amp', 'torch.random', 'tarfile', 'torch._weights_only_unpickler', 'torch._sources', 'mmap', 'torch.serialization', 'torch._tensor_str', 'torch.cuda.gds', 'torch.cuda._utils', 'torch.cuda.graphs', 'torch.cuda.streams', 'pynvml', 'torch.cuda._memory_viz', 'torch.cuda.memory', 'torch.cuda.random', 'torch.cuda.amp.autocast_mode', 'torch.cuda.amp.common', 'torch.cuda.amp.grad_scaler', 'torch.cuda.amp', 'torch.cuda.jiterator', 'torch.cuda.nvtx', 'torch.cuda.profiler', 'torch.cuda.sparse', 'torch.cuda.tunable', 'torch.cuda', 'torch.sparse._semi_structured_conversions', 'torch.sparse._semi_structured_ops', 'torch.sparse.semi_structured', 'torch.sparse', 'torch._compile', 'torch._VF', 'torch.nn.parameter', 'torch._prims_common', 'torch.utils.backcompat', 'torch.utils.collect_env', 'torch._C._distributed_c10d', 'torch.utils._typing_utils', 'torch.monitor', 'torch.distributed.logging_handlers', 'torch.distributed.c10d_logger', 'torch.distributed.constants', 'torch.distributed.rendezvous', 'torch.distributed.distributed_c10d', 'torch.distributed.device_mesh', 'torch.distributed.remote_device', 'torch.distributed', 'torch.utils.data.datapipes._hook_iterator', 'torch.utils.data.datapipes._typing', 'torch.utils._import_utils', 'torch.utils.data.datapipes.utils', 'torch.utils.data.datapipes.utils.common', 'torch.utils.data.dataset', 'dill.__info__', 'dill.logger', '_pyio', 'dill._shims', 'dill.settings', 'dill._dill', 'dill.session', 'dill.pointers', 'dill.detect', 'dill.source', 'dill.temp', 'dill.objtypes', 'dill', 'torch.utils.data.datapipes.datapipe', 'torch.utils.data.datapipes._decorator', 'torch.utils.data.datapipes.dataframe.dataframe_wrapper', 'torch.utils.data.datapipes.dataframe.structures', 'torch.utils.data.datapipes.dataframe.dataframes', 'torch.utils.data.datapipes.dataframe.datapipes', 'torch.utils.data.datapipes.dataframe', 'torch.utils.data._utils.collate', 'torch.utils.data._utils.fetch', 'torch.utils.data._utils.pin_memory', 'torch.utils.data._utils.signal_handling', 'torch.utils.data._utils.worker', 'torch.utils.data._utils', 'torch.utils.data.datapipes.iter.callable', 'torch.utils.data.sampler', 'torch.utils.data.datapipes.iter.combinatorics', 'torch.utils.data.datapipes.iter.combining', 'torch.utils.data.datapipes.iter.utils', 'torch.utils.data.datapipes.iter.filelister', 'torch.utils.data.datapipes.iter.fileopener', 'torch.utils.data.datapipes.iter.sharding', 'torch.utils.data.datapipes.iter.grouping', 'torch.utils.data.datapipes.utils.decoder', 'torch.utils.data.datapipes.iter.routeddecoder', 'torch.utils.data.datapipes.iter.selecting', 'torch.utils.data.datapipes.iter.streamreader', 'torch.utils.data.datapipes.iter', 'torch.utils.data.datapipes.map.callable', 'torch.utils.data.datapipes.map.combinatorics', 'torch.utils.data.datapipes.map.combining', 'torch.utils.data.datapipes.map.grouping', 'torch.utils.data.datapipes.map.utils', 'torch.utils.data.datapipes.map', 'torch.utils.data.datapipes', 'torch.utils.data.graph', 'torch.utils.data.graph_settings', 'torch.utils.data.dataloader', 'torch.utils.data.distributed', 'torch.utils.data', 'torch.utils.deterministic', 'torch.utils.hooks', 'torch.utils.backend_registration', 'torch.utils.cpp_backtrace', 'torch.utils.throughput_benchmark', 'torch.utils', 'torchgen', 'torchgen.code_template', 'torchgen.utils', 'torchgen.model', 'torch.utils._python_dispatch', 'torch.nn.modules.module', 'torch._C._distributed_rpc', 'torch._C._distributed_autograd', 'torch.distributed.autograd', 'torch.futures', 'torch.distributed.rpc._utils', 'torch.distributed.rpc.constants', 'torch.distributed.rpc.internal', 'torch.distributed.rpc.api', 'torch.distributed.rpc.backend_registry', 'torch.distributed.rpc.functions', 'torch.distributed.rpc.options', 'torch.utils._pytree', 'torch._vmap_internals', 'torch.utils._contextlib', 'torch.autograd.grad_mode', 'torch.autograd.forward_ad', 'torch.autograd.functional', 'torch.autograd.variable', 'torch.autograd.graph', 'torch.autograd.anomaly_mode', 'torch._functorch', 'torch.utils._exposed_in', 'torch._functorch.utils', 'torch._functorch.vmap', 'torch._functorch.apis', 'torch._functorch.pyfunctorch', 'torch._ops', 'torch._functorch.autograd_function', 'torch.autograd.function', 'torch.testing._utils', 'cmath', 'torch.testing._comparison', 'torch.testing._creation', 'torch.testing', 'torch.autograd.gradcheck', 'torch._C._autograd', 'torch.autograd.profiler_util', 'torch.autograd.profiler', 'torch.autograd', 'torch.autograd.profiler_legacy', 'torch.distributed.rpc.server_process_global_profiler', 'torch.distributed.rpc', 'pickletools', 'torch.package._digraph', 'torch.package._importlib', 'torch.package._mangling', 'torch.package.importer', 'torch.package._package_pickler', 'torch.package._stdlib', 'torch.package.find_file_dependencies', 'torch.package.glob_group', 'torch.package.package_exporter', 'torch.package.analyze.find_first_use_of_broken_modules', 'torch.package.analyze.trace_dependencies', 'torch.package.analyze', 'torch.package.analyze.is_from_package', 'torch.package.file_structure_representation', 'torch.package._directory_reader', 'torch.package._package_unpickler', 'torch.package.package_importer', 'torch.package', 'torch._awaits', 'torch._jit_internal', 'torch._torch_docs', 'torch.nn._reduction', 'torch.nn.modules.utils', 'torch.nn.grad', 'torch.nn.functional', 'torch.nn.init', 'torch.nn.modules.lazy', 'torch.nn.modules.linear', 'torch.nn.modules.activation', 'torch.nn.modules.container', 'torch.nn.modules.adaptive', 'torch.nn.modules._functions', 'torch.nn.modules.batchnorm', 'torch.nn.modules.channelshuffle', 'torch.nn.common_types', 'torch.nn.modules.conv', 'torch.nn.modules.distance', 'torch.nn.modules.dropout', 'torch.nn.modules.flatten', 'torch.nn.modules.fold', 'torch.nn.modules.instancenorm', 'torch.nn.modules.loss', 'torch.nn.modules.normalization', 'torch.nn.modules.padding', 'torch.nn.modules.pixelshuffle', 'torch.nn.modules.pooling', 'torch.__future__', 'torch.nn.utils.parametrize', 'torch.nn.utils.parametrizations', 'torch.nn.utils.rnn', 'torch.nn.utils._named_member_accessor', 'torch.nn.utils.stateless', 'torch.utils._foreach_utils', 'torch.nn.utils.clip_grad', 'torch.nn.utils.convert_parameters', 'torch.nn.utils.fusion', 'torch.nn.utils.init', 'torch.nn.utils.memory_format', 'torch.nn.utils.spectral_norm', 'torch.nn.utils.weight_norm', 'torch.nn.utils', 'torch.nn.modules.rnn', 'torch.nn.modules.sparse', 'torch.nn.modules.transformer', 'torch.nn.modules.upsampling', 'torch.nn.modules', 'torch.backends.cpu', 'torch.backends.cuda', 'torch.backends.cudnn', 'torch.backends.cusparselt', 'torch.backends.mha', 'torch.backends.mkl', 'torch.backends.mkldnn', 'torch._library.utils', 'torch._library.autograd', 'torch._library.fake_impl', 'torch._library.simple_registry', 'torch._library.fake_class_registry', 'torch._library.custom_ops', 'torch._library.infer_schema', 'torch._library.triton', 'torch._library', 'torch.library', 'torch.backends.mps', 'torch.backends.nnpack', 'torch.backends.openmp', 'torch.backends.quantized', 'torch.backends', 'torch.nn.attention', 'torch.nn.parallel.parallel_apply', 'torch.cuda.nccl', 'torch.nn.parallel.comm', 'torch.nn.parallel.replicate', 'torch.nn.parallel._functions', 'torch.nn.parallel.scatter_gather', 'torch.nn.parallel.data_parallel', 'torch.distributed.algorithms.join', 'torch.distributed.algorithms', 'torch.distributed.utils', 'torch.nn.parallel.distributed', 'torch.nn.parallel', 'torch.nn', 'torch._linalg_utils', 'torch._lowrank', 'torch.functional', 'torch.__config__', 'torch.accelerator._utils', 'torch.accelerator', 'torch.cpu.amp.autocast_mode', 'torch.cpu.amp.grad_scaler', 'torch.cpu.amp', 'torch.cpu', 'torch.distributions.constraints', 'torch.distributions.utils', 'torch.distributions.transforms', 'torch.distributions.distribution', 'torch.distributions.exp_family', 'torch.distributions.bernoulli', 'torch.distributions.dirichlet', 'torch.distributions.beta', 'torch.distributions.binomial', 'torch.distributions.categorical', 'torch.distributions.cauchy', 'torch.distributions.gamma', 'torch.distributions.chi2', 'torch.distributions.constraint_registry', 'torch.distributions.continuous_bernoulli', 'torch.distributions.exponential', 'torch.distributions.fishersnedecor', 'torch.distributions.geometric', 'torch.distributions.independent', 'torch.distributions.transformed_distribution', 'torch.distributions.uniform', 'torch.distributions.gumbel', 'torch.distributions.half_cauchy', 'torch.distributions.normal', 'torch.distributions.half_normal', 'torch.distributions.inverse_gamma', 'torch.distributions.laplace', 'torch.distributions.multivariate_normal', 'torch.distributions.lowrank_multivariate_normal', 'torch.distributions.one_hot_categorical', 'torch.distributions.pareto', 'torch.distributions.poisson', 'torch.distributions.kl', 'torch.distributions.kumaraswamy', 'torch.distributions.lkj_cholesky', 'torch.distributions.log_normal', 'torch.distributions.logistic_normal', 'torch.distributions.mixture_same_family', 'torch.distributions.multinomial', 'torch.distributions.negative_binomial', 'torch.distributions.relaxed_bernoulli', 'torch.distributions.relaxed_categorical', 'torch.distributions.studentT', 'torch.jit._builtins', 'torch.jit._async', 'torch.jit._await', 'torch.jit._decomposition_utils', 'torch._classes', 'torch.jit._fuser', 'torch.jit._monkeytype_config', 'torch.jit._check', 'torch.jit._state', 'torch.jit.annotations', 'torch.jit._dataclass_impls', 'astunparse.unparser', 'astunparse.printer', 'astunparse', 'torch.jit.frontend', 'torch.jit._recursive', 'torch.jit._serialization', 'torch.jit._script', 'torch.jit._freeze', 'torch.jit._ir_utils', 'torch.jit._trace', 'torch.jit', 'torch.distributions.von_mises', 'torch.distributions.weibull', 'torch.distributions.wishart', 'torch.distributions', 'torch.fft', 'tqdm._monitor', 'tqdm._tqdm_pandas', 'tqdm.utils', 'tqdm.std', 'tqdm._dist_ver', 'tqdm.version', 'tqdm.cli', 'tqdm.gui', 'tqdm', 'torch.hub', 'torch.linalg', 'torch.mps.profiler', 'torch.mps.event', 'torch.mps', 'torch.mtia._utils', 'torch.mtia.memory', 'torch.mtia', 'multiprocessing.util', 'multiprocessing.resource_sharer', 'torch.multiprocessing.reductions', 'multiprocessing.connection', 'torch.multiprocessing.spawn', 'torch.multiprocessing', 'torch.nested._internal', 'torch.fx._compatibility', 'torch.return_types', 'torch.fx._pytree', 'torch.fx.operator_schemas', 'torch.fx.immutable_collections', 'torch.fx.node', 'torch.fx.graph', 'torch.fx.graph_module', 'torch.fx._lazy_graph_module', 'torch.fx.traceback', 'torch.utils._traceback', 'torch.fx.proxy', 'torch.fx._symbolic_trace', 'torch.fx.config', 'torch.fx.interpreter', 'torch.fx.subgraph_rewriter', 'torch.fx', 'torch.fx.experimental', 'torch.fx.experimental._constant_symnode', 'torch.nested._internal.nested_int', 'torch.utils.weak', 'torch.nested._internal.nested_tensor', 'torch.nested', 'torch.optim.optimizer', 'torch.optim.lr_scheduler', 'torch.optim.swa_utils', 'torch.optim._adafactor', 'torch.optim.adadelta', 'torch.optim.adagrad', 'torch.optim.adam', 'torch.optim.adamax', 'torch.optim.adamw', 'torch.optim.asgd', 'torch.optim.lbfgs', 'torch.optim.nadam', 'torch.optim.radam', 'torch.optim.rmsprop', 'torch.optim.rprop', 'torch.optim.sgd', 'torch.optim._functional', 'torch.optim.sparse_adam', 'torch.optim', 'torch.profiler._utils', 'torch.profiler._memory_profiler', 'torch.profiler.profiler', 'torch.profiler.itt', 'torch.profiler', 'torch.special', 'torch.xpu._utils', 'torch.xpu.streams', 'torch.xpu.memory', 'torch.xpu.random', 'torch.xpu', 'torch.signal.windows.windows', 'torch.signal.windows', 'torch.signal', 'torch.ao', 'torch.ao.nn', 'torch.ao.nn.intrinsic.modules.fused', 'torch.ao.nn.intrinsic.modules', 'torch.ao.nn.intrinsic', 'torch.nn.intrinsic.modules.fused', 'torch.nn.intrinsic.modules', 'torch.ao.nn.qat.modules.conv', 'torch.ao.nn.qat.modules.embedding_ops', 'torch.ao.nn.qat.modules.linear', 'torch.ao.nn.qat.modules', 'torch.ao.nn.qat', 'torch.ao.nn.intrinsic.qat.modules.conv_fused', 'torch.ao.nn.intrinsic.qat.modules.linear_fused', 'torch.ao.nn.intrinsic.qat.modules.linear_relu', 'torch.ao.nn.intrinsic.qat.modules', 'torch.ao.nn.intrinsic.qat', 'torch.nn.intrinsic.qat.modules.conv_fused', 'torch.nn.intrinsic.qat.modules.linear_fused', 'torch.nn.intrinsic.qat.modules.linear_relu', 'torch.nn.intrinsic.qat.modules', 'torch.nn.intrinsic.qat', 'torch.ao.nn.quantizable.modules.activation', 'torch.ao.nn.quantizable.modules.rnn', 'torch.ao.nn.quantizable.modules', 'torch.ao.nn.quantizable', 'torch.ao.nn.quantized.modules.activation', 'torch.ao.nn.quantized.modules.batchnorm', 'torch.ao.nn.quantized.modules.utils', 'torch.ao.nn.quantized.modules.conv', 'torch.ao.nn.quantized.modules.dropout', 'torch.ao.nn.quantized.modules.embedding_ops', 'torch.ao.nn.quantized.modules.functional_modules', 'torch.ao.nn.quantized.modules.linear', 'torch.ao.nn.quantized.modules.normalization', 'torch.ao.nn.quantized.modules.rnn', 'torch.ao.nn.quantized.modules', 'torch.ao.nn.quantized.functional', 'torch.ao.nn.quantized', 'torch.ao.nn.intrinsic.quantized.modules.bn_relu', 'torch.ao.nn.intrinsic.quantized.modules.conv_add', 'torch.ao.nn.intrinsic.quantized.modules.conv_relu', 'torch.ao.nn.intrinsic.quantized.modules.linear_relu', 'torch.ao.nn.intrinsic.quantized.modules', 'torch.ao.nn.intrinsic.quantized', 'torch.ao.nn.quantized.dynamic.modules.conv', 'torch.ao.nn.quantized.dynamic.modules.linear', 'torch.ao.nn.quantized.dynamic.modules.rnn', 'torch.ao.nn.quantized.dynamic.modules', 'torch.ao.nn.quantized.dynamic', 'torch.ao.nn.intrinsic.quantized.dynamic.modules.linear_relu', 'torch.ao.nn.intrinsic.quantized.dynamic.modules', 'torch.ao.nn.intrinsic.quantized.dynamic', 'torch.nn.intrinsic.quantized.dynamic.modules.linear_relu', 'torch.nn.intrinsic.quantized.dynamic.modules', 'torch.nn.intrinsic.quantized.dynamic', 'torch.nn.intrinsic.quantized.modules.bn_relu', 'torch.nn.intrinsic.quantized.modules.conv_relu', 'torch.nn.intrinsic.quantized.modules.linear_relu', 'torch.nn.intrinsic.quantized.modules', 'torch.nn.intrinsic.quantized', 'torch.nn.intrinsic', 'torch.ao.nn.qat.dynamic.modules.linear', 'torch.ao.nn.qat.dynamic.modules', 'torch.ao.nn.qat.dynamic', 'torch.nn.qat.dynamic.modules.linear', 'torch.nn.qat.dynamic.modules', 'torch.nn.qat.dynamic', 'torch.nn.qat.modules.conv', 'torch.nn.qat.modules.embedding_ops', 'torch.nn.qat.modules.linear', 'torch.nn.qat.modules', 'torch.nn.qat', 'torch.nn.quantizable.modules', 'torch.nn.quantizable', 'torch.nn.quantized.dynamic', 'torch.nn.quantized.functional', 'torch.nn.quantized.modules', 'torch.nn.quantized', 'torch._size_docs', 'torch._storage_docs', 'torch._tensor_docs', 'torch.ops', 'torch.classes', 'torch.ao.quantization.quant_type', 'torch.ao.quantization.utils', 'torch.ao.quantization.observer', 'torch.ao.quantization.fake_quantize', 'torch.ao.quantization.fuser_method_mappings', 'torch.ao.quantization.fuse_modules', 'torch.ao.quantization.pt2e', 'torch.ao.ns', 'torch.ao.ns.fx', 'torch.ao.ns.fx.ns_types', 'torch.ao.ns.fx.utils', 'torch._dispatch', 'unittest.mock', 'torch._dispatch.python', 'torch._guards', 'torch._logging.structured', 'torch._logging._internal', 'torch._logging._registrations', 'torch._logging', 'torch.utils._mode_utils', 'torch._subclasses.meta_utils', 'torch.utils._backport_slots', 'torch.utils._stats', 'torch.fx.experimental.sym_node', 'torch._subclasses._fake_tensor_utils', 'torch._custom_op', 'torch._subclasses.fake_impls', 'torch._subclasses.fake_tensor', 'torch._subclasses.fake_utils', 'torch._subclasses', 'torch.fx.passes.shape_prop', 'pydot.dot_parser', 'pydot._vendor', 'pydot._vendor.tempfile', 'pydot.core', 'pydot.exceptions', 'pydot', 'torch.fx.passes.graph_drawer', 'torch.fx.passes.graph_manipulation', 'torch.fx.passes.utils.matcher_utils', 'torch.fx.passes.utils.common', 'torch.fx.passes.utils', 'torch.fx.passes.tools_common', 'torch.fx.passes.split_utils', 'torch.fx.passes.net_min_base', 'torch.fx.passes.operator_support', 'torch.fx.passes.param_fetch', 'torch.fx.passes.reinplace', 'torch.fx._utils', 'torch.utils._thunk', 'torch.fx.experimental._backward_state', 'torch.fx.experimental.proxy_tensor', 'torch.fx.passes.runtime_assert', 'torch.fx.passes.split_module', 'torch.fx.passes.splitter_base', 'torch.fx.passes', 'torch.fx.passes.utils.source_matcher_utils', 'torch.ao.quantization.pt2e.graph_utils', 'torch.fx.passes.infra.pass_base', 'torch.fx.passes.infra.pass_manager', 'torch.fx.passes.infra', 'torch.export._tree_utils', 'torch.export.graph_signature', 'torch._custom_op.autograd', 'torch._custom_op.impl', 'torch._custom_ops', 'torch._subclasses.functional_tensor', 'torch._higher_order_ops.utils', 'torch._higher_order_ops.cond', 'torch._higher_order_ops.flex_attention', 'torch._higher_order_ops.hints_wrap', 'torch._higher_order_ops.invoke_subgraph', 'torch._higher_order_ops.prim_hop_base', 'torch._higher_order_ops.scan', 'torch._higher_order_ops.while_loop', 'torch._higher_order_ops', 'torch._higher_order_ops.strict_mode', 'torch._export.wrappers', 'torch._export.utils', 'torch._export', 'torch.export.decomp_utils', 'torch._export.verifier', 'torch.export.exported_program', 'torch.export.dynamic_shapes', 'torch._functorch._aot_autograd', 'torch._functorch._aot_autograd.utils', 'torch._higher_order_ops.torchbind', 'torch._higher_order_ops.effects', 'torch.export._remove_effect_tokens_pass', 'torch.export.unflatten', 'torch.export', 'torch.ao.quantization.pt2e._numeric_debugger', 'torch.ao.quantization.pt2e.export_utils', 'torch.ao.quantization.qconfig', 'torch.ao.quantization.qconfig_mapping', 'torch.ao.nn.quantized.reference.modules.utils', 'torch.ao.nn.quantized.reference.modules.conv', 'torch.ao.nn.quantized.reference.modules.linear', 'torch.ao.nn.quantized.reference.modules.rnn', 'torch.ao.nn.quantized.reference.modules.sparse', 'torch.ao.nn.quantized.reference.modules', 'torch.ao.nn.quantized.reference', 'torch.ao.nn.sparse.quantized.linear', 'torch.ao.nn.sparse.quantized.utils', 'torch.ao.nn.sparse.quantized.dynamic.linear', 'torch.ao.nn.sparse.quantized.dynamic', 'torch.ao.nn.sparse.quantized', 'torch.ao.nn.sparse', 'torch.ao.quantization.stubs', 'torch.ao.quantization.quantization_mappings', 'torch.ao.quantization.quantize', 'torch.ao.quantization.quantize_jit', 'torch.ao.quantization', 'torch.quantization.fake_quantize', 'torch.quantization.fuse_modules', 'torch.quantization.fuser_method_mappings', 'torch.quantization.observer', 'torch.quantization.qconfig', 'torch.quantization.quant_type', 'torch.quantization.quantization_mappings', 'torch.quantization.quantize', 'torch.quantization.quantize_jit', 'torch.quantization.stubs', 'torch.quantization', 'torch.quasirandom', 'torch.multiprocessing._atfork', 'torch._lobpcg', 'torch.masked._docs', 'torch.masked.maskedtensor.core', 'torch.masked.maskedtensor.binary', 'torch.masked.maskedtensor.passthrough', 'torch.masked.maskedtensor.creation', 'torch.masked.maskedtensor.reductions', 'torch.masked.maskedtensor.unary', 'torch.masked.maskedtensor', 'torch.masked._ops', 'torch.masked', 'torch.utils.dlpack', 'torch.fx.experimental.const_fold', 'torch._functorch.eager_transforms', 'torch._functorch.functional_call', 'torch._functorch.batch_norm_replacement', 'torch.func', 'torch.utils._content_store', 'torch._prims.debug_prims', 'torch._prims.rng_prims', 'torch._prims_common.wrappers', 'torch._prims', 'torch._higher_order_ops.out_dtype', 'torch._decomp.decompositions', 'torch._refs._conversions', 'torch._refs.fft', 'torch._refs.linalg', 'torch._refs.nn', 'torch._refs.nn.functional', 'torch._refs.special', 'torch._refs', 'torch._decomp', 'torch._meta_registrations', 'torch.compiler', 'torch', 'huggingface_hub', 'huggingface_hub.errors', 'tqdm.notebook', 'tqdm.autonotebook', 'tqdm.asyncio', 'tqdm.auto', 'huggingface_hub.constants', 'huggingface_hub.utils.tqdm', 'huggingface_hub.utils._runtime', 'huggingface_hub.utils._auth', 'huggingface_hub.utils._cache_assets', 'huggingface_hub.commands', 'huggingface_hub.commands._cli_utils', 'huggingface_hub.utils.logging', 'huggingface_hub.utils._cache_manager', 'huggingface_hub.utils._chunk_utils', 'huggingface_hub.utils._datetime', 'huggingface_hub.utils._experimental', 'filelock._error', 'filelock._api', 'filelock._util', 'filelock._soft', 'filelock._unix', 'filelock._windows', 'filelock.asyncio', 'filelock.version', 'filelock', 'huggingface_hub.utils._fixes', 'huggingface_hub.utils._subprocess', 'huggingface_hub.utils._git_credential', 'huggingface_hub.utils._deprecation', 'huggingface_hub.utils._typing', 'huggingface_hub.utils._validators', 'huggingface_hub.utils._headers', 'huggingface_hub.utils._hf_folder', 'huggingface_hub.utils._lfs', 'huggingface_hub.utils._http', 'huggingface_hub.utils._pagination', 'huggingface_hub.utils._paths', 'huggingface_hub.utils._safetensors', 'huggingface_hub.utils._telemetry', 'huggingface_hub.utils._xet', 'huggingface_hub.utils', 'huggingface_hub.serialization._base', 'huggingface_hub.serialization._tensorflow', 'huggingface_hub.serialization._torch', 'huggingface_hub.serialization', 'safetensors._safetensors_rust', 'safetensors', 'safetensors.torch', 'accelerate.utils.environment', 'accelerate.utils.constants', 'accelerate.utils.versions', 'accelerate.utils.imports', 'accelerate.utils.ao', 'accelerate.utils.dataclasses', 'accelerate.state', 'accelerate.utils.memory', 'accelerate.utils.offload', 'accelerate.utils.tqdm', 'accelerate.utils.modeling', 'accelerate.utils.operations', 'accelerate.commands', 'accelerate.commands.config.config_args', 'accelerate.commands.menu.cursor', 'accelerate.commands.menu.keymap', 'accelerate.commands.menu.input', 'accelerate.commands.menu.helpers', 'accelerate.commands.menu.selection_menu', 'accelerate.commands.menu', 'accelerate.commands.config.config_utils', 'accelerate.commands.config.cluster', 'accelerate.commands.config.sagemaker', 'accelerate.commands.config.config', 'accelerate.commands.config.default', 'accelerate.commands.config.update', 'accelerate.commands.config', 'accelerate.logging', 'accelerate.utils.transformer_engine', 'accelerate.utils.other', 'accelerate.hooks', 'accelerate.big_modeling', 'accelerate.utils.bnb', 'accelerate.utils.fsdp_utils', 'accelerate.utils.launch', 'accelerate.optimizer', 'accelerate.scheduler', 'accelerate.utils.megatron_lm', 'accelerate.utils.random', 'accelerate.utils.torch_xla', 'accelerate.utils', 'accelerate.checkpointing', 'accelerate.data_loader', 'accelerate.tracking', 'accelerate.accelerator', 'accelerate.inference', 'accelerate.launchers', 'accelerate', 'accelerate.test_utils.testing', 'accelerate.test_utils.training', 'accelerate.test_utils.scripts', 'accelerate.test_utils.scripts.test_script', 'accelerate.test_utils.scripts.test_sync', 'accelerate.test_utils.scripts.test_ops', 'accelerate.test_utils', 'accelerate.test_utils.scripts.external_deps', 'aiofiles.base', 'aiofiles.threadpool.utils', 'aiofiles.threadpool.binary', 'aiofiles.threadpool.text', 'aiofiles.threadpool', 'aiofiles.tempfile.temptypes', 'aiofiles.tempfile', 'aiofiles', 'alabaster', 'numpy.core._utils', 'numpy.core', 'numpy.core.multiarray', 'cv2.load_config_py3', 'cv2.version', 'cv2.gapi.core', 'cv2.gapi.core.cpu', 'cv2.gapi.core.fluid', 'cv2.gapi.core.ocl', 'cv2.gapi.ie', 'cv2.gapi.ie.detail', 'cv2.gapi.imgproc', 'cv2.gapi.imgproc.fluid', 'cv2.gapi.oak', 'cv2.gapi.onnx', 'cv2.gapi.onnx.ep', 'cv2.gapi.ot', 'cv2.gapi.ot.cpu', 'cv2.gapi.ov', 'cv2.gapi.own', 'cv2.gapi.own.detail', 'cv2.gapi.render', 'cv2.gapi.render.ocv', 'cv2.gapi.streaming', 'cv2.gapi.video', 'cv2.gapi.wip', 'cv2.gapi.wip.draw', 'cv2.gapi.wip.gst', 'cv2.gapi.wip.onevpl', 'cv2.utils.fs', 'cv2.utils.nested', 'cv2.quality', 'cv2.ogl', 'cv2.aruco', 'cv2.mcc', 'cv2.videostab', 'cv2.datasets', 'cv2.signal', 'cv2.parallel', 'cv2.Error', 'cv2.stereo', 'cv2.dnn', 'cv2.fisheye', 'cv2.motempl', 'cv2.kinfu', 'cv2.legacy', 'cv2.reg', 'cv2.flann', 'cv2.videoio_registry', 'cv2.bgsegm', 'cv2.ppf_match_3d', 'cv2.gapi', 'cv2.large_kinfu', 'cv2.ximgproc', 'cv2.ocl', 'cv2.mat_wrapper', 'cv2.text', 'cv2.line_descriptor', 'cv2.wechat_qrcode', 'cv2.plot', 'cv2.detail', 'cv2.ml', 'cv2.xfeatures2d', 'cv2.qt', 'cv2.data', 'cv2.typing', 'cv2.samples', 'cv2.dpm', 'cv2.face', 'cv2.optflow', 'cv2.img_hash', 'cv2.phase_unwrapping', 'cv2.xphoto', 'cv2.saliency', 'cv2.dynafu', 'cv2.cuda', 'cv2.utils', 'cv2.barcode', 'cv2.hfs', 'cv2.colored_kinfu', 'cv2.dnn_superres', 'cv2.segmentation', 'cv2.rapid', 'cv2.ft', 'cv2.multicalib', 'cv2.misc.version', 'cv2.misc', 'cv2.omnidir', 'cv2.ccm', 'cv2.linemod', 'cv2.structured_light', 'cv2.intensity_transform', 'cv2.bioinspired', 'cv2.ipp', 'cv2.rgbd', 'cv2', 'albucore.utils', 'albucore.decorators', 'simsimd', 'stringzilla', 'albucore.functions', 'albucore', 'albumentations.check_version', 'albumentations.augmentations.blur', 'pydantic_core._pydantic_core', 'pydantic_core.core_schema', 'pydantic_core', 'pydantic.version', 'pydantic._migration', 'typing_inspection', 'typing_inspection.typing_objects', 'typing_inspection.introspection', 'pydantic._internal', 'pydantic._internal._namespace_utils', 'pydantic._internal._typing_extra', 'pydantic._internal._repr', 'pydantic.errors', 'pydantic', 'pydantic._internal._core_utils', 'pydantic._internal._internal_dataclass', 'pydantic.warnings', 'pydantic._internal._import_utils', 'pydantic._internal._utils', 'pydantic._internal._decorators', 'pydantic._internal._forward_ref', 'pydantic._internal._generics', 'pydantic.annotated_handlers', 'pydantic.functional_validators', 'annotated_types', 'fractions', 'pydantic._internal._validators', 'pydantic.aliases', 'pydantic.config', 'pydantic._internal._config', 'pydantic._internal._docs_extraction', 'pydantic._internal._fields', 'pydantic._internal._core_metadata', 'pydantic.plugin', 'pydantic.plugin._schema_validator', 'pydantic._internal._mock_val_ser', 'pydantic._internal._schema_generation_shared', 'pydantic.json_schema', 'pydantic.types', 'pydantic.fields', 'albumentations.augmentations.pixel', 'albumentations.augmentations.geometric', 'albumentations.core', 'numpy._typing._add_docstring', 'numpy.typing', 'albumentations.core.type_definitions', 'albumentations.core.label_manager', 'albumentations.core.serialization', 'albumentations.core.utils', 'albumentations.core.keypoints_utils', 'albumentations.augmentations.utils', 'albumentations.core.bbox_utils', 'albumentations.augmentations.geometric.functional', 'albumentations.augmentations.pixel.functional', 'albumentations.core.pydantic', 'pydantic._internal._discriminated_union', 'pydantic._internal._known_annotated_metadata', 'pydantic._internal._schema_gather', 'pydantic._internal._generate_schema', 'pydantic._internal._signature', 'pydantic._internal._model_construction', 'pydantic.main', 'albumentations.core.validation', 'pydantic.plugin._loader', 'albumentations.core.transforms_interface', 'albumentations.augmentations.blur.functional', 'albumentations.augmentations.blur.transforms', 'albumentations.augmentations.crops', 'albumentations.augmentations.crops.functional', 'albumentations.augmentations.crops.transforms', 'albumentations.augmentations.dropout', 'albumentations.augmentations.dropout.functional', 'albumentations.augmentations.dropout.channel_dropout', 'albumentations.augmentations.dropout.transforms', 'albumentations.augmentations.dropout.coarse_dropout', 'albumentations.augmentations.dropout.grid_dropout', 'albumentations.augmentations.dropout.mask_dropout', 'albumentations.augmentations.dropout.xy_masking', 'albumentations.augmentations.geometric.distortion', 'albumentations.augmentations.geometric.flip', 'albumentations.augmentations.geometric.pad', 'albumentations.augmentations.geometric.resize', 'albumentations.augmentations.geometric.transforms', 'albumentations.augmentations.geometric.rotate', 'albumentations.augmentations.mixing', 'albumentations.augmentations.mixing.domain_adaptation_functional', 'pydantic._internal._serializers', 'albumentations.augmentations.mixing.domain_adaptation', 'tqdm.contrib', 'tqdm.contrib.concurrent', 'huggingface_hub._local_folder', 'huggingface_hub.utils.insecure_hashlib', 'huggingface_hub.utils.sha', 'huggingface_hub.file_download', 'huggingface_hub.lfs', 'huggingface_hub._commit_api', 'huggingface_hub._inference_endpoints', 'huggingface_hub._space_api', 'huggingface_hub._upload_large_folder', 'huggingface_hub.community', 'huggingface_hub.repocard_data', 'huggingface_hub.utils.endpoint_helpers', 'huggingface_hub.hf_api', 'albumentations.core.hub_mixin', 'albumentations.core.composition', 'albumentations.augmentations.mixing.functional', 'albumentations.augmentations.mixing.transforms', 'albumentations.augmentations.other', 'albumentations.augmentations.other.lambda_transform', 'albumentations.augmentations.other.type_transform', 'scipy.__config__', 'scipy.version', 'scipy._distributor_init', 'Cython.Compiler.Version', 'scipy._lib._pep440', 'scipy._lib._testutils', 'scipy._lib', 'scipy._lib._ccallback_c', 'scipy._lib._ccallback', 'scipy', 'scipy.special._sf_error', 'scipy.special._ufuncs_cxx', 'scipy.special._special_ufuncs', 'scipy.special._ufuncs', 'scipy._lib.array_api_compat.common._helpers', 'scipy._lib.array_api_compat.common', 'scipy._lib.array_api_compat', 'numpy._core.strings', 'numpy.strings', 'numpy._core.defchararray', 'numpy.char', 'numpy.ctypeslib', 'numpy.polynomial.polyutils', 'numpy.polynomial._polybase', 'numpy.polynomial.polynomial', 'numpy.polynomial.chebyshev', 'numpy.polynomial.legendre', 'numpy.polynomial.hermite', 'numpy.polynomial.hermite_e', 'numpy.polynomial.laguerre', 'numpy.polynomial', 'fileinput', 'numpy.f2py.__version__', 'numpy.f2py.cfuncs', 'numpy.f2py.auxfuncs', 'numpy.f2py.symbolic', 'numpy.f2py.crackfortran', 'numpy.f2py.cb_rules', 'numpy.f2py._isocbind', 'numpy.f2py.capi_maps', 'numpy.f2py.func2subr', 'numpy.f2py.common_rules', 'numpy.f2py.use_rules', 'numpy.f2py.f90mod_rules', 'numpy.f2py.rules', 'numpy.f2py._backends', 'numpy.f2py.f2py2e', 'numpy.f2py.diagnose', 'numpy.f2py', 'numpy.rec', 'numpy.fft._pocketfft_umath', 'numpy.fft._pocketfft', 'numpy.fft._helper', 'numpy.fft.helper', 'numpy.fft', 'numpy.random._common', 'numpy.random.bit_generator', 'numpy.random._bounded_integers', 'numpy.random._mt19937', 'numpy.random.mtrand', 'numpy.random._philox', 'numpy.random._pcg64', 'numpy.random._sfc64', 'numpy.random._generator', 'numpy.random._pickle', 'numpy.random', 'scipy._lib.array_api_compat.common._aliases', 'scipy._lib.array_api_compat._internal', 'scipy._lib.array_api_compat.numpy._info', 'scipy._lib.array_api_compat.numpy._aliases', 'scipy._lib.array_api_compat.common._linalg', 'scipy._lib.array_api_compat.numpy.linalg', 'scipy._lib.array_api_compat.common._fft', 'scipy._lib.array_api_compat.numpy.fft', 'scipy._lib.array_api_compat.numpy', 'scipy._lib._array_api', 'scipy.special._support_alternative_backends', 'scipy.special._gufuncs', 'scipy.special._input_validation', 'scipy.special._specfun', 'scipy.special._comb', 'scipy.special._multiufuncs', 'scipy._lib._docscrape', 'scipy._lib.deprecation', 'scipy.special._basic', 'scipy._lib._util', 'scipy._lib.array_api_extra._funcs', 'scipy._lib.array_api_extra', 'scipy.special._logsumexp', 'scipy.linalg._fblas', 'scipy.linalg.blas', 'scipy.linalg._flapack', 'scipy.linalg.lapack', 'scipy.linalg._misc', 'scipy.linalg.cython_lapack', 'scipy.linalg._cythonized_array_utils', 'scipy.linalg._decomp', 'scipy.linalg._decomp_svd', 'scipy.linalg._solve_toeplitz', 'scipy.linalg._basic', 'scipy.linalg._decomp_lu_cython', 'scipy.linalg._decomp_lu', 'scipy.linalg._decomp_ldl', 'scipy.linalg._decomp_cholesky', 'scipy.linalg._decomp_qr', 'scipy.linalg._decomp_qz', 'scipy.linalg._decomp_schur', 'scipy.linalg._decomp_polar', 'scipy.linalg._expm_frechet', 'scipy.linalg._matfuncs_sqrtm_triu', 'scipy.linalg._matfuncs_sqrtm', 'scipy.linalg._matfuncs_expm', 'scipy.linalg._linalg_pythran', 'scipy.linalg._matfuncs', 'scipy.linalg._special_matrices', 'scipy.linalg._solvers', 'scipy.linalg._procrustes', 'scipy.linalg.cython_blas', 'scipy.linalg._decomp_update', 'scipy.sparse._sputils', 'scipy.sparse._matrix', 'scipy.sparse._base', 'scipy.sparse._sparsetools', 'scipy.sparse._data', 'scipy.sparse._index', 'scipy.sparse._compressed', 'scipy.sparse._csr', 'scipy.sparse._csc', '_csparsetools', 'scipy.sparse._csparsetools', 'scipy.sparse._lil', 'scipy.sparse._dok', 'scipy.sparse._coo', 'scipy.sparse._dia', 'scipy.sparse._bsr', 'scipy.sparse._construct', 'scipy.sparse._extract', 'scipy.sparse._matrix_io', 'scipy.sparse.linalg._interface', 'scipy.sparse.linalg._isolve.utils', 'scipy.sparse.linalg._isolve.iterative', 'scipy.sparse.linalg._isolve.minres', 'scipy.sparse.linalg._isolve._gcrotmk', 'scipy.sparse.linalg._isolve.lgmres', 'scipy.sparse.linalg._isolve.lsqr', 'scipy.sparse.linalg._isolve.lsmr', 'scipy.sparse.linalg._isolve.tfqmr', 'scipy.sparse.linalg._isolve', 'scipy.sparse.linalg._dsolve._superlu', 'scipy.sparse.linalg._dsolve.linsolve', 'scipy.sparse.linalg._dsolve._add_newdocs', 'scipy.sparse.linalg._dsolve', 'scipy._lib.decorator', 'scipy._lib._threadsafety', 'scipy.sparse.linalg._eigen.arpack._arpack', 'scipy.sparse.linalg._eigen.arpack.arpack', 'scipy.sparse.linalg._eigen.arpack', 'scipy.sparse.linalg._eigen.lobpcg.lobpcg', 'scipy.sparse.linalg._eigen.lobpcg', 'scipy.sparse.linalg._propack', 'scipy.sparse.linalg._propack._spropack', 'scipy.sparse.linalg._propack._dpropack', 'scipy.sparse.linalg._propack._cpropack', 'scipy.sparse.linalg._propack._zpropack', 'scipy.sparse.linalg._svdp', 'scipy.sparse.linalg._eigen._svds', 'scipy.sparse.linalg._eigen', 'scipy.sparse.linalg._onenormest', 'scipy.sparse.linalg._expm_multiply', 'scipy.sparse.linalg._matfuncs', 'scipy.sparse.linalg._norm', 'scipy.sparse.linalg._special_sparse_arrays', 'scipy.sparse.linalg.isolve', 'scipy.sparse.linalg.dsolve', 'scipy.sparse.linalg.interface', 'scipy.sparse.linalg.eigen', 'scipy.sparse.linalg.matfuncs', 'scipy.sparse.linalg', 'scipy.sparse.csgraph._laplacian', 'scipy.sparse.csgraph._tools', 'scipy.sparse.csgraph._validation', 'scipy.sparse.csgraph._shortest_path', 'scipy.sparse.csgraph._traversal', 'scipy.sparse.csgraph._min_spanning_tree', 'scipy.sparse.csgraph._flow', 'scipy.sparse.csgraph._matching', 'scipy.sparse.csgraph._reordering', 'scipy.sparse.csgraph', 'scipy.sparse.base', 'scipy.sparse.bsr', 'scipy.sparse.compressed', 'scipy.sparse.construct', 'scipy.sparse.coo', 'scipy.sparse.csc', 'scipy.sparse.csr', 'scipy.sparse.data', 'scipy.sparse.dia', 'scipy.sparse.dok', 'scipy.sparse.extract', 'scipy.sparse.lil', 'scipy.sparse.sparsetools', 'scipy.sparse.sputils', 'scipy.sparse', 'scipy.linalg._sketches', 'scipy.linalg._decomp_cossin', 'scipy.linalg.decomp', 'scipy.linalg.decomp_cholesky', 'scipy.linalg.decomp_lu', 'scipy.linalg.decomp_qr', 'scipy.linalg.decomp_svd', 'scipy.linalg.decomp_schur', 'scipy.linalg.basic', 'scipy.linalg.misc', 'scipy.linalg.special_matrices', 'scipy.linalg.matfuncs', 'scipy.linalg', 'scipy.special._orthogonal', 'scipy.special._spfun_stats', 'scipy.special._ellip_harm_2', 'scipy.special._ellip_harm', 'scipy.special._lambertw', 'scipy.special._spherical_bessel', 'scipy.special.add_newdocs', 'scipy.special.basic', 'scipy.special.orthogonal', 'scipy.special.specfun', 'scipy.special.sf_error', 'scipy.special.spfun_stats', 'scipy.special', 'albumentations.augmentations.pixel.transforms', 'albumentations.augmentations.spectrogram', 'albumentations.augmentations.spectrogram.transform', 'albumentations.augmentations.text', 'albumentations.augmentations.text.functional', 'albumentations.augmentations.text.transforms', 'albumentations.augmentations.transforms3d', 'albumentations.augmentations.transforms3d.functional', 'albumentations.augmentations.transforms3d.transforms', 'albumentations.augmentations', 'albumentations.pytorch.transforms', 'albumentations.pytorch', 'albumentations', 'ale_py._ale_py', 'gymnasium.utils.colorize', 'gymnasium.utils.ezpickle', 'gymnasium.utils.record_constructor', 'gymnasium.utils', 'gymnasium.error', 'gymnasium.utils.seeding', 'gymnasium.spaces.space', 'gymnasium.spaces.box', 'gymnasium.spaces.dict', 'gymnasium.spaces.discrete', 'gymnasium.spaces.multi_discrete', 'gymnasium.spaces.graph', 'gymnasium.spaces.multi_binary', 'gymnasium.spaces.oneof', 'gymnasium.spaces.sequence', 'gymnasium.spaces.text', 'gymnasium.spaces.tuple', 'gymnasium.spaces.utils', 'gymnasium.spaces', 'gymnasium.core', 'gymnasium.logger', 'gymnasium.vector.utils.misc', 'multiprocessing.heap', 'multiprocessing.sharedctypes', 'gymnasium.vector.utils.shared_memory', 'gymnasium.vector.utils.space_utils', 'gymnasium.vector.utils', 'gymnasium.vector.vector_env', 'gymnasium.vector.async_vector_env', 'gymnasium.vector.sync_vector_env', 'gymnasium.vector', 'gymnasium.envs.registration', 'gymnasium.envs', 'gymnasium.wrappers.vector.common', 'gymnasium.wrappers.vector.dict_info_to_list', 'gymnasium.wrappers.vector.rendering', 'gymnasium.wrappers.utils', 'gymnasium.wrappers.vector.stateful_observation', 'gymnasium.wrappers.vector.stateful_reward', 'gymnasium.wrappers.transform_action', 'gymnasium.wrappers.vector.vectorize_action', 'gymnasium.wrappers.transform_observation', 'gymnasium.wrappers.vector.vectorize_observation', 'gymnasium.wrappers.transform_reward', 'gymnasium.wrappers.vector.vectorize_reward', 'gymnasium.wrappers.vector', 'gymnasium.wrappers.atari_preprocessing', 'gymnasium.utils.passive_env_checker', 'gymnasium.wrappers.common', 'gymnasium.wrappers.rendering', 'gymnasium.wrappers.stateful_action', 'gymnasium.wrappers.stateful_observation', 'gymnasium.wrappers.stateful_reward', 'gymnasium.wrappers', 'gymnasium.experimental', 'farama_notifications', 'gymnasium', 'ale_py.roms', 'ale_py.env', 'ale_py.vector_env', 'ale_py.registration', 'ale_py', 'attrs.converters', 'attrs.exceptions', 'attrs.filters', 'attrs.setters', 'attrs.validators', 'attrs', 'rpds.rpds', 'rpds', 'referencing._attrs', 'referencing.exceptions', 'referencing.typing', 'referencing._core', 'referencing', 'jsonschema._utils', 'jsonschema.exceptions', 'webcolors._definitions', 'webcolors._types', 'webcolors._normalization', 'webcolors._conversion', 'webcolors._html5', 'webcolors', 'jsonpointer', 'jsonschema._format', 'jsonschema._types', 'referencing.jsonschema', 'jsonschema_specifications._core', 'jsonschema_specifications', 'jsonschema._keywords', 'jsonschema._legacy_keywords', 'jsonschema.protocols', 'jsonschema._typing', 'jsonschema.validators', 'jsonschema', 'narwhals.dependencies', 'narwhals._enum', 'narwhals._typing_compat', 'narwhals.exceptions', 'narwhals._utils', 'narwhals.dtypes', 'narwhals._expression_parsing', 'narwhals.expr_cat', 'narwhals.expr_dt', 'narwhals.expr_list', 'narwhals.expr_name', 'narwhals.expr_str', 'narwhals.expr_struct', 'narwhals._constants', 'narwhals._compliant.typing', 'narwhals._translate', 'narwhals._compliant.dataframe', 'narwhals._compliant.any_namespace', 'narwhals._compliant.namespace', 'narwhals._compliant.expr', 'narwhals._compliant.group_by', 'narwhals._compliant.selectors', 'narwhals._compliant.series', 'narwhals._compliant.when_then', 'narwhals._compliant.window', 'narwhals._compliant', 'narwhals._namespace', 'narwhals.translate', 'narwhals.expr', 'narwhals.selectors', 'narwhals.schema', 'narwhals.typing', 'narwhals.series_cat', 'narwhals.series_dt', 'narwhals.series_list', 'narwhals.series_str', 'narwhals.series_struct', 'narwhals.series', 'narwhals.dataframe', 'narwhals.functions', 'narwhals', 'narwhals.stable.v1.dependencies', 'narwhals.stable.v1._dtypes', 'narwhals.stable.v1.dtypes', 'narwhals.stable.v1.selectors', 'narwhals.stable.v1', 'narwhals.stable', 'narwhals.stable.v1.typing', 'altair.utils.schemapi', 'altair.utils.core', 'altair.utils.deprecation', 'altair.utils._importers', 'altair.utils.html', 'altair.utils.plugin_registry', 'altair.utils', 'altair.expr.core', 'altair.vegalite.v5.schema.core', 'altair.vegalite.v5.schema._typing', 'altair.vegalite.v5.schema.channels', 'altair.vegalite.v5.schema', 'altair.expr', 'altair.vegalite.v5.schema._config', 'altair.vegalite.v5.theme', 'altair.theme', 'altair.utils.data', 'altair.vegalite.data', 'altair.utils._vegafusion_data', 'altair.utils.compiler', 'altair.vegalite.v5.compiler', 'altair.vegalite.v5.data', 'altair.utils.mimebundle', 'altair.utils.display', 'altair.vegalite.display', 'altair.vegalite.v5.display', 'altair.vegalite.v5.schema.mixins', 'altair.vegalite.v5.api', 'altair.vegalite.v5', 'altair.vegalite', 'altair.jupyter', 'altair.typing', 'altair', 'antlr4.Token', 'antlr4.InputStream', 'antlr4.FileStream', 'antlr4.StdinStream', 'antlr4.error', 'antlr4.tree', 'antlr4.tree.Tree', 'antlr4.Utils', 'antlr4.tree.Trees', 'antlr4.RuleContext', 'antlr4.ParserRuleContext', 'antlr4.error.ErrorListener', 'antlr4.Recognizer', 'antlr4.error.Errors', 'antlr4.BufferedTokenStream', 'antlr4.CommonTokenFactory', 'antlr4.atn', 'antlr4.IntervalSet', 'antlr4.atn.ATNType', 'antlr4.atn.SemanticContext', 'antlr4.atn.Transition', 'antlr4.atn.ATNState', 'antlr4.atn.ATN', 'antlr4.PredictionContext', 'antlr4.atn.LexerAction', 'antlr4.atn.LexerActionExecutor', 'antlr4.atn.ATNConfig', 'antlr4.atn.ATNConfigSet', 'antlr4.dfa', 'antlr4.dfa.DFAState', 'antlr4.atn.ATNSimulator', 'antlr4.atn.LexerATNSimulator', 'antlr4.Lexer', 'antlr4.CommonTokenStream', 'antlr4.error.ErrorStrategy', 'antlr4.atn.ATNDeserializationOptions', 'antlr4.atn.ATNDeserializer', 'antlr4.ListTokenSource', 'antlr4.tree.Chunk', 'antlr4.tree.RuleTagToken', 'antlr4.tree.TokenTagToken', 'antlr4.tree.ParseTreePatternMatcher', 'antlr4.Parser', 'antlr4.dfa.DFA', 'antlr4.atn.PredictionMode', 'antlr4.atn.ParserATNSimulator', 'antlr4.error.DiagnosticErrorListener', 'antlr4', 'antlr4.xpath', 'anyio._core', 'sniffio._version', 'sniffio._impl', 'sniffio', 'anyio._core._eventloop', 'anyio._core._exceptions', 'anyio.abc._eventloop', 'anyio.abc._resources', 'anyio._core._typedattr', 'anyio.abc._tasks', 'anyio.abc._streams', 'anyio.abc._sockets', 'anyio.abc._subprocesses', 'anyio.abc._testing', 'anyio.lowlevel', 'anyio._core._tasks', 'anyio._core._testing', 'anyio._core._synchronization', 'anyio.from_thread', 'anyio.abc', 'anyio.to_thread', 'anyio._core._fileio', 'anyio._core._resources', 'anyio._core._signals', 'anyio.streams', 'anyio.streams.stapled', 'anyio.streams.tls', 'anyio._core._sockets', 'anyio.streams.memory', 'anyio._core._streams', 'anyio._core._subprocesses', 'anyio._core._tempfile', 'anyio', 'anyio._backends', 'googleapiclient', 'googleapiclient._helpers', 'googleapiclient.errors', 'googleapiclient.channel', 'email.generator', 'email.mime.base', 'email.mime.multipart', 'email.mime.nonmultipart', 'uritemplate.variable', 'uritemplate.orderedset', 'uritemplate.template', 'uritemplate.api', 'uritemplate', 'google_auth_httplib2', 'google.api_core.universe', 'oauth2client', 'six.moves.urllib', 'oauth2client._helpers', 'oauth2client._pkce', 'oauth2client.clientsecrets', 'oauth2client.transport', 'pyasn1', 'pyasn1.codec', 'pyasn1.codec.der', 'pyasn1.codec.cer', 'pyasn1.error', 'pyasn1.type', 'pyasn1.codec.ber', 'pyasn1.type.error', 'pyasn1.type.constraint', 'pyasn1.type.tag', 'pyasn1.type.tagmap', 'pyasn1.type.base', 'pyasn1.codec.ber.eoo', 'pyasn1.compat', 'pyasn1.compat.integer', 'pyasn1.type.namedtype', 'pyasn1.type.namedval', 'pyasn1.type.univ', 'pyasn1.codec.streaming', 'pyasn1.debug', 'pyasn1.type.char', 'pyasn1.type.useful', 'pyasn1.codec.ber.decoder', 'pyasn1.codec.cer.decoder', 'pyasn1.codec.der.decoder', 'pyasn1_modules', 'pyasn1_modules.pem', 'pyasn1.type.opentype', 'pyasn1_modules.rfc2459', 'pyasn1_modules.rfc2251', 'pyasn1_modules.rfc5208', 'rsa.common', 'rsa.transform', 'rsa.randnum', 'rsa.prime', 'rsa.pem', 'rsa.core', 'rsa.key', 'rsa.pkcs1', 'rsa', 'oauth2client._pure_python_crypt', 'oauth2client._openssl_crypt', 'oauth2client.crypt', 'oauth2client.client', 'googleapiclient._auth', 'googleapiclient.mimeparse', 'googleapiclient.version', 'google.api_core.version_header', 'googleapiclient.model', 'googleapiclient.http', 'googleapiclient.schema', 'googleapiclient.discovery', 'googleapiclient.sample_tools', 'apiclient.channel', 'apiclient.discovery', 'apiclient.errors', 'apiclient.http', 'apiclient.mimeparse', 'apiclient.model', 'apiclient.sample_tools', 'apiclient.schema', 'apiclient', 'apt_pkg', 'apt.progress', 'apt.progress.base', 'apt.progress.text', 'apt.package', 'apt.cache', 'apt.cdrom', 'apt', 'aptsources', 'argon2.exceptions', 'argon2.low_level', 'argon2._utils', 'argon2.profiles', 'argon2._password_hasher', 'argon2._legacy', 'argon2', 'array_record', 'array_record.python', 'xarray.coding', 'pytz.exceptions', 'pytz.lazy', 'pytz.tzinfo', 'pytz.tzfile', 'pytz', 'pandas.compat._constants', 'pandas.compat.compressors', 'pandas.util', 'pandas.util.version', 'pandas.compat.numpy', 'pyarrow._generated_version', 'cloudpickle.cloudpickle', 'cloudpickle', 'pyarrow.util', 'pyarrow.lib', 'pyarrow.ipc', 'pyarrow.types', 'pyarrow', 'pandas.compat.pyarrow', 'pandas.compat', 'pandas._typing', 'pandas.util._exceptions', 'pandas._config.config', 'pandas._config.dates', 'pandas._config.display', 'pandas._config', 'pandas.core', 'pandas.core.config_init', 'pandas._libs.pandas_parser', 'pandas._libs.pandas_datetime', '_cython_3_0_5', 'pandas._libs.tslibs.ccalendar', 'pandas._libs.tslibs.np_datetime', 'pandas._libs.tslibs.dtypes', 'pandas._libs.tslibs.base', 'pandas._libs.tslibs.nattype', 'pandas.compat._optional', 'pandas._libs.tslibs.timezones', 'pandas._config.localization', 'pandas._libs.tslibs.fields', 'pandas._libs.tslibs.timedeltas', 'pandas._libs.tslibs.tzconversion', 'pandas._libs.tslibs.timestamps', 'pandas._libs.properties', 'pandas._libs.tslibs.offsets', 'pandas._libs.tslibs.strptime', 'pandas._libs.tslibs.parsing', 'pandas._libs.tslibs.conversion', 'pandas._libs.tslibs.period', 'pandas._libs.tslibs.vectorized', 'pandas._libs.tslibs', 'pandas._libs.ops_dispatch', 'pandas._libs.missing', 'pandas._libs.hashtable', 'pandas._libs.algos', 'pandas._libs.interval', 'pandas._libs', 'pandas.core.dtypes', 'pandas._libs.lib', 'pandas.errors', 'pandas.core.dtypes.generic', 'pandas.core.dtypes.base', 'pandas.core.dtypes.inference', 'pandas.core.dtypes.dtypes', 'pandas.core.dtypes.common', 'pandas.core.dtypes.missing', 'pandas.util._decorators', 'pandas.io', 'pandas.io._util', 'pandas.core.dtypes.cast', 'pandas.core.dtypes.astype', 'pandas.core.dtypes.concat', 'pandas.core.array_algos', 'pandas.core.common', 'pandas.core.construction', 'pandas.core.array_algos.take', 'pandas.core.indexers.utils', 'pandas.core.indexers', 'pandas.core.algorithms', 'pyarrow._compute', 'pyarrow._compute_docstrings', 'pyarrow.vendored', 'pyarrow.vendored.docscrape', 'pyarrow.compute', 'pandas.core.arrays.arrow.accessors', 'pandas.util._validators', 'pandas.core.missing', 'pandas._libs.ops', 'pandas.core.roperator', 'pandas.core.computation', 'numexpr.interpreter', 'numexpr.expressions', 'numexpr.version', 'numexpr.utils', 'numexpr.necompiler', 'numexpr', 'pandas.core.computation.check', 'pandas.core.computation.expressions', 'pandas.core.ops.missing', 'pandas.core.ops.dispatch', 'pandas.core.ops.invalid', 'pandas.core.ops.array_ops', 'pandas.core.ops.common', 'pandas.core.ops.docstrings', 'pandas.core.ops.mask_ops', 'pandas.core.ops', 'pandas.core.arraylike', 'pandas.core.arrays._arrow_string_mixins', 'pandas.core.arrays._utils', 'pandas.compat.numpy.function', 'pandas.core.array_algos.quantile', 'pandas.core.sorting', 'pandas.core.arrays.base', 'bottleneck.benchmark', 'bottleneck.benchmark.autotimeit', 'bottleneck.benchmark.bench', 'bottleneck.benchmark.bench_detailed', 'bottleneck.tests', 'bottleneck.tests.util', 'bottleneck.slow.reduce', 'bottleneck.slow.nonreduce', 'bottleneck.slow.nonreduce_axis', 'bottleneck.slow.move', 'bottleneck.slow', 'bottleneck._pytesttester', 'bottleneck.move', 'bottleneck.nonreduce', 'bottleneck.nonreduce_axis', 'bottleneck.reduce', 'bottleneck._version', 'bottleneck', 'pandas.core.nanops', 'pandas.core.array_algos.masked_accumulations', 'pandas.core.array_algos.masked_reductions', 'pandas.core.util', 'pandas._libs.hashing', 'pandas.core.util.hashing', 'pandas.core.arrays.masked', 'pandas._libs.arrays', 'pandas.core.arrays.numeric', 'pandas.core.arrays.floating', 'pandas.core.arrays.integer', 'pandas.core.array_algos.transforms', 'pandas.core.arrays._mixins', 'pandas.core.strings', 'pandas.core.strings.base', 'pandas.core.strings.object_array', 'pandas.core.arrays.numpy_', 'pandas.core.arrays.string_', 'pandas.tseries', 'pandas.tseries.frequencies', 'pandas.core.arrays.arrow.array', 'pandas.core.arrays.arrow', 'pandas.core.arrays.boolean', 'pandas.core.accessor', 'pandas.core.base', 'pandas.io.formats', 'pandas.io.formats.console', 'pandas.core.arrays.categorical', 'pandas._libs.tslib', 'pandas.core.array_algos.datetimelike_accumulations', 'pandas.core.arrays.datetimelike', 'pandas.core.arrays._ranges', 'pandas.tseries.offsets', 'pandas.core.arrays.datetimes', 'pandas.core.arrays.timedeltas', 'pandas.core.arrays.interval', 'pandas.core.arrays.period', 'pandas._libs.sparse', 'pandas.io.formats.printing', 'pandas.core.arrays.sparse.array', 'pandas.core.arrays.sparse.accessor', 'pandas.core.arrays.sparse', 'pandas.core.arrays.arrow._arrow_utils', 'pandas.core.arrays.string_arrow', 'pandas.core.arrays', 'pandas.core.flags', 'pandas._libs.internals', 'pandas.core._numba', 'pandas.core._numba.executor', 'pandas.core.apply', 'pandas._libs.indexing', 'pandas.core.indexes', 'pandas._libs.index', 'pandas._libs.writers', 'pandas._libs.join', 'pandas.core.array_algos.putmask', 'pandas.core.indexes.frozen', 'pandas.core.strings.accessor', 'pandas.core.indexes.base', 'pandas.core.indexes.extension', 'pandas.core.indexes.category', 'pandas.core.indexes.range', 'pandas.core.tools', 'pandas.core.tools.timedeltas', 'pandas.core.indexes.datetimelike', 'pandas.core.tools.times', 'pandas.core.indexes.datetimes', 'pandas.core.indexes.multi', 'pandas.core.indexes.timedeltas', 'pandas.core.indexes.interval', 'pandas.core.indexes.period', 'pandas.core.indexes.api', 'pandas.core.indexing', 'pandas.core.sample', 'pandas.core.array_algos.replace', 'pandas.core.internals.blocks', 'pandas.core.internals.api', 'pandas.core.internals.base', 'pandas.core.internals.ops', 'pandas.core.internals.managers', 'pandas.core.internals.array_manager', 'pandas.core.internals.concat', 'pandas.core.internals', 'pandas.core.internals.construction', 'pandas.core.methods', 'pandas.core.reshape', 'pandas.core.reshape.concat', 'pandas.core.shared_docs', 'pandas.io.common', 'pandas.io.formats.format', 'pandas.core.methods.describe', 'pandas._libs.window', 'pandas._libs.window.aggregations', 'pandas._libs.window.indexers', 'pandas.core.indexers.objects', 'pandas.core.util.numba_', 'pandas.core.window.common', 'pandas.core.window.doc', 'pandas.core.window.numba_', 'pandas.core.window.online', 'pandas.core.window.rolling', 'pandas.core.window.ewm', 'pandas.core.window.expanding', 'pandas.core.window', 'pandas.core.generic', 'pandas.core.methods.selectn', 'pandas.core.reshape.util', 'pandas.core.tools.numeric', 'pandas.core.reshape.melt', 'pandas._libs.reshape', 'pandas.core.indexes.accessors', 'pandas.arrays', 'pandas.core.tools.datetimes', 'pandas.io.formats.info', 'pandas.plotting._core', 'pandas.plotting._misc', 'pandas.plotting', 'pandas.core.series', 'pandas.core.frame', 'pandas.core.groupby.base', 'pandas._libs.groupby', 'pandas.core.groupby.categorical', 'pandas.core.groupby.grouper', 'pandas.core.groupby.ops', 'pandas.core.groupby.numba_', 'pandas.core.groupby.indexing', 'pandas.core.groupby.groupby', 'pandas.core.groupby.generic', 'pandas.core.groupby', 'pandas.core.api', 'pandas.tseries.api', 'pandas.core.computation.common', 'pandas.core.computation.align', 'pandas.core.computation.scope', 'pandas.core.computation.ops', 'pandas.core.computation.engines', 'pandas.core.computation.parsing', 'pandas.core.computation.expr', 'pandas.core.computation.eval', 'pandas.core.computation.api', 'pandas.core.reshape.encoding', 'pandas.core.reshape.merge', 'pandas.core.reshape.pivot', 'pandas.core.reshape.tile', 'pandas.core.reshape.api', 'pandas.api.extensions', 'pandas.api.indexers', 'pandas.core.interchange', 'pandas.core.interchange.dataframe_protocol', 'pandas.core.interchange.utils', 'pandas.core.interchange.from_dataframe', 'pandas.api.interchange', 'pandas.core.dtypes.api', 'pandas.api.types', 'pandas.core.resample', 'pandas._libs.json', 'pandas.io.json._normalize', 'pandas.io.json._table_schema', 'pandas._libs.parsers', 'pandas.io.parsers.base_parser', 'pandas.io.parsers.arrow_parser_wrapper', 'pandas.io.parsers.c_parser_wrapper', 'pandas.io.parsers.python_parser', 'pandas.io.parsers.readers', 'pandas.io.parsers', 'pandas.io.json._json', 'pandas.io.json', 'pandas.io.stata', 'pandas.api.typing', 'pandas.api', 'pandas._testing.contexts', 'pandas._testing._io', 'pandas._testing._warnings', 'pandas._libs.testing', 'pandas._testing.asserters', 'pandas._testing.compat', 'pandas._testing', 'pandas.testing', 'pandas.util._print_versions', 'pandas.io.clipboards', 'pandas.io.excel._util', 'pandas.io.excel._calamine', 'pandas.io.excel._odfreader', 'pandas.io.excel._openpyxl', 'pandas.io.excel._pyxlsb', 'pandas.io.excel._xlrd', 'pandas.io.excel._base', 'pandas.io.excel._odswriter', 'pandas.io.excel._xlsxwriter', 'pandas.io.excel', 'pandas.io.feather_format', 'pandas.io.gbq', 'pandas.io.html', 'pandas.io.orc', 'pandas.io.parquet', 'pandas.compat.pickle_compat', 'pandas.io.pickle', 'pandas.core.computation.pytables', 'pandas.io.pytables', 'pandas.io.sas.sasreader', 'pandas.io.sas', 'pandas.io.spss', 'pandas.io.sql', 'pandas.io.xml', 'pandas.io.api', 'pandas.util._tester', 'pandas._version_meson', 'pandas', 'xarray.core', 'xarray.compat', 'xarray.namedarray', 'xarray.namedarray._typing', 'xarray.namedarray.utils', 'xarray.compat.dask_array_compat', 'xarray.core.utils', 'xarray.namedarray.pycompat', 'xarray.compat.array_api_compat', 'xarray.compat.npcompat', 'xarray.core.dtypes', 'xarray.core.options', 'xarray.core.nputils', 'xarray.compat.dask_array_ops', 'xarray.namedarray.parallelcompat', 'xarray.core.duck_array_ops', 'xarray.core.coordinate_transform', 'xarray.core.types', 'xarray.core.indexing', 'xarray.computation', 'xarray.computation.ops', 'xarray.core._typed_ops', 'xarray.core.datatree_render', 'xarray.core.treenode', 'xarray.core.formatting', 'xarray.core.formatting_html', 'xarray.namedarray._aggregations', 'xarray.namedarray.core', 'xarray.core.common', 'xarray.computation.arithmetic', 'xarray.core.extension_array', 'xarray.util', 'xarray.util.deprecation_helpers', 'xarray.core.variable', 'xarray.coding.common', 'xarray.compat.pdcompat', 'xarray.coding.times', 'xarray.coders', 'xarray.coding.cftimeindex', 'xarray.coding.cftime_offsets', 'xarray.core.indexes', 'xarray.structure', 'xarray.structure.alignment', 'xarray.structure.merge', 'xarray.computation.apply_ufunc', 'xarray.core.coordinates', 'xarray.coding.calendar_ops', 'xarray.computation.computation', 'xarray.core._aggregations', 'xarray.core.accessor_dt', 'xarray.core.accessor_str', 'xarray.core.dataset_utils', 'xarray.core.dataset_variables', 'xarray.plot.utils', 'xarray.plot.facetgrid', 'xarray.structure.concat', 'xarray.plot.dataarray_plot', 'xarray.plot.dataset_plot', 'xarray.plot', 'xarray.plot.accessor', 'xarray.structure.chunks', 'xarray.core.dataset', 'xarray.core.dataarray', 'xarray.core.groupby', 'xarray.core.resample_cftime', 'xarray.groupers', 'xarray.core.datatree_mapping', 'xarray.core.datatree', 'xarray.testing.assertions', 'xarray.testing', 'xarray.coding.variables', 'xarray.coding.strings', 'xarray.conventions', 'xarray.backends.common', 'xarray.backends.locks', 'xarray.backends.lru_cache', 'xarray.backends.file_manager', 'xarray.backends.netcdf3', 'xarray.backends.store', 'xarray.backends.netCDF4_', 'xarray.backends.h5netcdf_', 'xarray.backends.memory', 'xarray.backends.plugins', 'xarray.backends.pydap_', 'xarray.backends.scipy_', 'xarray.backends.zarr', 'xarray.backends', 'xarray.namedarray.daskmanager', 'xarray.structure.combine', 'xarray.backends.api', 'xarray.tutorial', 'xarray.ufuncs', 'xarray.coding.frequencies', 'xarray.core.extensions', 'xarray.core.parallel', 'xarray.util.print_versions', 'xarray', 'wrapt.wrappers', 'wrapt._wrappers', 'wrapt.__wrapt__', 'wrapt.patches', 'wrapt.weakrefs', 'wrapt.arguments', 'wrapt.decorators', 'wrapt.importer', 'wrapt', 'tree._tree', 'tree.sequence', 'tree', 'bokeh.util', 'bokeh.util.warnings', 'bokeh.util.deprecation', 'bokeh.util.paths', 'bokeh.settings', 'bokeh.util.logconfig', 'bokeh', 'bokeh.core', 'bokeh.util.dataclasses', 'bokeh.util.dependencies', 'bokeh.core.types', 'bokeh.util.strings', 'bokeh.util.serialization', 'bokeh.core.serialization', 'bokeh.colors.color', 'bokeh.colors.util', 'bokeh.colors.groups', 'bokeh.colors.named', 'bokeh.colors', 'bokeh.palettes', 'bokeh.core.enums', 'arviz.rcparams', 'arviz.utils', 'arviz.data.base', 'arviz.data.inference_data', 'arviz.data.io_beanmachine', 'arviz.data.io_cmdstan', 'arviz.data.io_cmdstanpy', 'arviz.data.io_emcee', 'arviz.data.io_numpyro', 'arviz.data.io_pyro', 'arviz.data.io_pystan', 'arviz.data.converters', 'arviz.data.io_netcdf', 'arviz.data.datasets', 'arviz.data.io_datatree', 'arviz.data.io_dict', 'arviz.data.io_json', 'arviz.data.io_pyjags', 'arviz.data.io_zarr', 'arviz.data.utils', 'arviz.data', 'arviz.labels', 'arviz.sel_utils', 'scipy.stats._warnings_errors', 'scipy.spatial._ckdtree', 'scipy.spatial._kdtree', 'scipy._lib.messagestream', 'scipy.spatial._qhull', 'scipy.spatial._voronoi', 'scipy.spatial._spherical_voronoi', 'scipy.spatial._plotutils', 'scipy.spatial._procrustes', 'scipy.spatial._distance_wrap', 'scipy.spatial._hausdorff', 'scipy.spatial._distance_pybind', 'scipy.spatial.distance', 'scipy.spatial._geometric_slerp', 'scipy.spatial.ckdtree', 'scipy.spatial.kdtree', 'scipy.spatial.qhull', 'scipy.constants._codata', 'scipy.constants._constants', 'scipy.constants.codata', 'scipy.constants.constants', 'scipy.constants', 'scipy.spatial.transform._rotation_groups', 'scipy.spatial.transform._rotation', 'scipy.spatial.transform._rotation_spline', 'scipy.spatial.transform.rotation', 'scipy.spatial.transform', 'scipy.spatial', 'scipy.optimize._dcsrch', 'scipy.optimize._linesearch', 'scipy.optimize._group_columns', 'scipy.optimize._numdiff', 'scipy.optimize._hessian_update_strategy', 'scipy.optimize._differentiable_functions', 'scipy.optimize._optimize', 'scipy.optimize._trustregion', 'scipy.optimize._trustregion_dogleg', 'scipy.optimize._trustregion_ncg', 'scipy.optimize._trlib._trlib', 'scipy.optimize._trlib', 'scipy.optimize._trustregion_krylov', 'scipy.optimize._trustregion_exact', 'scipy.optimize._constraints', 'scipy.optimize._trustregion_constr.projections', 'scipy.optimize._trustregion_constr.qp_subproblem', 'scipy.optimize._trustregion_constr.equality_constrained_sqp', 'scipy.optimize._trustregion_constr.canonical_constraint', 'scipy.optimize._trustregion_constr.tr_interior_point', 'scipy.optimize._trustregion_constr.report', 'scipy.optimize._trustregion_constr.minimize_trustregion_constr', 'scipy.optimize._trustregion_constr', 'scipy.optimize._lbfgsb', 'scipy.optimize._lbfgsb_py', '_moduleTNC', 'scipy.optimize._moduleTNC', 'scipy.optimize._tnc', 'scipy.optimize._cobyla', 'scipy.optimize._cobyla_py', 'scipy.optimize._cobyqa_py', 'scipy.optimize._slsqp', 'scipy.optimize._slsqp_py', 'scipy.optimize._minimize', 'scipy.optimize._minpack', 'scipy.optimize._lsq.common', 'scipy.optimize._lsq.trf', 'scipy.optimize._lsq.dogbox', 'scipy.optimize._lsq.least_squares', 'scipy.optimize._lsq.givens_elimination', 'scipy.optimize._lsq.trf_linear', 'scipy.optimize._lsq.bvls', 'scipy.optimize._lsq.lsq_linear', 'scipy.optimize._lsq', 'scipy.optimize._minpack_py', 'scipy.optimize._spectral', 'scipy.optimize._nonlin', 'scipy.optimize._root', 'scipy.optimize._zeros', 'scipy.optimize._zeros_py', 'scipy.optimize._root_scalar', 'scipy.optimize._cython_nnls', 'scipy.optimize._nnls', 'scipy.optimize._basinhopping', 'scipy.optimize._highspy', 'scipy.optimize._highspy._core.simplex_constants', 'scipy.optimize._highspy._core.cb', 'scipy.optimize._highspy._core', 'scipy.optimize._highspy._highs_options', 'scipy.optimize._highspy._highs_wrapper', 'scipy.optimize._linprog_highs', 'scipy._lib._uarray._uarray', 'scipy._lib._uarray._backend', 'scipy._lib._uarray', 'scipy._lib.uarray', 'scipy.fft._basic', 'scipy.fft._realtransforms', 'scipy.fft._fftlog_backend', 'scipy.fft._fftlog', 'scipy.fft._pocketfft.pypocketfft', 'scipy.fft._pocketfft.helper', 'scipy.fft._pocketfft.basic', 'scipy.fft._pocketfft.realtransforms', 'scipy.fft._pocketfft', 'scipy.fft._helper', 'scipy.fft._basic_backend', 'scipy.fft._realtransforms_backend', 'scipy.fft._backend', 'scipy.fft', 'scipy.linalg._decomp_interpolative', 'scipy.linalg.interpolative', 'scipy.optimize._remove_redundancy', 'scipy.optimize._linprog_util', 'scipy.optimize._linprog_ip', 'scipy.optimize._linprog_simplex', 'scipy.optimize._bglu_dense', 'scipy.optimize._linprog_rs', 'scipy.optimize._linprog_doc', 'scipy.optimize._linprog', 'scipy.optimize._lsap', 'scipy.optimize._differentialevolution', 'scipy.optimize._pava_pybind', 'scipy.optimize._isotonic', 'scipy.optimize._shgo_lib', 'scipy.optimize._shgo_lib._vertex', 'scipy.optimize._shgo_lib._complex', 'scipy.optimize._shgo', 'scipy.optimize._dual_annealing', 'scipy.optimize._qap', 'scipy.optimize._direct', 'scipy.optimize._direct_py', 'scipy.optimize._milp', 'scipy.optimize.cobyla', 'scipy.optimize.lbfgsb', 'scipy.optimize.linesearch', 'scipy.optimize.minpack', 'scipy.optimize.minpack2', 'scipy.optimize.moduleTNC', 'scipy.optimize.nonlin', 'scipy.optimize.optimize', 'scipy.optimize.slsqp', 'scipy.optimize.tnc', 'scipy.optimize.zeros', 'scipy.optimize', 'scipy._lib.doccer', 'scipy.stats._distr_params', 'scipy.integrate._quadrature', 'scipy.integrate._odepack', 'scipy.integrate._odepack_py', 'scipy.integrate._quadpack', 'scipy.integrate._quadpack_py', 'scipy.integrate._vode', 'scipy.integrate._dop', 'scipy.integrate._lsoda', 'scipy.integrate._ode', 'scipy.integrate._bvp', 'scipy.integrate._ivp.common', 'scipy.integrate._ivp.base', 'scipy.integrate._ivp.bdf', 'scipy.integrate._ivp.radau', 'scipy.integrate._ivp.dop853_coefficients', 'scipy.integrate._ivp.rk', 'scipy.integrate._ivp.lsoda', 'scipy.integrate._ivp.ivp', 'scipy.integrate._ivp', 'scipy.integrate._quad_vec', 'scipy._lib._elementwise_iterative_method', 'scipy.integrate._tanhsinh', 'scipy.integrate._rules._base', 'scipy.integrate._rules._genz_malik', 'scipy.integrate._rules._gauss_legendre', 'scipy.integrate._rules._gauss_kronrod', 'scipy.integrate._rules', 'scipy.integrate._cubature', 'scipy.integrate._lebedev', 'scipy.integrate.dop', 'scipy.integrate.lsoda', 'scipy.integrate.vode', 'scipy.integrate.odepack', 'scipy.integrate.quadpack', 'scipy.integrate', 'scipy._lib._finite_differences', 'scipy.stats._constants', 'scipy.stats._censored_data', 'scipy.stats._distn_infrastructure', 'scipy.interpolate._fitpack', 'scipy.interpolate._dfitpack', 'scipy.interpolate._fitpack_impl', 'scipy.interpolate._dierckx', 'scipy.interpolate._bsplines', 'scipy.interpolate._fitpack_py', 'scipy.interpolate._polyint', 'scipy.interpolate._ppoly', 'scipy.interpolate._interpnd', 'scipy.interpolate._interpolate', 'scipy.interpolate._fitpack2', 'scipy.interpolate._rbf', 'scipy.interpolate._rbfinterp_pythran', 'scipy.interpolate._rbfinterp', 'scipy.interpolate._cubic', 'scipy.interpolate._ndgriddata', 'scipy.interpolate._fitpack_repro', 'scipy.interpolate._pade', 'scipy.interpolate._rgi_cython', 'scipy.interpolate._bspl', 'scipy.interpolate._ndbspline', 'scipy.interpolate._rgi', 'scipy.interpolate._bary_rational', 'scipy.interpolate.fitpack', 'scipy.interpolate.fitpack2', 'scipy.interpolate.interpolate', 'scipy.interpolate.ndgriddata', 'scipy.interpolate.polyint', 'scipy.interpolate.rbf', 'scipy.interpolate.interpnd', 'scipy.interpolate', 'scipy.special.cython_special', 'scipy.stats._stats', 'scipy.stats._tukeylambda_stats', 'scipy.optimize._bracket', 'scipy.optimize._chandrupatla', 'scipy.stats._probability_distribution', 'scipy.stats._sobol', 'scipy.stats._qmc_cy', 'scipy.stats._qmc', 'scipy.stats.qmc', 'scipy.stats._distribution_infrastructure', 'scipy.stats._ksstats', 'scipy.stats._continuous_distns', 'scipy.stats._biasedurn', 'scipy.stats._stats_pythran', 'scipy.stats._discrete_distns', 'scipy.stats._levy_stable.levyst', 'scipy.stats._levy_stable', 'scipy.stats._axis_nan_policy', 'scipy.stats._entropy', 'scipy.stats.distributions', 'scipy._lib._bunch', 'scipy.stats._stats_mstats_common', 'scipy.stats._mstats_basic', 'scipy.stats._common', 'scipy.stats._hypotests', 'scipy.stats._resampling', 'scipy.stats._binomtest', 'scipy.stats._stats_py', 'scipy.stats._variation', 'scipy.stats._ansari_swilk_statistics', 'scipy.stats._wilcoxon', 'scipy.stats._fit', 'scipy.stats._relative_risk', 'scipy.stats._crosstab', 'scipy.stats._odds_ratio', 'scipy.stats.contingency', 'scipy.stats._morestats', 'scipy.stats._multicomp', 'scipy.stats._binned_statistic', 'scipy.stats._mvn', 'scipy.stats._kde', 'scipy.stats._mstats_extras', 'scipy.stats.mstats', 'scipy.stats._covariance', 'scipy.stats._rcont.rcont', 'scipy.stats._rcont', 'scipy.stats._qmvnt', 'scipy.stats._multivariate', 'scipy.stats._page_trend_test', 'scipy.stats._mannwhitneyu', 'scipy.stats._bws_test', 'scipy.stats._sensitivity_analysis', 'scipy.stats._survival', 'scipy.stats._new_distributions', 'scipy.ndimage._ni_support', 'scipy.ndimage._nd_image', 'scipy.ndimage._ni_docstrings', 'scipy.ndimage._rank_filter_1d', 'scipy.ndimage._filters', 'scipy.ndimage._fourier', 'scipy.ndimage._interpolation', '_ni_label', 'scipy.ndimage._ni_label', 'scipy.ndimage._morphology', 'scipy.ndimage._measurements', 'scipy.ndimage._ndimage_api', 'scipy.ndimage._delegators', 'scipy.ndimage._support_alternative_backends', 'scipy.ndimage.filters', 'scipy.ndimage.fourier', 'scipy.ndimage.interpolation', 'scipy.ndimage.measurements', 'scipy.ndimage.morphology', 'scipy.ndimage', 'scipy.stats._mgc', 'scipy.stats._correlation', 'scipy.stats.biasedurn', 'scipy.stats.kde', 'scipy.stats.morestats', 'scipy.stats.mstats_basic', 'scipy.stats.mstats_extras', 'scipy.stats.mvn', 'scipy.stats.stats', 'scipy.stats', 'scipy.fftpack._helper', 'scipy.fftpack._basic', 'scipy.fftpack.convolve', 'scipy.fftpack._pseudo_diffs', 'scipy.fftpack._realtransforms', 'scipy.fftpack.basic', 'scipy.fftpack.helper', 'scipy.fftpack.pseudo_diffs', 'scipy.fftpack.realtransforms', 'scipy.fftpack', 'scipy.signal._sigtools', 'scipy.signal.windows._windows', 'scipy.signal.windows.windows', 'scipy.signal.windows', 'scipy.signal._waveforms', 'scipy.signal._max_len_seq_inner', 'scipy.signal._max_len_seq', 'scipy.signal._upfirdn_apply', 'scipy.signal._upfirdn', 'scipy.signal._spline', 'scipy.signal._arraytools', 'scipy.signal._filter_design', 'scipy.signal._lti_conversion', 'scipy.signal._ltisys', 'scipy.signal._fir_filter_design', 'scipy.signal._sosfilt', 'scipy.signal._signaltools', 'scipy.signal._spline_filters', 'scipy.signal._savitzky_golay', 'scipy.signal._spectral_py', 'scipy.signal._short_time_fft', 'scipy.signal._wavelets', 'scipy.signal._peak_finding_utils', 'scipy.signal._peak_finding', 'scipy.signal._czt', 'scipy.signal.bsplines', 'scipy.signal.filter_design', 'scipy.signal.fir_filter_design', 'scipy.signal.lti_conversion', 'scipy.signal.ltisys', 'scipy.signal.spectral', 'scipy.signal.signaltools', 'scipy.signal.waveforms', 'scipy.signal.wavelets', 'scipy.signal.spline', 'scipy.signal', 'arviz.stats.density_utils', 'numba._version', 'numba.misc', 'numba.misc.init_utils', 'numba.core', 'llvmlite._version', 'llvmlite', 'llvmlite.binding.common', 'llvmlite.utils', 'llvmlite.binding.ffi', 'llvmlite.binding.dylib', 'llvmlite.binding.targets', 'llvmlite.binding.object_file', 'llvmlite.binding.executionengine', 'llvmlite.binding.initfini', 'llvmlite.binding.linker', 'llvmlite.binding.typeref', 'llvmlite.binding.value', 'llvmlite.binding.context', 'llvmlite.binding.module', 'llvmlite.binding.options', 'llvmlite.binding.passmanagers', 'llvmlite.binding.transforms', 'llvmlite.binding.analysis', 'llvmlite.binding.orcjit', 'llvmlite.binding', 'numba.core.config', 'numba.core.utils', 'numba.core.types.abstract', 'numba.core.errors', 'numba.core.types.common', 'numba.core.typeconv.castgraph', 'numba.core.typeconv', 'numba.core.consts', 'numba.core.ir', 'numba.core.types.misc', 'numba.core.types.containers', 'numba.core.types.functions', 'numba.core.types.iterators', 'llvmlite.ir._utils', 'llvmlite.ir.types', 'llvmlite.ir.values', 'llvmlite.ir.context', 'llvmlite.ir.module', 'llvmlite.ir.instructions', 'llvmlite.ir.builder', 'llvmlite.ir.transforms', 'llvmlite.ir', 'numba.core.types.npytypes', 'numba.np', 'numba.np.npdatetime_helpers', 'numba.core.types.scalars', 'numba.core.types.function_type', 'numba.core.types', 'numba.core.typeconv._typeconv', 'numba.core.typeconv.typeconv', 'numba.core.typeconv.rules', 'numba.core.targetconfig', 'numba.core.cpu_options', 'numba.core.typing.templates', 'numba.core.datamodel.manager', 'numba.core.datamodel.packer', 'numba.core.datamodel.registry', 'numba.core.datamodel.models', 'numba.core.datamodel', 'numba.core.debuginfo', 'numba.core.cgutils', 'numba.np.numpy_support', 'numba.core.typing.typeof', 'numba.core.typing.context', 'numba.core.typing', 'numba.core.typing.asnumbatype', 'numba.misc.special', 'numba.stencils', 'numba.core.imputils', 'numba._helperlib', 'numba.core.itanium_mangler', 'numba.core.funcdesc', 'numba.core.generators', 'numba.core.removerefctpass', 'numba._dynfunc', 'numba.core.environment', 'numba.core.controlflow', 'numba.core.analysis', 'numba.misc.firstlinefinder', 'numba.core.lowering', 'numba.cloudpickle.cloudpickle', 'numba.cloudpickle', 'numba.core.serialize', 'numba.core.pythonapi', 'numba.core.extending', 'numba.core.transforms', 'numba.core.postproc', 'numba.core.rewrites.registry', 'numba.core.rewrites.static_getitem', 'numba.core.rewrites.static_raise', 'numba.core.rewrites.static_binop', 'numba.core.rewrites.ir_print', 'numba.core.rewrites', 'numba.core.ir_utils', 'numba.core.descriptors', 'numba._devicearray', 'numba._dispatcher', 'numba.core.tracing', 'numba.core.byteflow', 'numba.core.unsafe', 'numba.core.unsafe.eh', 'numba.cpython', 'numba.cpython.unsafe', 'numba.cpython.unsafe.tuple', 'numba.core.interpreter', 'numba.core.bytecode', 'numba.core.event', 'numba.core.compiler_lock', 'numba.core.typeinfer', 'numba.stencils.stencilparfor', 'numba.core.typing.npydecl', 'numba.parfors.array_analysis', 'numba.parfors.parfor', 'numba.core.sigutils', 'numba.parfors.parfor_lowering_utils', 'numba.parfors.parfor_lowering', 'numba.parfors', 'numba.core.typing.builtins', 'numba.extending', 'numba.cpython.builtins', 'numba.core.base', 'numba.core.callconv', 'numba.core.callwrapper', 'numba.core.llvm_bindings', 'numba.core.runtime.nrtdynmod', 'numba.core.runtime._nrt_python', 'numba.core.runtime.nrt', 'numba.core.runtime', 'numba.core.runtime.nrtopt', 'numba.misc.inspection', 'numba.misc.llvm_pass_timings', 'numba.core.codegen', 'numba.core.intrinsics', 'numba.core.externals', 'numba.core.fastmathpass', 'numba.core.options', 'numba.core.entrypoints', 'numba.np.ufunc_db', 'numba.core.cpu', 'numba.core.compiler_machinery', 'numba.core.ssa', 'numba.core.untyped_passes', 'numba.core.annotations', 'numba.core.annotations.type_annotations', 'numba.core.typed_passes', 'numba.core.pylowering', 'numba.core.object_mode_passes', 'numba.core.compiler', 'numba.misc.appdirs', 'numba.core.caching', 'numba.core.dispatcher', 'numba.core.registry', 'numba.stencils.stencil', 'numba.core.decorators', 'numba.np.ufunc._internal', 'numba.np.ufunc.wrappers', 'numba.core.target_extension', 'numba.np.ufunc.sigparse', 'numba.np.ufunc.ufuncbuilder', 'numba.np.ufunc.parallel', 'numba.np.ufunc.ufunc_base', 'numba.np.ufunc.dufunc', 'numba.np.ufunc.gufunc', 'numba.np.ufunc.decorators', 'numba.np.ufunc.array_exprs', 'numba.np.ufunc', 'numba.experimental.jitclass.decorators', 'numba.experimental.jitclass._box', 'numba.experimental.jitclass.boxing', 'numba.experimental.jitclass.overloads', 'numba.experimental.jitclass', 'numba.experimental', 'numba.core.withcontexts', 'numba.typed', 'numba', 'numba.misc.quicksort', 'numba.misc.mergesort', 'numba.cpython.slicing', 'numba.np.arrayobj', 'numba.np.npdatetime', 'numba.np.math', 'numba.cpython.unsafe.numbers', 'numba.cpython.mathimpl', 'numba.np.math.cmathimpl', 'numba.np.math.mathimpl', 'numba.np.math.numbers', 'numba.np.npyfuncs', 'numba.np.npyimpl', 'arviz.stats.stats_utils', 'arviz.stats.diagnostics', 'xarray_einstats.linalg', 'xarray_einstats.accessors', 'xarray_einstats', 'xarray_einstats.stats', 'arviz.stats.stats', 'arviz.stats.stats_refitting', 'arviz.stats', 'arviz.plots.plot_utils', 'arviz.plots.autocorrplot', 'arviz.plots.bpvplot', 'arviz.plots.bfplot', 'arviz.plots.compareplot', 'arviz.plots.densityplot', 'arviz.plots.distcomparisonplot', 'arviz.plots.distplot', 'arviz.plots.dotplot', 'numba.core.typing.cffi_utils', 'numba.core.typing.cmathdecl', 'numba.core.typing.enumdecl', 'numba.core.typing.collections', 'numba.core.typing.listdecl', 'numba.core.typing.mathdecl', 'numba.core.typing.setdecl', 'numba.core.typing.dictdecl', 'numba.core.typing.arraydecl', 'numba.core.typing.npdatetime', 'numba.core.typing.ctypes_utils', 'numba.core.typing.bufproto', 'numba.core.unsafe.bytes', 'numba.cpython.randomimpl', 'numba.cpython.hashing', 'numba.cpython.unicode_support', 'numba.cpython.unicode', 'numba.cpython.charseq', 'numba.cpython.enumimpl', 'numba.cpython.heapq', 'numba.cpython.iterators', 'numba.cpython.listobj', 'numba.core.optional', 'numba.cpython.numbers', 'numba.cpython.rangeobj', 'numba.cpython.setobj', 'numba.cpython.tupleobj', 'numba.np.unsafe', 'numba.np.unsafe.ndarray', 'numba.core.inline_closurecall', 'numba.misc.gdb_hook', 'numba.misc.literal', 'numba.np.linalg', 'numba.np.arraymath', 'numba.np.random', 'numba.np.random.generator_core', 'numba.np.random._constants', 'numba.np.random.distributions', 'numba.np.random.random_methods', 'numba.np.random.generator_methods', 'numba.np.polynomial', 'numba.np.polynomial.polynomial_core', 'numba.np.polynomial.polynomial_functions', 'numba.typed.typedobjectutils', 'numba.typed.dictobject', 'numba.typed.typeddict', 'numba.typed.dictimpl', 'numba.typed.listobject', 'numba.typed.typedlist', 'numba.core.ccallback', 'numba.experimental.function_type', 'numba.cpython.cmathimpl', 'numba.cpython.printimpl', 'numba.misc.cffiimpl', 'numba.experimental.jitclass.base', 'numba.core.runtime.context', 'arviz.stats.ecdf_utils', 'arviz.plots.ecdfplot', 'arviz.plots.elpdplot', 'arviz.plots.energyplot', 'arviz.plots.essplot', 'arviz.plots.forestplot', 'arviz.plots.hdiplot', 'arviz.plots.kdeplot', 'arviz.plots.khatplot', 'arviz.plots.lmplot', 'arviz.plots.loopitplot', 'arviz.plots.mcseplot', 'arviz.plots.pairplot', 'arviz.plots.parallelplot', 'arviz.plots.posteriorplot', 'arviz.plots.ppcplot', 'arviz.plots.rankplot', 'arviz.plots.separationplot', 'arviz.plots.traceplot', 'arviz.plots.tsplot', 'arviz.plots.violinplot', 'arviz.plots', 'bokeh.core.property', 'bokeh.core.property.descriptor_factory', 'bokeh.core.property.singletons', 'bokeh.core.property.wrappers', 'bokeh.core.property.descriptors', 'bokeh.core.property.override', 'bokeh.core.has_props', 'bokeh.core.property._sphinx', 'bokeh.core.property.bases', 'bokeh.core.property.alias', 'bokeh.core.property.primitive', 'bokeh.core.property.datetime', 'bokeh.core.property.either', 'bokeh.core.property.enum', 'bokeh.core.property.numeric', 'bokeh.core.property.container', 'bokeh.core.property.factors', 'bokeh.core.property.aliases', 'bokeh.core.property.any', 'bokeh.core.property.auto', 'bokeh.core.property.string', 'bokeh.core.property.color', 'bokeh.core.property.constraints', 'bokeh.core.property.instance', 'bokeh.core.property.nothing', 'bokeh.core.property.nullable', 'bokeh.core.property.serialized', 'bokeh.core.property.struct', 'bokeh.core.property.vectorization', 'bokeh.core.property.visual', 'bokeh.core.property.dataspec', 'bokeh.core.property.include', 'bokeh.core.property.json', 'bokeh.core.property.data_frame', 'bokeh.core.property.readonly', 'bokeh.core.property.required', 'bokeh.core.property.text_like', 'bokeh.core.property.validation', 'bokeh.core.properties', 'bokeh.events', 'bokeh.themes._caliber', 'bokeh.themes._carbon', 'bokeh.themes._contrast', 'bokeh.themes._dark_minimal', 'bokeh.themes._light_minimal', 'bokeh.themes._night_sky', 'bokeh.themes.theme', 'bokeh.themes', 'bokeh.util.functions', 'bokeh.util.callback_manager', 'bokeh.model.docs', 'bokeh.model.util', 'bokeh.model.model', 'bokeh.model.data_model', 'bokeh.model', 'bokeh.core.property_mixins', 'bokeh.core.validation.issue', 'bokeh.core.validation.errors', 'bokeh.core.validation.warnings', 'bokeh.core.validation.check', 'bokeh.core.validation.decorators', 'bokeh.core.validation', 'bokeh.models.callbacks', 'bokeh.models.filters', 'bokeh.models.selections', 'bokeh.models.sources', 'bokeh.models.transforms', 'bokeh.models.mappers', 'bokeh.models.tickers', 'bokeh.core.property_aliases', 'bokeh.models.graphics', 'bokeh.models.glyph', 'bokeh.models.glyphs', 'bokeh.models.formatters', 'bokeh.models.labeling', 'bokeh.models.ranges', 'bokeh.models.scales', 'bokeh.models.coordinates', 'bokeh.models.css', 'bokeh.models.nodes', 'bokeh.models.ui.ui_element', 'bokeh.models.dom', 'bokeh.models.ui.dialogs', 'bokeh.models.ui.examiner', 'bokeh.models.ui.panes', 'bokeh.models.ui.floating', 'bokeh.models.ui.icons', 'bokeh.models.ui.menus', 'bokeh.models.ui.panels', 'bokeh.models.selectors', 'bokeh.models.ui.tooltips', 'bokeh.models.ui', 'bokeh.models.renderers.renderer', 'bokeh.models.renderers.glyph_renderer', 'bokeh.models.renderers.contour_renderer', 'bokeh.models.expressions', 'bokeh.models.graphs', 'bokeh.models.renderers.graph_renderer', 'bokeh.models.tiles', 'bokeh.models.renderers.tile_renderer', 'bokeh.models.renderers', 'bokeh.models.axes', 'bokeh.models.canvas', 'bokeh.models.comparisons', 'bokeh.models.grids', 'bokeh.models.layouts', 'xyzservices.lib', 'xyzservices.providers', 'xyzservices', 'bokeh.core.query', 'bokeh.models.annotations.annotation', 'bokeh.models.annotations.arrows', 'bokeh.models.annotations.dimensional', 'bokeh.models.common', 'bokeh.models.common.properties', 'bokeh.models.annotations.geometry', 'bokeh.models.annotations.html.html_annotation', 'bokeh.models.annotations.html.labels', 'bokeh.models.annotations.html.toolbars', 'bokeh.models.annotations.html', 'bokeh.models.annotations.labels', 'bokeh.models.annotations.legends', 'bokeh.models.annotations', 'bokeh.models.misc.group_by', 'bokeh.models.misc', 'bokeh.models.tools', 'bokeh.models.plots', 'bokeh.models.map_plots', 'bokeh.models.text', 'bokeh.models.textures', 'bokeh.models.widgets.widget', 'bokeh.models.widgets.buttons', 'bokeh.models.widgets.groups', 'bokeh.models.widgets.indicators', 'bokeh.models.widgets.inputs', 'bokeh.models.widgets.markups', 'bokeh.models.widgets.pickers', 'bokeh.models.widgets.sliders', 'bokeh.models.widgets.tables', 'bokeh.models.widgets', 'bokeh.models', 'bokeh.transform', 'bokeh.util.options', 'bokeh.plotting._legends', 'bokeh.plotting._renderer', 'bokeh.plotting._graph', 'bokeh.plotting._plot', 'bokeh.plotting._stack', 'bokeh.plotting._tools', 'bokeh.plotting.contour', 'bokeh.plotting._docstring', 'bokeh.plotting._decorators', 'bokeh.plotting.glyph_api', 'bokeh.plotting._figure', 'bokeh.plotting.gmap', 'bokeh.plotting.graph', 'bokeh.core.templates', 'bokeh.util.version', 'bokeh.document.json', 'bokeh.document.events', 'bokeh.document.locking', 'bokeh.document.callbacks', 'bokeh.util.datatypes', 'bokeh.document.models', 'bokeh.document.modules', 'bokeh.document.document', 'bokeh.document', 'bokeh.util.token', 'bokeh.resources', 'bokeh.io.state', 'bokeh.io.doc', 'bokeh.util.compiler', 'bokeh.embed.util', 'bokeh.embed.bundle', 'bokeh.core.json_encoder', 'bokeh.embed.wrappers', 'bokeh.embed.elements', 'bokeh.embed.server', 'bokeh.embed.standalone', 'bokeh.embed', 'bokeh.io.util', 'bokeh.io.export', 'bokeh.io.notebook', 'bokeh.io.output', 'bokeh.io.saving', 'bokeh.util.browser', 'bokeh.io.showing', 'bokeh.io', 'bokeh.layouts', 'bokeh.plotting', 'arviz.plots.backends', 'arviz.wrappers.base', 'arviz.wrappers.wrap_stan', 'arviz.wrappers.wrap_pymc', 'arviz.wrappers', 'arviz.preview', 'colorcet._version', 'colorcet', 'arviz', 'arviz.plots.backends.bokeh.autocorrplot', 'arviz.plots.backends.bokeh.compareplot', 'arviz.plots.backends.bokeh.densityplot', 'arviz.plots.backends.bokeh.distplot', 'arviz.plots.backends.bokeh.elpdplot', 'arviz.plots.backends.bokeh.energyplot', 'arviz.plots.backends.bokeh.essplot', 'arviz.plots.backends.bokeh.forestplot', 'arviz.plots.backends.bokeh.hdiplot', 'arviz.plots.backends.bokeh.kdeplot', 'arviz.plots.backends.bokeh.khatplot', 'arviz.plots.backends.bokeh.loopitplot', 'arviz.plots.backends.bokeh.mcseplot', 'arviz.plots.backends.bokeh.pairplot', 'arviz.plots.backends.bokeh.parallelplot', 'arviz.plots.backends.bokeh.ppcplot', 'arviz.plots.backends.bokeh.posteriorplot', 'arviz.plots.backends.bokeh.rankplot', 'arviz.plots.backends.bokeh.traceplot', 'arviz.plots.backends.bokeh.violinplot', 'arviz.plots.backends.bokeh', 'arviz.plots.backends.matplotlib.autocorrplot', 'arviz.plots.backends.matplotlib.bpvplot', 'arviz.plots.backends.matplotlib.compareplot', 'arviz.plots.backends.matplotlib.densityplot', 'arviz.plots.backends.matplotlib.distplot', 'arviz.plots.backends.matplotlib.elpdplot', 'arviz.plots.backends.matplotlib.energyplot', 'arviz.plots.backends.matplotlib.essplot', 'arviz.plots.backends.matplotlib.forestplot', 'arviz.plots.backends.matplotlib.hdiplot', 'arviz.plots.backends.matplotlib.kdeplot', 'arviz.plots.backends.matplotlib.khatplot', 'arviz.plots.backends.matplotlib.loopitplot', 'arviz.plots.backends.matplotlib.mcseplot', 'mpl_toolkits.axes_grid1.axes_size', 'mpl_toolkits.axes_grid1.axes_divider', 'mpl_toolkits.axes_grid1.mpl_axes', 'mpl_toolkits.axes_grid1.axes_grid', 'mpl_toolkits.axes_grid1.parasite_axes', 'mpl_toolkits.axes_grid1', 'arviz.plots.backends.matplotlib.pairplot', 'arviz.plots.backends.matplotlib.parallelplot', 'arviz.plots.backends.matplotlib.posteriorplot', 'matplotlib._animation_data', 'matplotlib.animation', 'arviz.plots.backends.matplotlib.ppcplot', 'arviz.plots.backends.matplotlib.rankplot', 'arviz.plots.backends.matplotlib.traceplot', 'arviz.plots.backends.matplotlib.violinplot', 'arviz.plots.backends.matplotlib', 'arviz.tests', 'arviz.tests.base_tests', 'arviz.tests.external_tests', 'astropy.utils.exceptions', 'astropy.utils.decorators', 'astropy.utils.introspection', 'astropy.utils.codegen', 'astropy.utils.misc', 'astropy.utils.compat.numpycompat', 'astropy.utils.compat', 'astropy.utils.shapes', 'astropy.utils', 'astropy.utils.system_info', 'astropy._version', 'astropy.version', 'astropy.extern', 'astropy.extern.configobj', 'astropy.extern.configobj.configobj', 'astropy.extern.configobj.validate', 'astropy.config.paths', 'astropy.config.configuration', 'astropy.config', 'astropy.utils.state', 'astropy.tests', 'astropy.tests.runner', 'astropy.logger', 'astropy.utils._compiler', 'astropy', 'astropy.config.tests', 'astropy.units.errors', 'astropy.units.utils', 'astropy.units.core', 'astropy.utils.metadata.core', 'astropy.utils.metadata.exceptions', 'astropy.utils.metadata.utils', 'astropy.utils.metadata.merge', 'astropy.utils.metadata', 'astropy.utils.data_info', 'astropy.units.format.base', 'astropy.utils.parsing', 'astropy.units.format.cds', 'astropy.units.format.console', 'astropy.units.format.utils', 'astropy.units.format.generic', 'astropy.units.format.fits', 'astropy.units.format.latex', 'astropy.units.format.ogip', 'astropy.units.format.unicode_format', 'astropy.units.format.vounit', 'astropy.units.format', 'astropy.units.quantity_helper.converters', 'erfa._version', 'erfa.ufunc', 'erfa.version', 'erfa.core', 'erfa.helpers', 'erfa', 'astropy.units.structured', 'astropy.units.quantity_helper.helpers', 'astropy.units.quantity_helper.erfa', 'numpy.ma.mrecords', 'numpy.lib.recfunctions', 'astropy.units.quantity_helper.function_helpers', 'astropy.units.quantity_helper.scipy_special', 'astropy.units.quantity_helper', 'astropy.units.quantity', 'astropy.constants.constant', 'astropy.constants.codata2018', 'astropy.constants.iau2015', 'astropy.constants.config', 'astropy.constants.si', 'astropy.units.si', 'astropy.extern.ply', 'astropy.extern.ply.yacc', 'astropy.units.format.generic_parsetab', 'astropy.extern.ply.lex', 'astropy.units.format.generic_lextab', 'astropy.units.astrophys', 'astropy.units.cgs', 'astropy.units.misc', 'astropy.units.physical', 'astropy.units.decorators', 'astropy.units.imperial', 'astropy.units.photometric', 'astropy.units.required_by_vounit', 'astropy.units.function.core', 'astropy.units.function.logarithmic', 'astropy.units.function.mixin', 'astropy.units.function.units', 'astropy.units.function', 'astropy.units.equivalencies', 'astropy.units', 'astropy.constants.cgs', 'astropy.constants.utils', 'astropy.constants', 'astropy.constants.tests', 'astropy.modeling.utils', 'astropy.nddata.bitmask', 'astropy.utils.compat.optional_deps', 'astropy.utils.masked.function_helpers', 'astropy.utils.masked.core', 'astropy.utils.masked', 'astropy.coordinates.angles.errors', 'astropy.coordinates.angles.formats', 'astropy.coordinates.angles.core', 'astropy.coordinates.representation.base', 'astropy.coordinates.representation.cartesian', 'astropy.coordinates.distances', 'astropy.coordinates.matrix_utilities', 'astropy.coordinates.representation.spherical', 'astropy.coordinates.representation.cylindrical', 'astropy.coordinates.representation.geodetic', 'astropy.coordinates.representation', 'astropy.coordinates.angles.utils', 'astropy.coordinates.angles', 'ftplib', 'astropy_iers_data._version', 'astropy_iers_data', 'astropy.utils.data', 'astropy.coordinates.errors', 'astropy.coordinates.earth', 'astropy.coordinates.attributes', 'astropy.utils.console', 'astropy.table.bst', 'astropy.table.sorted_array', 'astropy.table.index', 'astropy.table.groups', 'astropy.table.pprint', 'astropy.table._column_mixins', 'astropy.table.column', 'astropy.io', 'astropy.io.registry.base', 'astropy.io.registry.core', 'astropy.io.registry.compat', 'astropy.io.registry.interface', 'astropy.io.registry', 'astropy.table.info', 'astropy.table.connect', 'astropy.table._np_utils', 'astropy.table.np_utils', 'astropy.table.mixins', 'astropy.table.mixins.registry', 'astropy.table.ndarray_mixin', 'astropy.table.row', 'astropy.table.table', 'astropy.table.operations', 'astropy.table.serialize', 'sortedcontainers.sortedlist', 'sortedcontainers.sortedset', 'sortedcontainers.sorteddict', 'sortedcontainers', 'astropy.table.soco', 'astropy.io.ascii.connect', 'astropy.io.ascii.docs', 'astropy.io.ascii.core', 'astropy.io.ascii.basic', 'astropy.io.ascii.fixedwidth', 'astropy.io.ascii.cds', 'astropy.io.ascii.misc', 'astropy.io.ascii.daophot', 'astropy.table.meta', 'astropy.io.ascii.ecsv', 'astropy.io.ascii.cparser', 'astropy.io.ascii.fastbasic', 'astropy.utils.xml', 'astropy.utils.xml._iterparser', 'astropy.utils.xml.writer', 'astropy.io.ascii.html', 'astropy.io.ascii.ipac', 'astropy.io.ascii.latex', 'astropy.io.ascii.mrt', 'astropy.io.ascii.qdp', 'astropy.io.ascii.rst', 'astropy.io.ascii.sextractor', 'astropy.io.ascii.tdat', 'astropy.io.ascii.ui', 'astropy.io.ascii', 'astropy.io.fits.util', 'astropy.io.fits.verify', 'astropy.io.fits.card', 'astropy.io.fits.column', 'astropy.utils.diff', 'astropy.io.fits.file', 'astropy.io.fits._utils', 'astropy.io.fits.header', 'astropy.io.fits.hdu.base', 'astropy.io.fits.fitsrec', 'astropy.io.fits.hdu.compressed._compression', 'astropy.io.fits.hdu.compressed._quantization', 'astropy.io.fits.hdu.compressed._codecs', 'astropy.io.fits.hdu.compressed.utils', 'astropy.io.fits.hdu.compressed._tiled_compression', 'astropy.io.fits.hdu.image', 'astropy.io.fits.hdu.table', 'astropy.io.fits.hdu.compressed.compbintable', 'astropy.io.fits.hdu.compressed.settings', 'astropy.io.fits.hdu.compressed.header', 'astropy.io.fits.hdu.compressed.section', 'astropy.io.fits.hdu.compressed.compressed', 'astropy.io.fits.hdu.compressed', 'astropy.io.fits.hdu.groups', 'astropy.io.fits.hdu.hdulist', 'astropy.io.fits.hdu.nonstandard', 'astropy.io.fits.hdu.streaming', 'astropy.io.fits.hdu', 'astropy.io.fits.diff', 'astropy.io.fits.convenience', 'astropy.io.fits', 'astropy.time._parse_times', 'astropy.time.utils', 'astropy.extern._strptime', 'astropy.time.time_helper.function_helpers', 'astropy.time.time_helper', 'astropy.time.core', 'astropy.time.formats', 'astropy.time', 'astropy.io.fits.connect', 'astropy.io.misc.pickle_helpers', 'astropy.io.misc', 'astropy.io.misc.pyarrow', 'astropy.io.misc.pyarrow.csv', 'astropy.io.misc.hdf5', 'astropy.io.misc.parquet', 'astropy.io.misc.connect', 'astropy.io.misc.pandas', 'astropy.io.misc.pandas.connect', 'astropy.io.votable.exceptions', 'astropy.utils.xml.iterparser', 'astropy.utils.collections', 'astropy.io.votable.converters', 'astropy.io.votable.util', 'astropy.utils.xml.check', 'astropy.utils.xml.validate', 'astropy.io.votable.xmlutil', 'astropy.io.votable.ucd', 'astropy.io.votable.tablewriter', 'astropy.io.votable.tree', 'astropy.io.votable.table', 'astropy.io.votable', 'astropy.io.votable.connect', 'astropy.table.jsviewer', 'astropy.table', 'astropy.coordinates.transformations.base', 'astropy.coordinates.transformations.affine', 'astropy.coordinates.transformations.function', 'astropy.coordinates.transformations.composite', 'astropy.coordinates.transformations.graph', 'astropy.coordinates.transformations', 'astropy.coordinates.baseframe', 'astropy.coordinates.builtin_frames.altaz', 'astropy.coordinates.builtin_frames.baseradec', 'astropy.utils.iers.iers', 'astropy.utils.iers', 'astropy.coordinates.builtin_frames.utils', 'astropy.coordinates.builtin_frames.cirs', 'astropy.coordinates.builtin_frames.ecliptic', 'astropy.coordinates.builtin_frames.equatorial', 'astropy.coordinates.earth_orientation', 'astropy.coordinates.builtin_frames.fk4', 'astropy.coordinates.builtin_frames.fk5', 'astropy.coordinates.builtin_frames.galactic', 'astropy.coordinates.builtin_frames.icrs', 'astropy.coordinates.builtin_frames.galactocentric', 'astropy.coordinates.builtin_frames.gcrs', 'astropy.coordinates.builtin_frames.hadec', 'astropy.coordinates.builtin_frames.hcrs', 'astropy.coordinates.builtin_frames.itrs', 'astropy.coordinates.builtin_frames.skyoffset', 'astropy.coordinates.builtin_frames.supergalactic', 'astropy.coordinates.erfa_astrom', 'astropy.coordinates.builtin_frames.cirs_observed_transforms', 'astropy.coordinates.builtin_frames.fk4_fk5_transforms', 'astropy.coordinates.builtin_frames.galactic_transforms', 'astropy.coordinates.builtin_frames.icrs_cirs_transforms', 'astropy.coordinates.builtin_frames.icrs_fk5_transforms', 'astropy.coordinates.builtin_frames.icrs_observed_transforms', 'astropy.coordinates.builtin_frames.intermediate_rotation_transforms', 'astropy.coordinates.builtin_frames.itrs_observed_transforms', 'astropy.coordinates.builtin_frames.supergalactic_transforms', 'astropy.coordinates.builtin_frames.ecliptic_transforms', 'astropy.coordinates.builtin_frames.lsr', 'astropy.coordinates.builtin_frames', 'astropy.coordinates.sky_coordinate_parsers', 'astropy.coordinates.sky_coordinate', 'astropy.coordinates.funcs', 'astropy.coordinates.calculation', 'astropy.coordinates.matching', 'astropy.coordinates.name_resolve', 'astropy.coordinates.polarization', 'astropy.coordinates.solar_system', 'astropy.coordinates.spectral_quantity', 'astropy.coordinates.spectral_coordinate', 'astropy.coordinates', 'astropy.wcs._wcs', 'astropy.wcs.docstrings', 'astropy.wcs.wcsapi.utils', 'astropy.wcs.wcsapi.high_level_api', 'astropy.wcs.wcsapi.low_level_api', 'astropy.wcs.wcsapi.high_level_wcs_wrapper', 'astropy.wcs.wcsapi.wrappers.base', 'astropy.wcs.wcsapi.wrappers.sliced_wcs', 'astropy.wcs.wcsapi.wrappers', 'astropy.wcs.wcsapi', 'astropy.wcs.wcsapi.fitswcs', 'astropy.wcs.wcs', 'astropy.wcs.utils', 'astropy.wcs', 'astropy.nddata.nddata_base', 'astropy.nddata.nduncertainty', 'astropy.nddata.nddata', 'astropy.nddata.decorators', 'astropy.nddata.blocks', 'astropy.nddata.flag_collection', 'astropy.nddata.mixins', 'astropy.nddata.mixins.ndarithmetic', 'astropy.nddata.mixins.ndio', 'astropy.nddata.mixins.ndslicing', 'astropy.nddata.compat', 'astropy.nddata.ccddata', 'astropy.nddata.covariance', 'astropy.nddata.nddata_withmixins', 'astropy.nddata.utils', 'astropy.nddata', 'astropy.modeling._fitting_parallel', 'astropy.modeling.optimizers', 'astropy.modeling.bounding_box', 'astropy.modeling.parameters', 'astropy.modeling.core', 'astropy.modeling.spline', 'astropy.modeling.statistic', 'astropy.modeling.fitting', 'astropy.modeling.math_functions', 'astropy.modeling.functional_models', 'astropy.modeling.mappings', 'astropy.modeling.physical_models', 'astropy.modeling.polynomial', 'astropy.modeling.powerlaws', 'astropy.modeling.projections', 'astropy.modeling.rotations', 'astropy.modeling.tabular', 'astropy.modeling.models', 'astropy.modeling.separable', 'astropy.modeling', 'astropy.modeling.convolution', 'astropy.convolution._convolve', 'astropy.convolution.utils', 'astropy.convolution.core', 'astropy.convolution.convolve', 'astropy.convolution.kernels', 'astropy.convolution', 'astropy.convolution.tests', 'astropy.coordinates.tests', 'astropy.coordinates.tests.accuracy', 'astropy.cosmology._src', 'astropy.cosmology._src.io', 'astropy.cosmology._src.units', 'astropy.cosmology._src.io.connect', 'astropy.cosmology.io', 'astropy.cosmology._src.parameter.converter', 'astropy.cosmology._src.parameter.core', 'astropy.cosmology._src.signature_deprecations', 'astropy.cosmology._src.utils', 'astropy.cosmology._src.parameter.dataclass_utils', 'astropy.cosmology._src.parameter.descriptors', 'astropy.cosmology._src.parameter', 'astropy.cosmology._src.core', 'astropy.cosmology._src.default', 'astropy.cosmology.realizations', 'astropy.cosmology._src.traits.baryons', 'astropy.cosmology._src.traits.rhocrit', 'astropy.cosmology._src.traits.scale_factor', 'astropy.cosmology._src.traits.tcmb', 'astropy.cosmology._src.traits', 'astropy.cosmology.traits', 'astropy.cosmology._src.funcs.comparison', 'astropy.cosmology._src.funcs.optimize', 'astropy.cosmology._src.funcs', 'astropy.cosmology._src.units_equivalencies', 'astropy.cosmology.units', 'astropy.cosmology._src.flrw.base', 'astropy.cosmology._src.flrw.scalar_inv_efuncs', 'astropy.cosmology._src.io.builtin.cosmology', 'astropy.cosmology._src.io.builtin.mapping', 'astropy.cosmology._src.io.builtin.row', 'astropy.cosmology._src.io.builtin.utils', 'astropy.cosmology._src.io.builtin.table', 'astropy.cosmology._src.io.builtin.ecsv', 'astropy.cosmology._src.io.builtin.html', 'astropy.cosmology._src.io.builtin.latex', 'astropy.cosmology._src.typing', 'astropy.cosmology._src.io.builtin.model', 'astropy.io.misc.yaml', 'astropy.cosmology._src.io.builtin.yaml', 'astropy.cosmology._src.io.builtin', 'astropy.cosmology._src.flrw.lambdacdm', 'astropy.cosmology._src.flrw.w0cdm', 'astropy.cosmology._src.flrw.w0wacdm', 'astropy.cosmology._src.flrw.w0wzcdm', 'astropy.cosmology._src.flrw.wpwazpcdm', 'astropy.cosmology._src.flrw', 'astropy.cosmology', 'astropy.cosmology._src.tests', 'astropy.cosmology._src.tests.flrw', 'astropy.cosmology._src.tests.funcs', 'astropy.cosmology._src.tests.io', 'astropy.cosmology._src.tests.parameter', 'astropy.io.ascii.tests', 'astropy.io.fits.hdu.compressed.tests', 'astropy.io.fits.scripts', 'astropy.io.fits.tests', 'astropy.io.misc.pyarrow.tests', 'astropy.io.misc.tests', 'astropy.io.registry.tests', 'astropy.io.tests', 'astropy.io.votable.tests', 'astropy.io.votable.validator.html', 'astropy.io.votable.validator.result', 'astropy.io.votable.validator.main', 'astropy.io.votable.validator', 'astropy.modeling.tests', 'astropy.modeling.tests.data', 'astropy.nddata.mixins.tests', 'astropy.nddata.tests', 'astropy.samp.constants', 'astropy.samp.errors', 'astropy.samp.lockfile_helpers', 'astropy.samp.standard_profile', 'astropy.samp.utils', 'astropy.samp.web_profile', 'astropy.samp.hub', 'astropy.samp.client', 'astropy.samp.hub_proxy', 'astropy.samp.integrated_client', 'astropy.samp', 'astropy.samp.tests', 'astropy.stats.bayesian_blocks', 'astropy.stats._stats', 'astropy.stats.funcs', 'astropy.stats.nanfunctions', 'astropy.stats.biweight', 'astropy.stats.circstats', 'astropy.stats.info_theory', 'astropy.stats.jackknife', 'astropy.stats._fast_sigma_clip', 'astropy.stats.sigma_clipping', 'astropy.stats.spatial', 'astropy.stats.histogram', 'astropy.stats', 'astropy.stats.tests', 'astropy.table.mixins.tests', 'astropy.table.scripts', 'astropy.table.tests', '_pytest.fixtures', '_pytest.cacheprovider', '_pytest.capture', '_pytest.debugging', '_pytest.python', '_pytest.python_api', '_pytest.doctest', '_pytest.freeze_support', '_pytest.monkeypatch', '_pytest.tmpdir', '_pytest.pytester', '_pytest.terminal', '_pytest.legacypath', '_pytest.logging', '_pytest.recwarn', 'pytest', 'astropy.tests.figures.helpers', 'astropy.tests.figures', 'astropy.tests.tests', 'astropy.time.tests', 'astropy.timeseries.core', 'astropy.timeseries.sampled', 'astropy.timeseries.io.kepler', 'astropy.timeseries.io', 'astropy.timeseries.binned', 'astropy.timeseries.downsample', 'astropy.timeseries.periodograms.base', 'astropy.timeseries.periodograms.lombscargle._statistics', 'astropy.timeseries.periodograms.lombscargle.implementations.mle', 'astropy.timeseries.periodograms.lombscargle.implementations.chi2_impl', 'astropy.timeseries.periodograms.lombscargle.implementations.utils', 'astropy.timeseries.periodograms.lombscargle.implementations.fast_impl', 'astropy.timeseries.periodograms.lombscargle.implementations.fastchi2_impl', 'astropy.timeseries.periodograms.lombscargle.implementations.cython_impl', 'astropy.timeseries.periodograms.lombscargle.implementations.scipy_impl', 'astropy.timeseries.periodograms.lombscargle.implementations.slow_impl', 'astropy.timeseries.periodograms.lombscargle.implementations.main', 'astropy.timeseries.periodograms.lombscargle.implementations', 'astropy.timeseries.periodograms.lombscargle.core', 'astropy.timeseries.periodograms.lombscargle', 'astropy.timeseries.periodograms.bls._impl', 'astropy.timeseries.periodograms.bls.methods', 'astropy.timeseries.periodograms.bls.core', 'astropy.timeseries.periodograms.bls', 'astropy.timeseries.periodograms.lombscargle_multiband.implementations.mbfast_impl', 'astropy.timeseries.periodograms.lombscargle_multiband.implementations.mbflex_impl', 'astropy.timeseries.periodograms.lombscargle_multiband.implementations.main', 'astropy.timeseries.periodograms.lombscargle_multiband.implementations', 'astropy.timeseries.periodograms.lombscargle_multiband.implementations.mle', 'astropy.timeseries.periodograms.lombscargle_multiband.core', 'astropy.timeseries.periodograms.lombscargle_multiband', 'astropy.timeseries.periodograms', 'astropy.timeseries', 'astropy.timeseries.io.tests', 'astropy.timeseries.periodograms.bls.tests', 'astropy.timeseries.periodograms.lombscargle.implementations.tests', 'astropy.timeseries.periodograms.lombscargle.tests', 'astropy.timeseries.periodograms.lombscargle_multiband.tests', 'astropy.timeseries.tests', 'astropy.uncertainty.function_helpers', 'astropy.uncertainty.core', 'astropy.uncertainty.distributions', 'astropy.uncertainty', 'astropy.uncertainty.tests', 'astropy.units.tests', 'astropy.utils.iers.tests', 'astropy.utils.masked.tests', 'astropy.utils.metadata.tests', 'astropy.utils.tests', 'astropy.utils.xml.tests', 'astropy.visualization.transform', 'astropy.visualization.interval', 'astropy.visualization.stretch', 'astropy.visualization.basic_rgb', 'astropy.visualization.hist', 'astropy.visualization.lupton_rgb', 'astropy.visualization.mpl_normalize', 'astropy.visualization.mpl_style', 'astropy.visualization.time', 'astropy.visualization.units', 'astropy.visualization', 'astropy.visualization.scripts', 'astropy.visualization.scripts.tests', 'astropy.visualization.tests', 'astropy.visualization.wcsaxes.frame', 'astropy.visualization.wcsaxes.axislabels', 'astropy.visualization.wcsaxes.formatter_locator', 'astropy.visualization.wcsaxes.grid_paths', 'astropy.visualization.wcsaxes.ticklabels', 'astropy.visualization.wcsaxes.ticks', 'astropy.visualization.wcsaxes.utils', 'astropy.visualization.wcsaxes.coordinate_helpers', 'astropy.visualization.wcsaxes.coordinate_range', 'astropy.visualization.wcsaxes.coordinates_map', 'astropy.visualization.wcsaxes._auto', 'astropy.visualization.wcsaxes.transforms', 'astropy.visualization.wcsaxes.wcsapi', 'astropy.visualization.wcsaxes.core', 'mpl_toolkits.axes_grid1.anchored_artists', 'astropy.visualization.wcsaxes.helpers', 'astropy.visualization.wcsaxes.patches', 'astropy.visualization.wcsaxes', 'astropy.visualization.wcsaxes.tests', 'astropy.wcs.tests', 'astropy.wcs.wcsapi.tests', 'astropy.wcs.wcsapi.wrappers.tests', 'astropy_iers_data.tests', 'audioread.exceptions', 'audioread.base', 'audioread.ffdec', 'audioread.version', 'audioread', 'autograd.util', 'autograd.wrap_util', 'autograd.tracer', 'autograd.core', 'autograd.extend', 'autograd.builtins', 'autograd.numpy.numpy_wrapper', 'autograd.numpy.numpy_boxes', 'autograd.numpy.numpy_vjps', 'autograd.numpy.fft', 'autograd.numpy.linalg', 'autograd.numpy.numpy_jvps', 'autograd.numpy.numpy_vspaces', 'autograd.numpy.random', 'autograd.numpy', 'autograd.differential_operators', 'autograd', 'autograd.misc.flatten', 'autograd.misc.tracers', 'autograd.misc', 'autograd.scipy.integrate', 'autograd.scipy.signal', 'autograd.scipy.special', 'autograd.scipy.stats.beta', 'autograd.scipy.stats.chi2', 'autograd.scipy.stats.gamma', 'autograd.scipy.stats.norm', 'autograd.scipy.stats.poisson', 'autograd.scipy.stats.t', 'autograd.scipy.stats.multivariate_normal', 'autograd.scipy.stats.dirichlet', 'autograd.scipy.stats', 'autograd.scipy', 'babel.localedata', 'babel.plural', 'babel.core', 'babel', 'babel.localtime._helpers', 'babel.localtime._unix', 'babel.localtime._fallback', 'babel.localtime', 'babel.dates', 'babel.messages.plurals', 'babel.util', 'babel.messages.catalog', 'babel.messages', 'backports', 'betterproto._types', 'betterproto._version', 'betterproto.casing', 'betterproto.grpc', 'grpclib.const', 'grpclib.exceptions', 'grpclib', 'betterproto.grpc.grpclib_client', 'betterproto.lib', 'betterproto.lib.google', 'betterproto.lib.google.protobuf', 'betterproto', 'betterproto.compile', 'betterproto.grpc.util', 'betterproto.lib.google.protobuf.compiler', 'betterproto.compile.naming', 'betterproto.compile.importing', 'betterproto.plugin.models'])\n"
          ]
        }
      ]
    },
    {
      "cell_type": "markdown",
      "source": [
        "# Loops in Python\n",
        "\n",
        "- Need for loops\n",
        "- While Loop\n",
        "- For Loop"
      ],
      "metadata": {
        "id": "fok-UO5xKhqj"
      }
    },
    {
      "cell_type": "code",
      "source": [
        "# While loop example -> program to print the table\n",
        "# Program -> Sum of all digits of a given number\n",
        "# Program -> keep accepting numbers from users till he/she enters a 0 and then find the avg"
      ],
      "metadata": {
        "id": "QTKRez5RKeA0"
      },
      "execution_count": 24,
      "outputs": []
    },
    {
      "cell_type": "code",
      "source": [
        "number = int(input('Enter the input: '))\n",
        "\n",
        "i = 1\n",
        "while i<11:\n",
        "    print(number,'*',i,'=',number *i)\n",
        "    i += 1"
      ],
      "metadata": {
        "colab": {
          "base_uri": "https://localhost:8080/"
        },
        "id": "n-_m4mzmKUfm",
        "outputId": "8f0276ed-f12d-4d39-f96b-e9edd906cb16"
      },
      "execution_count": 27,
      "outputs": [
        {
          "output_type": "stream",
          "name": "stdout",
          "text": [
            "Enter the input: 10\n",
            "10 * 1 = 10\n",
            "10 * 2 = 20\n",
            "10 * 3 = 30\n",
            "10 * 4 = 40\n",
            "10 * 5 = 50\n",
            "10 * 6 = 60\n",
            "10 * 7 = 70\n",
            "10 * 8 = 80\n",
            "10 * 9 = 90\n",
            "10 * 10 = 100\n"
          ]
        }
      ]
    },
    {
      "cell_type": "code",
      "source": [
        "x =1\n",
        "while x<3:\n",
        "    print(x)\n",
        "    x +=1\n",
        "else:\n",
        "    print('Limit crossed')"
      ],
      "metadata": {
        "colab": {
          "base_uri": "https://localhost:8080/"
        },
        "id": "J4fHRLUaNZzs",
        "outputId": "325ea750-c5b2-4815-b9cd-2cfb6053a73c"
      },
      "execution_count": 28,
      "outputs": [
        {
          "output_type": "stream",
          "name": "stdout",
          "text": [
            "1\n",
            "2\n",
            "Limit crossed\n"
          ]
        }
      ]
    },
    {
      "cell_type": "code",
      "source": [
        "# Guessing game\n",
        "# generate a random integer between 1 and 100\n",
        "\n",
        "import random\n",
        "jackpot = random.randint(1,100)\n",
        "\n",
        "\n",
        "guess = int(input('Guess koro: '))\n",
        "counter = 1\n",
        "\n",
        "while guess != jackpot:\n",
        "    if guess < jackpot:\n",
        "       print('galat!guess higher')\n",
        "    else:\n",
        "       print('galat!guess lower')\n",
        "    guess = int(input('guess karo'))\n",
        "    counter += 1\n",
        "else:\n",
        "  print('correct guess')\n",
        "  print('attempts',counter)"
      ],
      "metadata": {
        "colab": {
          "base_uri": "https://localhost:8080/"
        },
        "id": "uzC5Et3COSJH",
        "outputId": "7f154d9b-1ba3-415d-a207-d52785517542"
      },
      "execution_count": 30,
      "outputs": [
        {
          "output_type": "stream",
          "name": "stdout",
          "text": [
            "Guess koro: 33\n",
            "galat!guess lower\n",
            "guess karo22\n",
            "galat!guess higher\n",
            "guess karo25\n",
            "galat!guess higher\n",
            "guess karo29\n",
            "correct guess\n",
            "attempts 4\n"
          ]
        }
      ]
    },
    {
      "cell_type": "code",
      "source": [
        "# For loop demo\n",
        "\n",
        "for i in {1,2,3,4,5}:\n",
        "  print(i)"
      ],
      "metadata": {
        "colab": {
          "base_uri": "https://localhost:8080/"
        },
        "id": "doT_etdARbD4",
        "outputId": "668e4907-9081-44a6-c770-65ea7cec1750"
      },
      "execution_count": 31,
      "outputs": [
        {
          "output_type": "stream",
          "name": "stdout",
          "text": [
            "1\n",
            "2\n",
            "3\n",
            "4\n",
            "5\n"
          ]
        }
      ]
    },
    {
      "cell_type": "markdown",
      "source": [
        "### Program - The current population of a town is 10000. The population of the town is increasing at the rate of 10% per year. You have to write a program to find out the population at the end of each of the last 10 years."
      ],
      "metadata": {
        "id": "233IyHrZSW_z"
      }
    },
    {
      "cell_type": "code",
      "source": [
        "curr_pop = 10000\n",
        "\n",
        "for i in range(10,0,-1):\n",
        "  print(i,curr_pop)\n",
        "  curr_pop = curr_pop - 0.1*curr_pop"
      ],
      "metadata": {
        "colab": {
          "base_uri": "https://localhost:8080/"
        },
        "id": "z0ahMyzISUTL",
        "outputId": "7c97ef54-b021-4cde-ead6-623ad356bbd2"
      },
      "execution_count": 32,
      "outputs": [
        {
          "output_type": "stream",
          "name": "stdout",
          "text": [
            "10 10000\n",
            "9 9000.0\n",
            "8 8100.0\n",
            "7 7290.0\n",
            "6 6561.0\n",
            "5 5904.9\n",
            "4 5314.41\n",
            "3 4782.969\n",
            "2 4304.6721\n",
            "1 3874.20489\n"
          ]
        }
      ]
    },
    {
      "cell_type": "code",
      "source": [],
      "metadata": {
        "id": "oC1BynYGSa0b"
      },
      "execution_count": null,
      "outputs": []
    }
  ]
}